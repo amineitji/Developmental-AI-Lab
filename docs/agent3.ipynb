{
 "cells": [
  {
   "cell_type": "markdown",
   "id": "74eb8609-bd0c-4a26-94be-5cf56d9f58cb",
   "metadata": {},
   "source": [
    "[![Open In Colab](https://colab.research.google.com/assets/colab-badge.svg)](https://colab.research.google.com/github/OlivierGeorgeon/Developmental-AI-Lab/blob/master/docs/agent3.ipynb)"
   ]
  },
  {
   "cell_type": "markdown",
   "id": "0bec58b3-e210-4a78-9610-f6615254de29",
   "metadata": {},
   "source": [
    "# THE AGENT WHO TAMED THE TURTLE"
   ]
  },
  {
   "cell_type": "markdown",
   "id": "ba29481c-395a-4bd9-b29a-61675978c160",
   "metadata": {},
   "source": [
    "# Learning objectives"
   ]
  },
  {
   "cell_type": "markdown",
   "id": "6115513d-6575-4238-b461-8f481542785f",
   "metadata": {},
   "source": [
    "Upon completing this lab, you will be able to assign appropriate valences to interactions, enabling a developmental agent to exhibit exploratory behavior in a simulated environment."
   ]
  },
  {
   "cell_type": "markdown",
   "id": "152512a3-ef97-473a-91a7-9a36fe70ba33",
   "metadata": {},
   "source": [
    "# Setup\n",
    "## Import the turtle environment"
   ]
  },
  {
   "cell_type": "code",
   "execution_count": 2,
   "id": "cf88b7d1-a826-48ff-ba4c-941318495e5f",
   "metadata": {},
   "outputs": [
    {
     "name": "stdout",
     "output_type": "stream",
     "text": [
      "Collecting ColabTurtle\n",
      "  Downloading ColabTurtle-2.1.0.tar.gz (6.8 kB)\n",
      "  Installing build dependencies ... \u001b[?25ldone\n",
      "\u001b[?25h  Getting requirements to build wheel ... \u001b[?25ldone\n",
      "\u001b[?25h  Preparing metadata (pyproject.toml) ... \u001b[?25ldone\n",
      "\u001b[?25hBuilding wheels for collected packages: ColabTurtle\n",
      "  Building wheel for ColabTurtle (pyproject.toml) ... \u001b[?25ldone\n",
      "\u001b[?25h  Created wheel for ColabTurtle: filename=colabturtle-2.1.0-py3-none-any.whl size=7675 sha256=ee163d0da9b4933f548d9e5499e3f3afa939b7c34e71783cf09cfee965649d84\n",
      "  Stored in directory: /home/amine/.cache/pip/wheels/8d/30/a2/2b8e815bd3673383f33c0dd80d33ef7651a7c257c528515158\n",
      "Successfully built ColabTurtle\n",
      "Installing collected packages: ColabTurtle\n",
      "Successfully installed ColabTurtle-2.1.0\n",
      "\n",
      "\u001b[1m[\u001b[0m\u001b[34;49mnotice\u001b[0m\u001b[1;39;49m]\u001b[0m\u001b[39;49m A new release of pip is available: \u001b[0m\u001b[31;49m25.1.1\u001b[0m\u001b[39;49m -> \u001b[0m\u001b[32;49m25.2\u001b[0m\n",
      "\u001b[1m[\u001b[0m\u001b[34;49mnotice\u001b[0m\u001b[1;39;49m]\u001b[0m\u001b[39;49m To update, run: \u001b[0m\u001b[32;49mpip install --upgrade pip\u001b[0m\n"
     ]
    }
   ],
   "source": [
    "!pip3 install ColabTurtle\n",
    "from ColabTurtle.Turtle import *"
   ]
  },
  {
   "cell_type": "markdown",
   "id": "3c493fa3-3725-4832-ae8e-54fe92971c87",
   "metadata": {},
   "source": [
    "## Define the Agent class"
   ]
  },
  {
   "cell_type": "code",
   "execution_count": 3,
   "id": "3f0bf369-48ef-48d7-a92b-3c7ef8dc1daf",
   "metadata": {},
   "outputs": [],
   "source": [
    "class Agent:\n",
    "    def __init__(self, _valences):\n",
    "        \"\"\" Creating our agent \"\"\"\n",
    "        self._valences = _valences\n",
    "        self._action = None\n",
    "        self._predicted_outcome = None\n",
    "\n",
    "    def action(self, _outcome):\n",
    "        \"\"\" tracing the previous cycle \"\"\"\n",
    "        if self._action is not None:\n",
    "            print(f\"Action: {self._action}, Prediction: {self._predicted_outcome}, Outcome: {_outcome}, \" \n",
    "                  f\"Prediction: {self._predicted_outcome == _outcome}, Valence: {self._valences[self._action][_outcome]}\")\n",
    "\n",
    "        \"\"\" Computing the next action to enact \"\"\"\n",
    "        # TODO: Implement the agent's decision mechanism\n",
    "        self._action = 0\n",
    "        # TODO: Implement the agent's anticipation mechanism\n",
    "        self._predicted_outcome = 0\n",
    "        return self._action\n"
   ]
  },
  {
   "cell_type": "markdown",
   "id": "77698bff-5b57-4982-8b61-41b7a6d1286b",
   "metadata": {},
   "source": [
    "## Define the tutle environment class"
   ]
  },
  {
   "cell_type": "markdown",
   "id": "a657998c-4f0c-49b8-acd0-2c0f73590d3f",
   "metadata": {},
   "source": [
    "You don't need to worry about the code of the ColabTurtleEnvironment below.\n",
    "\n",
    "Just know that this environment:\n",
    "* interprets the agent's actions as follows  `0`: move forward, `1`: turn left, `2`: turn right.\n",
    "* returns outcome `1` when the turtle bumps into the border of the window, and `0` otherwise."
   ]
  },
  {
   "cell_type": "code",
   "execution_count": 4,
   "id": "3e9f50cd-19ae-485b-9ef2-53c0e014093d",
   "metadata": {
    "jupyter": {
     "source_hidden": true
    }
   },
   "outputs": [],
   "source": [
    "# @title Initialize the turtle environment\n",
    "\n",
    "BORDER_WIDTH = 20\n",
    "\n",
    "class ColabTurtleEnvironment:\n",
    "\n",
    "    def __init__(self):\n",
    "        \"\"\" Creating the Turtle window \"\"\"\n",
    "        bgcolor(\"lightGray\")\n",
    "        penup()\n",
    "        goto(window_width() / 2, window_height()/2)\n",
    "        face(0)\n",
    "        pendown()\n",
    "        color(\"green\")\n",
    "\n",
    "    def outcome(self, action):\n",
    "        \"\"\" Enacting an action and returning the outcome \"\"\"\n",
    "        _outcome = 0\n",
    "        for i in range(10):\n",
    "            # _outcome = 0\n",
    "            if action == 0:\n",
    "                # move forward\n",
    "                forward(10)\n",
    "            elif action == 1:\n",
    "                # rotate left\n",
    "                left(4)\n",
    "                forward(2)\n",
    "            elif action == 2:\n",
    "                # rotate right\n",
    "                right(4)\n",
    "                forward(2)\n",
    "\n",
    "            # Bump on screen edge and return outcome 1\n",
    "            if xcor() < BORDER_WIDTH:\n",
    "                goto(BORDER_WIDTH, ycor())\n",
    "                _outcome = 1\n",
    "            if xcor() > window_width() - BORDER_WIDTH:\n",
    "                goto(window_width() - BORDER_WIDTH, ycor())\n",
    "                _outcome = 1\n",
    "            if ycor() < BORDER_WIDTH:\n",
    "                goto(xcor(), BORDER_WIDTH)\n",
    "                _outcome = 1\n",
    "            if ycor() > window_height() - BORDER_WIDTH:\n",
    "                goto(xcor(), window_height() -BORDER_WIDTH)\n",
    "                _outcome = 1\n",
    "\n",
    "            # Change color\n",
    "            if _outcome == 0:\n",
    "                color(\"green\")\n",
    "            else:\n",
    "                # Finit l'interaction\n",
    "                color(\"red\")\n",
    "                # if action == 0:\n",
    "                #     break\n",
    "                if action == 1:\n",
    "                    for j in range(10):\n",
    "                        left(4)\n",
    "                elif action == 2:\n",
    "                    for j in range(10):\n",
    "                        right(4)\n",
    "                break\n",
    "\n",
    "        return _outcome"
   ]
  },
  {
   "cell_type": "markdown",
   "id": "64a16db8-1bd6-4e82-9cf6-2b37d996ffe8",
   "metadata": {},
   "source": [
    "## Define the valence of interactions"
   ]
  },
  {
   "cell_type": "code",
   "execution_count": 5,
   "id": "59da5f51-d5db-4cf4-8bd0-036ec11eaad2",
   "metadata": {},
   "outputs": [],
   "source": [
    "valences = [[1, -1], \n",
    "            [-1, -1],\n",
    "            [-1, -1]]"
   ]
  },
  {
   "cell_type": "markdown",
   "id": "b8d25cea-a183-45c5-a624-1345aace245a",
   "metadata": {},
   "source": [
    "The valence table specifies the valence of each interaction. An interaction is a tuple (action, outcome):\n",
    "\n",
    "|| 0 Not bump | 1 Bump|\n",
    "|---|---|---|\n",
    "| 0 Forward| 1 | -1 |\n",
    "| 1 Left | -1 | -1 |\n",
    "| 2 Right| -1 | -1 |"
   ]
  },
  {
   "cell_type": "markdown",
   "id": "f095ec84-3fcd-455c-bb3b-f9a72980048e",
   "metadata": {},
   "source": [
    "## Instantiate the agent"
   ]
  },
  {
   "cell_type": "code",
   "execution_count": 6,
   "id": "180453e4-128a-4f68-bb5f-2d4daf888d86",
   "metadata": {},
   "outputs": [],
   "source": [
    "a = Agent(valences)"
   ]
  },
  {
   "cell_type": "markdown",
   "id": "c16279c4-936b-4f37-a0c9-ca4b77609adf",
   "metadata": {},
   "source": [
    "## Run the simulation "
   ]
  },
  {
   "cell_type": "code",
   "execution_count": 7,
   "id": "17b3c8c8-0cbd-4f64-a97c-61519ad24dd1",
   "metadata": {
    "jupyter": {
     "source_hidden": true
    }
   },
   "outputs": [
    {
     "data": {
      "text/html": [
       "\n",
       "      <svg width=\"800\" height=\"500\">\n",
       "        <rect width=\"100%\" height=\"100%\" fill=\"lightgray\"/>\n",
       "        <line x1=\"400.0\" y1=\"250.0\" x2=\"410.0\" y2=\"250.0\" stroke-linecap=\"round\" style=\"stroke:green;stroke-width:4\"/><line x1=\"410.0\" y1=\"250.0\" x2=\"420.0\" y2=\"250.0\" stroke-linecap=\"round\" style=\"stroke:green;stroke-width:4\"/><line x1=\"420.0\" y1=\"250.0\" x2=\"430.0\" y2=\"250.0\" stroke-linecap=\"round\" style=\"stroke:green;stroke-width:4\"/><line x1=\"430.0\" y1=\"250.0\" x2=\"440.0\" y2=\"250.0\" stroke-linecap=\"round\" style=\"stroke:green;stroke-width:4\"/><line x1=\"440.0\" y1=\"250.0\" x2=\"450.0\" y2=\"250.0\" stroke-linecap=\"round\" style=\"stroke:green;stroke-width:4\"/><line x1=\"450.0\" y1=\"250.0\" x2=\"460.0\" y2=\"250.0\" stroke-linecap=\"round\" style=\"stroke:green;stroke-width:4\"/><line x1=\"460.0\" y1=\"250.0\" x2=\"470.0\" y2=\"250.0\" stroke-linecap=\"round\" style=\"stroke:green;stroke-width:4\"/><line x1=\"470.0\" y1=\"250.0\" x2=\"480.0\" y2=\"250.0\" stroke-linecap=\"round\" style=\"stroke:green;stroke-width:4\"/><line x1=\"480.0\" y1=\"250.0\" x2=\"490.0\" y2=\"250.0\" stroke-linecap=\"round\" style=\"stroke:green;stroke-width:4\"/><line x1=\"490.0\" y1=\"250.0\" x2=\"500.0\" y2=\"250.0\" stroke-linecap=\"round\" style=\"stroke:green;stroke-width:4\"/><line x1=\"500.0\" y1=\"250.0\" x2=\"510.0\" y2=\"250.0\" stroke-linecap=\"round\" style=\"stroke:green;stroke-width:4\"/><line x1=\"510.0\" y1=\"250.0\" x2=\"520.0\" y2=\"250.0\" stroke-linecap=\"round\" style=\"stroke:green;stroke-width:4\"/><line x1=\"520.0\" y1=\"250.0\" x2=\"530.0\" y2=\"250.0\" stroke-linecap=\"round\" style=\"stroke:green;stroke-width:4\"/><line x1=\"530.0\" y1=\"250.0\" x2=\"540.0\" y2=\"250.0\" stroke-linecap=\"round\" style=\"stroke:green;stroke-width:4\"/><line x1=\"540.0\" y1=\"250.0\" x2=\"550.0\" y2=\"250.0\" stroke-linecap=\"round\" style=\"stroke:green;stroke-width:4\"/><line x1=\"550.0\" y1=\"250.0\" x2=\"560.0\" y2=\"250.0\" stroke-linecap=\"round\" style=\"stroke:green;stroke-width:4\"/><line x1=\"560.0\" y1=\"250.0\" x2=\"570.0\" y2=\"250.0\" stroke-linecap=\"round\" style=\"stroke:green;stroke-width:4\"/><line x1=\"570.0\" y1=\"250.0\" x2=\"580.0\" y2=\"250.0\" stroke-linecap=\"round\" style=\"stroke:green;stroke-width:4\"/><line x1=\"580.0\" y1=\"250.0\" x2=\"590.0\" y2=\"250.0\" stroke-linecap=\"round\" style=\"stroke:green;stroke-width:4\"/><line x1=\"590.0\" y1=\"250.0\" x2=\"600.0\" y2=\"250.0\" stroke-linecap=\"round\" style=\"stroke:green;stroke-width:4\"/><line x1=\"600.0\" y1=\"250.0\" x2=\"610.0\" y2=\"250.0\" stroke-linecap=\"round\" style=\"stroke:green;stroke-width:4\"/><line x1=\"610.0\" y1=\"250.0\" x2=\"620.0\" y2=\"250.0\" stroke-linecap=\"round\" style=\"stroke:green;stroke-width:4\"/><line x1=\"620.0\" y1=\"250.0\" x2=\"630.0\" y2=\"250.0\" stroke-linecap=\"round\" style=\"stroke:green;stroke-width:4\"/><line x1=\"630.0\" y1=\"250.0\" x2=\"640.0\" y2=\"250.0\" stroke-linecap=\"round\" style=\"stroke:green;stroke-width:4\"/><line x1=\"640.0\" y1=\"250.0\" x2=\"650.0\" y2=\"250.0\" stroke-linecap=\"round\" style=\"stroke:green;stroke-width:4\"/><line x1=\"650.0\" y1=\"250.0\" x2=\"660.0\" y2=\"250.0\" stroke-linecap=\"round\" style=\"stroke:green;stroke-width:4\"/><line x1=\"660.0\" y1=\"250.0\" x2=\"670.0\" y2=\"250.0\" stroke-linecap=\"round\" style=\"stroke:green;stroke-width:4\"/><line x1=\"670.0\" y1=\"250.0\" x2=\"680.0\" y2=\"250.0\" stroke-linecap=\"round\" style=\"stroke:green;stroke-width:4\"/><line x1=\"680.0\" y1=\"250.0\" x2=\"690.0\" y2=\"250.0\" stroke-linecap=\"round\" style=\"stroke:green;stroke-width:4\"/><line x1=\"690.0\" y1=\"250.0\" x2=\"700.0\" y2=\"250.0\" stroke-linecap=\"round\" style=\"stroke:green;stroke-width:4\"/><line x1=\"700.0\" y1=\"250.0\" x2=\"710.0\" y2=\"250.0\" stroke-linecap=\"round\" style=\"stroke:green;stroke-width:4\"/><line x1=\"710.0\" y1=\"250.0\" x2=\"720.0\" y2=\"250.0\" stroke-linecap=\"round\" style=\"stroke:green;stroke-width:4\"/><line x1=\"720.0\" y1=\"250.0\" x2=\"730.0\" y2=\"250.0\" stroke-linecap=\"round\" style=\"stroke:green;stroke-width:4\"/><line x1=\"730.0\" y1=\"250.0\" x2=\"740.0\" y2=\"250.0\" stroke-linecap=\"round\" style=\"stroke:green;stroke-width:4\"/><line x1=\"740.0\" y1=\"250.0\" x2=\"750.0\" y2=\"250.0\" stroke-linecap=\"round\" style=\"stroke:green;stroke-width:4\"/><line x1=\"750.0\" y1=\"250.0\" x2=\"760.0\" y2=\"250.0\" stroke-linecap=\"round\" style=\"stroke:green;stroke-width:4\"/><line x1=\"760.0\" y1=\"250.0\" x2=\"770.0\" y2=\"250.0\" stroke-linecap=\"round\" style=\"stroke:green;stroke-width:4\"/><line x1=\"770.0\" y1=\"250.0\" x2=\"780.0\" y2=\"250.0\" stroke-linecap=\"round\" style=\"stroke:green;stroke-width:4\"/><line x1=\"780.0\" y1=\"250.0\" x2=\"790.0\" y2=\"250.0\" stroke-linecap=\"round\" style=\"stroke:green;stroke-width:4\"/><line x1=\"790.0\" y1=\"250.0\" x2=\"780\" y2=\"250.0\" stroke-linecap=\"round\" style=\"stroke:green;stroke-width:4\"/><line x1=\"780\" y1=\"250.0\" x2=\"790.0\" y2=\"250.0\" stroke-linecap=\"round\" style=\"stroke:red;stroke-width:4\"/><line x1=\"790.0\" y1=\"250.0\" x2=\"780\" y2=\"250.0\" stroke-linecap=\"round\" style=\"stroke:red;stroke-width:4\"/><line x1=\"780\" y1=\"250.0\" x2=\"790.0\" y2=\"250.0\" stroke-linecap=\"round\" style=\"stroke:red;stroke-width:4\"/><line x1=\"790.0\" y1=\"250.0\" x2=\"780\" y2=\"250.0\" stroke-linecap=\"round\" style=\"stroke:red;stroke-width:4\"/><line x1=\"780\" y1=\"250.0\" x2=\"790.0\" y2=\"250.0\" stroke-linecap=\"round\" style=\"stroke:red;stroke-width:4\"/><line x1=\"790.0\" y1=\"250.0\" x2=\"780\" y2=\"250.0\" stroke-linecap=\"round\" style=\"stroke:red;stroke-width:4\"/><line x1=\"780\" y1=\"250.0\" x2=\"790.0\" y2=\"250.0\" stroke-linecap=\"round\" style=\"stroke:red;stroke-width:4\"/><line x1=\"790.0\" y1=\"250.0\" x2=\"780\" y2=\"250.0\" stroke-linecap=\"round\" style=\"stroke:red;stroke-width:4\"/><line x1=\"780\" y1=\"250.0\" x2=\"790.0\" y2=\"250.0\" stroke-linecap=\"round\" style=\"stroke:red;stroke-width:4\"/><line x1=\"790.0\" y1=\"250.0\" x2=\"780\" y2=\"250.0\" stroke-linecap=\"round\" style=\"stroke:red;stroke-width:4\"/><line x1=\"780\" y1=\"250.0\" x2=\"790.0\" y2=\"250.0\" stroke-linecap=\"round\" style=\"stroke:red;stroke-width:4\"/><line x1=\"790.0\" y1=\"250.0\" x2=\"780\" y2=\"250.0\" stroke-linecap=\"round\" style=\"stroke:red;stroke-width:4\"/>\n",
       "        <g visibility=visible transform=\"rotate(90,780,250.0) translate(762, 232.0)\">\n",
       "<path style=\" stroke:none;fill-rule:evenodd;fill:red;fill-opacity:1;\" d=\"M 18.214844 0.632812 C 16.109375 1.800781 15.011719 4.074219 15.074219 7.132812 L 15.085938 7.652344 L 14.785156 7.496094 C 13.476562 6.824219 11.957031 6.671875 10.40625 7.066406 C 8.46875 7.550781 6.515625 9.15625 4.394531 11.992188 C 3.0625 13.777344 2.679688 14.636719 3.042969 15.027344 L 3.15625 15.152344 L 3.519531 15.152344 C 4.238281 15.152344 4.828125 14.886719 8.1875 13.039062 C 9.386719 12.378906 10.371094 11.839844 10.378906 11.839844 C 10.386719 11.839844 10.355469 11.929688 10.304688 12.035156 C 9.832031 13.09375 9.257812 14.820312 8.96875 16.078125 C 7.914062 20.652344 8.617188 24.53125 11.070312 27.660156 C 11.351562 28.015625 11.363281 27.914062 10.972656 28.382812 C 8.925781 30.84375 7.945312 33.28125 8.238281 35.1875 C 8.289062 35.527344 8.28125 35.523438 8.917969 35.523438 C 10.941406 35.523438 13.074219 34.207031 15.136719 31.6875 C 15.359375 31.417969 15.328125 31.425781 15.5625 31.574219 C 16.292969 32.042969 18.023438 32.964844 18.175781 32.964844 C 18.335938 32.964844 19.941406 32.210938 20.828125 31.71875 C 20.996094 31.625 21.136719 31.554688 21.136719 31.558594 C 21.203125 31.664062 21.898438 32.414062 22.222656 32.730469 C 23.835938 34.300781 25.5625 35.132812 27.582031 35.300781 C 27.90625 35.328125 27.9375 35.308594 28.007812 34.984375 C 28.382812 33.242188 27.625 30.925781 25.863281 28.425781 L 25.542969 27.96875 L 25.699219 27.785156 C 28.945312 23.960938 29.132812 18.699219 26.257812 11.96875 L 26.207031 11.84375 L 27.945312 12.703125 C 31.53125 14.476562 32.316406 14.800781 33.03125 14.800781 C 33.976562 14.800781 33.78125 13.9375 32.472656 12.292969 C 28.519531 7.355469 25.394531 5.925781 21.921875 7.472656 L 21.558594 7.636719 L 21.578125 7.542969 C 21.699219 6.992188 21.761719 5.742188 21.699219 5.164062 C 21.496094 3.296875 20.664062 1.964844 19.003906 0.855469 C 18.480469 0.503906 18.457031 0.5 18.214844 0.632812\"/>\n",
       "</g>\n",
       "      </svg>\n",
       "    "
      ],
      "text/plain": [
       "<IPython.core.display.HTML object>"
      ]
     },
     "metadata": {},
     "output_type": "display_data"
    },
    {
     "name": "stdout",
     "output_type": "stream",
     "text": [
      "Action: 0, Prediction: 0, Outcome: 0, Prediction: True, Valence: 1\n",
      "Action: 0, Prediction: 0, Outcome: 0, Prediction: True, Valence: 1\n",
      "Action: 0, Prediction: 0, Outcome: 0, Prediction: True, Valence: 1\n",
      "Action: 0, Prediction: 0, Outcome: 1, Prediction: False, Valence: -1\n",
      "Action: 0, Prediction: 0, Outcome: 1, Prediction: False, Valence: -1\n",
      "Action: 0, Prediction: 0, Outcome: 1, Prediction: False, Valence: -1\n",
      "Action: 0, Prediction: 0, Outcome: 1, Prediction: False, Valence: -1\n",
      "Action: 0, Prediction: 0, Outcome: 1, Prediction: False, Valence: -1\n",
      "Action: 0, Prediction: 0, Outcome: 1, Prediction: False, Valence: -1\n"
     ]
    }
   ],
   "source": [
    "# @title Run the simulation\n",
    "\n",
    "initializeTurtle()\n",
    "\n",
    "# Parameterize the rendering\n",
    "bgcolor(\"lightGray\")\n",
    "penup()\n",
    "goto(window_width() / 2, window_height()/2)\n",
    "face(0)\n",
    "pendown()\n",
    "color(\"green\")\n",
    "speed(10)\n",
    "\n",
    "e = ColabTurtleEnvironment()\n",
    "\n",
    "outcome = 0\n",
    "for i in range(10):\n",
    "    action = a.action(outcome)\n",
    "    outcome = e.outcome(action)"
   ]
  },
  {
   "cell_type": "markdown",
   "id": "febad285-e8e5-4c24-a46e-e9519a27581c",
   "metadata": {},
   "source": [
    "Observe the turtle moving in a straigt line until it bumps into the border of the window"
   ]
  },
  {
   "cell_type": "markdown",
   "id": "3019f138-a218-44b2-964a-8095fbe891a7",
   "metadata": {},
   "source": [
    "# PRELIMINARY EXERCISE"
   ]
  },
  {
   "cell_type": "markdown",
   "id": "f9daa278-434e-43ce-8520-8fabef69cd83",
   "metadata": {},
   "source": [
    "Copy Agent2 that you designed in your previous assignment to this notebook. \n",
    "\n",
    "Observe how your Agent2 behaves in this environment "
   ]
  },
  {
   "cell_type": "markdown",
   "id": "0d50d96e-4f12-4531-a122-9d13d8bd8639",
   "metadata": {},
   "source": [
    "# ASSIGNMENT"
   ]
  },
  {
   "cell_type": "markdown",
   "id": "199faee9-a546-4d86-8e09-484bf2212523",
   "metadata": {},
   "source": [
    "Implement Agent3 by modifying your previous Agent2 such that it can select 3 possible actions: `0`, `1`, or `2`.\n",
    "\n",
    "Choose the valences of interactions so that the agent does not remain stuck in a corner of the environment. "
   ]
  },
  {
   "cell_type": "markdown",
   "id": "c82b9a28-121c-4379-8701-1d49ad197b8d",
   "metadata": {},
   "source": [
    "## Create Agent3 by overriding the class Agent or your previous class Agent2"
   ]
  },
  {
   "cell_type": "code",
   "execution_count": 8,
   "id": "85b966d4-aca5-4a08-8413-d4906fdbbae8",
   "metadata": {},
   "outputs": [],
   "source": [
    "class Agent3(Agent):\n",
    "    def __init__(self, _valences):\n",
    "        \"\"\"Creating our turtle-taming agent\"\"\"\n",
    "        super().__init__(_valences)\n",
    "        # Memory: stores the last observed outcome for each action\n",
    "        self.memory = {}\n",
    "        # Counter for consecutive correct predictions\n",
    "        self.correct_count = 0\n",
    "        # Boredom threshold\n",
    "        self.boredom_threshold = 4\n",
    "        \n",
    "    def action(self, _outcome):\n",
    "        \"\"\"Tracing the previous cycle\"\"\"\n",
    "        if self._action is not None:\n",
    "            # Update memory with the observed outcome\n",
    "            self.memory[self._action] = _outcome\n",
    "            \n",
    "            # Check if prediction was correct\n",
    "            satisfied = (self._predicted_outcome == _outcome)\n",
    "            \n",
    "            # Update correct prediction counter\n",
    "            if satisfied:\n",
    "                self.correct_count += 1\n",
    "            else:\n",
    "                self.correct_count = 0\n",
    "            \n",
    "            # Calculate valence\n",
    "            valence = self._valences[self._action][_outcome]\n",
    "            \n",
    "            # Check for boredom\n",
    "            bored = (self.correct_count >= self.boredom_threshold)\n",
    "            \n",
    "            print(f\"Action: {self._action}, Prediction: {self._predicted_outcome}, \"\n",
    "                  f\"Outcome: {_outcome}, Prediction: {satisfied}, Valence: {valence}, Bored: {bored}\")\n",
    "        \n",
    "        \"\"\"Computing the next action to enact\"\"\"\n",
    "        # TODO: Implement the agent's decision mechanism\n",
    "        # ✅ IMPLÉMENTATION DU MÉCANISME DE DÉCISION AVEC 3 ACTIONS\n",
    "        if self.correct_count >= self.boredom_threshold:\n",
    "            # Bored: try a different action\n",
    "            import random\n",
    "            possible_actions = [0, 1, 2]\n",
    "            if self._action is not None and self._action in possible_actions:\n",
    "                possible_actions.remove(self._action)\n",
    "            self._action = random.choice(possible_actions)\n",
    "            self.correct_count = 0\n",
    "        else:\n",
    "            # Not bored: choose the action with the best anticipated valence\n",
    "            best_action = None\n",
    "            best_valence = -float('inf')\n",
    "            \n",
    "            for action in [0, 1, 2]:\n",
    "                if action in self.memory:\n",
    "                    predicted_outcome = self.memory[action]\n",
    "                    predicted_valence = self._valences[action][predicted_outcome]\n",
    "                    \n",
    "                    if predicted_valence > best_valence:\n",
    "                        best_valence = predicted_valence\n",
    "                        best_action = action\n",
    "                    elif predicted_valence == best_valence and best_action is not None:\n",
    "                        import random\n",
    "                        best_action = random.choice([action, best_action])\n",
    "            \n",
    "            if best_action is not None:\n",
    "                self._action = best_action\n",
    "            elif self._action is None:\n",
    "                self._action = 0\n",
    "        \n",
    "        # TODO: Implement the agent's anticipation mechanism\n",
    "        # ✅ IMPLÉMENTATION DU MÉCANISME D'ANTICIPATION\n",
    "        if self._action in self.memory:\n",
    "            self._predicted_outcome = self.memory[self._action]\n",
    "        else:\n",
    "            self._predicted_outcome = 0\n",
    "        \n",
    "        return self._action"
   ]
  },
  {
   "cell_type": "markdown",
   "id": "5777dcc2-a3f4-4cfe-bc94-ea1ca1843b7c",
   "metadata": {},
   "source": [
    "## Choose the valence table"
   ]
  },
  {
   "cell_type": "markdown",
   "id": "82b6d2b2-d815-4440-9669-846f317a61d6",
   "metadata": {},
   "source": [
    "Replace the `valences` table by your choice in the code below"
   ]
  },
  {
   "cell_type": "code",
   "execution_count": 9,
   "id": "0f6d0d8f-42bc-4277-bc27-53e604393b49",
   "metadata": {},
   "outputs": [],
   "source": [
    "valences = [[1, -1], \n",
    "            [-1, -1],\n",
    "            [-1, -1]]"
   ]
  },
  {
   "cell_type": "markdown",
   "id": "a07b3f5c-f48c-45ad-bf1d-4a703bac64af",
   "metadata": {},
   "source": [
    "## Test your agent in the TurtleEnvironment"
   ]
  },
  {
   "cell_type": "code",
   "execution_count": 10,
   "id": "d8025780-7d39-442d-9600-b40641e6d6c4",
   "metadata": {},
   "outputs": [
    {
     "data": {
      "text/html": [
       "\n",
       "      <svg width=\"800\" height=\"500\">\n",
       "        <rect width=\"100%\" height=\"100%\" fill=\"lightgray\"/>\n",
       "        <line x1=\"400.0\" y1=\"250.0\" x2=\"410.0\" y2=\"250.0\" stroke-linecap=\"round\" style=\"stroke:green;stroke-width:4\"/><line x1=\"410.0\" y1=\"250.0\" x2=\"420.0\" y2=\"250.0\" stroke-linecap=\"round\" style=\"stroke:green;stroke-width:4\"/><line x1=\"420.0\" y1=\"250.0\" x2=\"430.0\" y2=\"250.0\" stroke-linecap=\"round\" style=\"stroke:green;stroke-width:4\"/><line x1=\"430.0\" y1=\"250.0\" x2=\"440.0\" y2=\"250.0\" stroke-linecap=\"round\" style=\"stroke:green;stroke-width:4\"/><line x1=\"440.0\" y1=\"250.0\" x2=\"450.0\" y2=\"250.0\" stroke-linecap=\"round\" style=\"stroke:green;stroke-width:4\"/><line x1=\"450.0\" y1=\"250.0\" x2=\"460.0\" y2=\"250.0\" stroke-linecap=\"round\" style=\"stroke:green;stroke-width:4\"/><line x1=\"460.0\" y1=\"250.0\" x2=\"470.0\" y2=\"250.0\" stroke-linecap=\"round\" style=\"stroke:green;stroke-width:4\"/><line x1=\"470.0\" y1=\"250.0\" x2=\"480.0\" y2=\"250.0\" stroke-linecap=\"round\" style=\"stroke:green;stroke-width:4\"/><line x1=\"480.0\" y1=\"250.0\" x2=\"490.0\" y2=\"250.0\" stroke-linecap=\"round\" style=\"stroke:green;stroke-width:4\"/><line x1=\"490.0\" y1=\"250.0\" x2=\"500.0\" y2=\"250.0\" stroke-linecap=\"round\" style=\"stroke:green;stroke-width:4\"/><line x1=\"500.0\" y1=\"250.0\" x2=\"510.0\" y2=\"250.0\" stroke-linecap=\"round\" style=\"stroke:green;stroke-width:4\"/><line x1=\"510.0\" y1=\"250.0\" x2=\"520.0\" y2=\"250.0\" stroke-linecap=\"round\" style=\"stroke:green;stroke-width:4\"/><line x1=\"520.0\" y1=\"250.0\" x2=\"530.0\" y2=\"250.0\" stroke-linecap=\"round\" style=\"stroke:green;stroke-width:4\"/><line x1=\"530.0\" y1=\"250.0\" x2=\"540.0\" y2=\"250.0\" stroke-linecap=\"round\" style=\"stroke:green;stroke-width:4\"/><line x1=\"540.0\" y1=\"250.0\" x2=\"550.0\" y2=\"250.0\" stroke-linecap=\"round\" style=\"stroke:green;stroke-width:4\"/><line x1=\"550.0\" y1=\"250.0\" x2=\"560.0\" y2=\"250.0\" stroke-linecap=\"round\" style=\"stroke:green;stroke-width:4\"/><line x1=\"560.0\" y1=\"250.0\" x2=\"570.0\" y2=\"250.0\" stroke-linecap=\"round\" style=\"stroke:green;stroke-width:4\"/><line x1=\"570.0\" y1=\"250.0\" x2=\"580.0\" y2=\"250.0\" stroke-linecap=\"round\" style=\"stroke:green;stroke-width:4\"/><line x1=\"580.0\" y1=\"250.0\" x2=\"590.0\" y2=\"250.0\" stroke-linecap=\"round\" style=\"stroke:green;stroke-width:4\"/><line x1=\"590.0\" y1=\"250.0\" x2=\"600.0\" y2=\"250.0\" stroke-linecap=\"round\" style=\"stroke:green;stroke-width:4\"/><line x1=\"600.0\" y1=\"250.0\" x2=\"610.0\" y2=\"250.0\" stroke-linecap=\"round\" style=\"stroke:green;stroke-width:4\"/><line x1=\"610.0\" y1=\"250.0\" x2=\"620.0\" y2=\"250.0\" stroke-linecap=\"round\" style=\"stroke:green;stroke-width:4\"/><line x1=\"620.0\" y1=\"250.0\" x2=\"630.0\" y2=\"250.0\" stroke-linecap=\"round\" style=\"stroke:green;stroke-width:4\"/><line x1=\"630.0\" y1=\"250.0\" x2=\"640.0\" y2=\"250.0\" stroke-linecap=\"round\" style=\"stroke:green;stroke-width:4\"/><line x1=\"640.0\" y1=\"250.0\" x2=\"650.0\" y2=\"250.0\" stroke-linecap=\"round\" style=\"stroke:green;stroke-width:4\"/><line x1=\"650.0\" y1=\"250.0\" x2=\"660.0\" y2=\"250.0\" stroke-linecap=\"round\" style=\"stroke:green;stroke-width:4\"/><line x1=\"660.0\" y1=\"250.0\" x2=\"670.0\" y2=\"250.0\" stroke-linecap=\"round\" style=\"stroke:green;stroke-width:4\"/><line x1=\"670.0\" y1=\"250.0\" x2=\"680.0\" y2=\"250.0\" stroke-linecap=\"round\" style=\"stroke:green;stroke-width:4\"/><line x1=\"680.0\" y1=\"250.0\" x2=\"690.0\" y2=\"250.0\" stroke-linecap=\"round\" style=\"stroke:green;stroke-width:4\"/><line x1=\"690.0\" y1=\"250.0\" x2=\"700.0\" y2=\"250.0\" stroke-linecap=\"round\" style=\"stroke:green;stroke-width:4\"/><line x1=\"700.0\" y1=\"250.0\" x2=\"710.0\" y2=\"250.0\" stroke-linecap=\"round\" style=\"stroke:green;stroke-width:4\"/><line x1=\"710.0\" y1=\"250.0\" x2=\"720.0\" y2=\"250.0\" stroke-linecap=\"round\" style=\"stroke:green;stroke-width:4\"/><line x1=\"720.0\" y1=\"250.0\" x2=\"730.0\" y2=\"250.0\" stroke-linecap=\"round\" style=\"stroke:green;stroke-width:4\"/><line x1=\"730.0\" y1=\"250.0\" x2=\"740.0\" y2=\"250.0\" stroke-linecap=\"round\" style=\"stroke:green;stroke-width:4\"/><line x1=\"740.0\" y1=\"250.0\" x2=\"750.0\" y2=\"250.0\" stroke-linecap=\"round\" style=\"stroke:green;stroke-width:4\"/><line x1=\"750.0\" y1=\"250.0\" x2=\"760.0\" y2=\"250.0\" stroke-linecap=\"round\" style=\"stroke:green;stroke-width:4\"/><line x1=\"760.0\" y1=\"250.0\" x2=\"770.0\" y2=\"250.0\" stroke-linecap=\"round\" style=\"stroke:green;stroke-width:4\"/><line x1=\"770.0\" y1=\"250.0\" x2=\"780.0\" y2=\"250.0\" stroke-linecap=\"round\" style=\"stroke:green;stroke-width:4\"/><line x1=\"780.0\" y1=\"250.0\" x2=\"790.0\" y2=\"250.0\" stroke-linecap=\"round\" style=\"stroke:green;stroke-width:4\"/><line x1=\"790.0\" y1=\"250.0\" x2=\"780\" y2=\"250.0\" stroke-linecap=\"round\" style=\"stroke:green;stroke-width:4\"/><line x1=\"780\" y1=\"250.0\" x2=\"790.0\" y2=\"250.0\" stroke-linecap=\"round\" style=\"stroke:red;stroke-width:4\"/><line x1=\"790.0\" y1=\"250.0\" x2=\"780\" y2=\"250.0\" stroke-linecap=\"round\" style=\"stroke:red;stroke-width:4\"/><line x1=\"780\" y1=\"250.0\" x2=\"790.0\" y2=\"250.0\" stroke-linecap=\"round\" style=\"stroke:red;stroke-width:4\"/><line x1=\"790.0\" y1=\"250.0\" x2=\"780\" y2=\"250.0\" stroke-linecap=\"round\" style=\"stroke:red;stroke-width:4\"/><line x1=\"780\" y1=\"250.0\" x2=\"790.0\" y2=\"250.0\" stroke-linecap=\"round\" style=\"stroke:red;stroke-width:4\"/><line x1=\"790.0\" y1=\"250.0\" x2=\"780\" y2=\"250.0\" stroke-linecap=\"round\" style=\"stroke:red;stroke-width:4\"/><line x1=\"780\" y1=\"250.0\" x2=\"790.0\" y2=\"250.0\" stroke-linecap=\"round\" style=\"stroke:red;stroke-width:4\"/><line x1=\"790.0\" y1=\"250.0\" x2=\"780\" y2=\"250.0\" stroke-linecap=\"round\" style=\"stroke:red;stroke-width:4\"/><line x1=\"780\" y1=\"250.0\" x2=\"781.995\" y2=\"249.86\" stroke-linecap=\"round\" style=\"stroke:red;stroke-width:4\"/><line x1=\"781.995\" y1=\"249.86\" x2=\"780\" y2=\"249.86\" stroke-linecap=\"round\" style=\"stroke:red;stroke-width:4\"/><line x1=\"780\" y1=\"249.86\" x2=\"781.338\" y2=\"248.374\" stroke-linecap=\"round\" style=\"stroke:red;stroke-width:4\"/><line x1=\"781.338\" y1=\"248.374\" x2=\"780\" y2=\"248.374\" stroke-linecap=\"round\" style=\"stroke:red;stroke-width:4\"/>\n",
       "        <g visibility=visible transform=\"rotate(362,780,248.374) translate(762, 230.374)\">\n",
       "<path style=\" stroke:none;fill-rule:evenodd;fill:red;fill-opacity:1;\" d=\"M 18.214844 0.632812 C 16.109375 1.800781 15.011719 4.074219 15.074219 7.132812 L 15.085938 7.652344 L 14.785156 7.496094 C 13.476562 6.824219 11.957031 6.671875 10.40625 7.066406 C 8.46875 7.550781 6.515625 9.15625 4.394531 11.992188 C 3.0625 13.777344 2.679688 14.636719 3.042969 15.027344 L 3.15625 15.152344 L 3.519531 15.152344 C 4.238281 15.152344 4.828125 14.886719 8.1875 13.039062 C 9.386719 12.378906 10.371094 11.839844 10.378906 11.839844 C 10.386719 11.839844 10.355469 11.929688 10.304688 12.035156 C 9.832031 13.09375 9.257812 14.820312 8.96875 16.078125 C 7.914062 20.652344 8.617188 24.53125 11.070312 27.660156 C 11.351562 28.015625 11.363281 27.914062 10.972656 28.382812 C 8.925781 30.84375 7.945312 33.28125 8.238281 35.1875 C 8.289062 35.527344 8.28125 35.523438 8.917969 35.523438 C 10.941406 35.523438 13.074219 34.207031 15.136719 31.6875 C 15.359375 31.417969 15.328125 31.425781 15.5625 31.574219 C 16.292969 32.042969 18.023438 32.964844 18.175781 32.964844 C 18.335938 32.964844 19.941406 32.210938 20.828125 31.71875 C 20.996094 31.625 21.136719 31.554688 21.136719 31.558594 C 21.203125 31.664062 21.898438 32.414062 22.222656 32.730469 C 23.835938 34.300781 25.5625 35.132812 27.582031 35.300781 C 27.90625 35.328125 27.9375 35.308594 28.007812 34.984375 C 28.382812 33.242188 27.625 30.925781 25.863281 28.425781 L 25.542969 27.96875 L 25.699219 27.785156 C 28.945312 23.960938 29.132812 18.699219 26.257812 11.96875 L 26.207031 11.84375 L 27.945312 12.703125 C 31.53125 14.476562 32.316406 14.800781 33.03125 14.800781 C 33.976562 14.800781 33.78125 13.9375 32.472656 12.292969 C 28.519531 7.355469 25.394531 5.925781 21.921875 7.472656 L 21.558594 7.636719 L 21.578125 7.542969 C 21.699219 6.992188 21.761719 5.742188 21.699219 5.164062 C 21.496094 3.296875 20.664062 1.964844 19.003906 0.855469 C 18.480469 0.503906 18.457031 0.5 18.214844 0.632812\"/>\n",
       "</g>\n",
       "      </svg>\n",
       "    "
      ],
      "text/plain": [
       "<IPython.core.display.HTML object>"
      ]
     },
     "metadata": {},
     "output_type": "display_data"
    },
    {
     "name": "stdout",
     "output_type": "stream",
     "text": [
      "Action: 0, Prediction: 0, Outcome: 0, Prediction: True, Valence: 1, Bored: False\n",
      "Action: 0, Prediction: 0, Outcome: 0, Prediction: True, Valence: 1, Bored: False\n",
      "Action: 0, Prediction: 0, Outcome: 0, Prediction: True, Valence: 1, Bored: False\n",
      "Action: 0, Prediction: 0, Outcome: 1, Prediction: False, Valence: -1, Bored: False\n",
      "Action: 0, Prediction: 1, Outcome: 1, Prediction: True, Valence: -1, Bored: False\n",
      "Action: 0, Prediction: 1, Outcome: 1, Prediction: True, Valence: -1, Bored: False\n",
      "Action: 0, Prediction: 1, Outcome: 1, Prediction: True, Valence: -1, Bored: False\n",
      "Action: 0, Prediction: 1, Outcome: 1, Prediction: True, Valence: -1, Bored: True\n",
      "Action: 1, Prediction: 0, Outcome: 1, Prediction: False, Valence: -1, Bored: False\n"
     ]
    }
   ],
   "source": [
    "initializeTurtle()\n",
    "\n",
    "# Parameterize the rendering\n",
    "bgcolor(\"lightGray\")\n",
    "penup()\n",
    "goto(window_width() / 2, window_height()/2)\n",
    "face(0)\n",
    "pendown()\n",
    "color(\"green\")\n",
    "speed(10)\n",
    "\n",
    "a = Agent3(valences)\n",
    "e = ColabTurtleEnvironment()\n",
    "\n",
    "outcome = 0\n",
    "for i in range(10):\n",
    "    action = a.action(outcome)\n",
    "    outcome = e.outcome(action)"
   ]
  },
  {
   "cell_type": "markdown",
   "id": "ce02f401-3a78-4ced-9b8c-3b602c7be482",
   "metadata": {},
   "source": [
    "## Improve your agent's code"
   ]
  },
  {
   "cell_type": "markdown",
   "id": "3079e9cc-411c-483b-9858-20d53b3dbd7b",
   "metadata": {},
   "source": [
    "If your agent gets stuck against a border or in a corner, modify the valences or the code. \n",
    "Try different ways to handle boredome or to select random actions. \n",
    "In the next lab, you will see how to design an agent that can adapt to the context. "
   ]
  },
  {
   "cell_type": "markdown",
   "id": "ac15a134-34a6-4039-9b43-f8fd76d93b5e",
   "metadata": {},
   "source": [
    "## Report "
   ]
  },
  {
   "cell_type": "markdown",
   "id": "2e661c15-c1ed-4512-a1d9-0fbdb8f91879",
   "metadata": {},
   "source": [
    "Explain what you programmed and what results you observed. Export this document as PDF including your code, the traces you obtained, and your explanations below (no more than a few paragraphs):"
   ]
  },
  {
   "cell_type": "code",
   "execution_count": null,
   "id": "2bbc0899-eee2-404a-baf6-47741067e7d9",
   "metadata": {},
   "outputs": [],
   "source": []
  }
 ],
 "metadata": {
  "kernelspec": {
   "display_name": "env",
   "language": "python",
   "name": "python3"
  },
  "language_info": {
   "codemirror_mode": {
    "name": "ipython",
    "version": 3
   },
   "file_extension": ".py",
   "mimetype": "text/x-python",
   "name": "python",
   "nbconvert_exporter": "python",
   "pygments_lexer": "ipython3",
   "version": "3.13.5"
  }
 },
 "nbformat": 4,
 "nbformat_minor": 5
}
