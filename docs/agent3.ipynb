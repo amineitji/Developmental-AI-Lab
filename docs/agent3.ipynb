{
 "cells": [
  {
   "cell_type": "markdown",
   "id": "74eb8609-bd0c-4a26-94be-5cf56d9f58cb",
   "metadata": {},
   "source": [
    "[![Open In Colab](https://colab.research.google.com/assets/colab-badge.svg)](https://colab.research.google.com/github/OlivierGeorgeon/Developmental-AI-Lab/blob/master/docs/agent3.ipynb)"
   ]
  },
  {
   "cell_type": "markdown",
   "id": "0bec58b3-e210-4a78-9610-f6615254de29",
   "metadata": {},
   "source": [
    "# THE AGENT WHO TAMED THE TURTLE"
   ]
  },
  {
   "cell_type": "markdown",
   "id": "ba29481c-395a-4bd9-b29a-61675978c160",
   "metadata": {},
   "source": [
    "# Learning objectives"
   ]
  },
  {
   "cell_type": "markdown",
   "id": "6115513d-6575-4238-b461-8f481542785f",
   "metadata": {},
   "source": [
    "Upon completing this lab, you will be able to assign appropriate valences to interactions, enabling a developmental agent to exhibit exploratory behavior in a simulated environment."
   ]
  },
  {
   "cell_type": "markdown",
   "id": "152512a3-ef97-473a-91a7-9a36fe70ba33",
   "metadata": {},
   "source": [
    "# Setup\n",
    "## Import the turtle environment"
   ]
  },
  {
   "cell_type": "code",
   "id": "cf88b7d1-a826-48ff-ba4c-941318495e5f",
   "metadata": {
    "ExecuteTime": {
     "end_time": "2025-10-22T20:58:18.793306Z",
     "start_time": "2025-10-22T20:58:18.222742Z"
    }
   },
   "source": [
    "!pip3 install ColabTurtle\n",
    "from ColabTurtle.Turtle import *"
   ],
   "outputs": [
    {
     "name": "stdout",
     "output_type": "stream",
     "text": [
      "Requirement already satisfied: ColabTurtle in c:\\users\\youssef\\miniconda3\\envs\\developmental-ai-lab\\lib\\site-packages (2.1.0)\n"
     ]
    }
   ],
   "execution_count": 66
  },
  {
   "cell_type": "markdown",
   "id": "3c493fa3-3725-4832-ae8e-54fe92971c87",
   "metadata": {},
   "source": [
    "## Define the Agent class"
   ]
  },
  {
   "cell_type": "code",
   "id": "3f0bf369-48ef-48d7-a92b-3c7ef8dc1daf",
   "metadata": {
    "ExecuteTime": {
     "end_time": "2025-10-22T20:58:18.800979Z",
     "start_time": "2025-10-22T20:58:18.796632Z"
    }
   },
   "source": [
    "class Agent:\n",
    "    def __init__(self, _valences):\n",
    "        \"\"\" Creating our agent \"\"\"\n",
    "        self._valences = _valences\n",
    "        self._action = None\n",
    "        self._predicted_outcome = None\n",
    "\n",
    "    def action(self, _outcome):\n",
    "        \"\"\" tracing the previous cycle \"\"\"\n",
    "        if self._action is not None:\n",
    "            print(f\"Action: {self._action}, Prediction: {self._predicted_outcome}, Outcome: {_outcome}, \" \n",
    "                  f\"Prediction: {self._predicted_outcome == _outcome}, Valence: {self._valences[self._action][_outcome]}\")\n",
    "\n",
    "        \"\"\" Computing the next action to enact \"\"\"\n",
    "        # TODO: Implement the agent's decision mechanism\n",
    "        self._action = 0\n",
    "        # TODO: Implement the agent's anticipation mechanism\n",
    "        self._predicted_outcome = 0\n",
    "        return self._action\n"
   ],
   "outputs": [],
   "execution_count": 67
  },
  {
   "cell_type": "markdown",
   "id": "77698bff-5b57-4982-8b61-41b7a6d1286b",
   "metadata": {},
   "source": [
    "## Define the tutle environment class"
   ]
  },
  {
   "cell_type": "markdown",
   "id": "a657998c-4f0c-49b8-acd0-2c0f73590d3f",
   "metadata": {},
   "source": [
    "You don't need to worry about the code of the ColabTurtleEnvironment below.\n",
    "\n",
    "Just know that this environment:\n",
    "* interprets the agent's actions as follows  `0`: move forward, `1`: turn left, `2`: turn right.\n",
    "* returns outcome `1` when the turtle bumps into the border of the window, and `0` otherwise."
   ]
  },
  {
   "cell_type": "code",
   "id": "3e9f50cd-19ae-485b-9ef2-53c0e014093d",
   "metadata": {
    "jupyter": {
     "source_hidden": true
    },
    "ExecuteTime": {
     "end_time": "2025-10-22T20:58:18.810874Z",
     "start_time": "2025-10-22T20:58:18.805698Z"
    }
   },
   "source": [
    "# @title Initialize the turtle environment\n",
    "\n",
    "BORDER_WIDTH = 20\n",
    "\n",
    "class ColabTurtleEnvironment:\n",
    "\n",
    "    def __init__(self):\n",
    "        \"\"\" Creating the Turtle window \"\"\"\n",
    "        bgcolor(\"lightGray\")\n",
    "        penup()\n",
    "        goto(window_width() / 2, window_height()/2)\n",
    "        face(0)\n",
    "        pendown()\n",
    "        color(\"green\")\n",
    "\n",
    "    def outcome(self, action):\n",
    "        \"\"\" Enacting an action and returning the outcome \"\"\"\n",
    "        _outcome = 0\n",
    "        for i in range(10):\n",
    "            # _outcome = 0\n",
    "            if action == 0:\n",
    "                # move forward\n",
    "                forward(10)\n",
    "            elif action == 1:\n",
    "                # rotate left\n",
    "                left(4)\n",
    "                forward(2)\n",
    "            elif action == 2:\n",
    "                # rotate right\n",
    "                right(4)\n",
    "                forward(2)\n",
    "\n",
    "            # Bump on screen edge and return outcome 1\n",
    "            if xcor() < BORDER_WIDTH:\n",
    "                goto(BORDER_WIDTH, ycor())\n",
    "                _outcome = 1\n",
    "            if xcor() > window_width() - BORDER_WIDTH:\n",
    "                goto(window_width() - BORDER_WIDTH, ycor())\n",
    "                _outcome = 1\n",
    "            if ycor() < BORDER_WIDTH:\n",
    "                goto(xcor(), BORDER_WIDTH)\n",
    "                _outcome = 1\n",
    "            if ycor() > window_height() - BORDER_WIDTH:\n",
    "                goto(xcor(), window_height() -BORDER_WIDTH)\n",
    "                _outcome = 1\n",
    "\n",
    "            # Change color\n",
    "            if _outcome == 0:\n",
    "                color(\"green\")\n",
    "            else:\n",
    "                # Finit l'interaction\n",
    "                color(\"red\")\n",
    "                # if action == 0:\n",
    "                #     break\n",
    "                if action == 1:\n",
    "                    for j in range(10):\n",
    "                        left(4)\n",
    "                elif action == 2:\n",
    "                    for j in range(10):\n",
    "                        right(4)\n",
    "                break\n",
    "\n",
    "        return _outcome"
   ],
   "outputs": [],
   "execution_count": 68
  },
  {
   "cell_type": "markdown",
   "id": "64a16db8-1bd6-4e82-9cf6-2b37d996ffe8",
   "metadata": {},
   "source": [
    "## Define the valence of interactions"
   ]
  },
  {
   "cell_type": "code",
   "id": "59da5f51-d5db-4cf4-8bd0-036ec11eaad2",
   "metadata": {
    "ExecuteTime": {
     "end_time": "2025-10-22T20:58:18.816723Z",
     "start_time": "2025-10-22T20:58:18.813731Z"
    }
   },
   "source": [
    "valences = [[1, -1], \n",
    "            [-1, -1],\n",
    "            [-1, -1]]"
   ],
   "outputs": [],
   "execution_count": 69
  },
  {
   "cell_type": "markdown",
   "id": "b8d25cea-a183-45c5-a624-1345aace245a",
   "metadata": {},
   "source": [
    "The valence table specifies the valence of each interaction. An interaction is a tuple (action, outcome):\n",
    "\n",
    "|| 0 Not bump | 1 Bump|\n",
    "|---|---|---|\n",
    "| 0 Forward| 1 | -1 |\n",
    "| 1 Left | -1 | -1 |\n",
    "| 2 Right| -1 | -1 |"
   ]
  },
  {
   "cell_type": "markdown",
   "id": "f095ec84-3fcd-455c-bb3b-f9a72980048e",
   "metadata": {},
   "source": [
    "## Instantiate the agent"
   ]
  },
  {
   "cell_type": "code",
   "id": "180453e4-128a-4f68-bb5f-2d4daf888d86",
   "metadata": {
    "ExecuteTime": {
     "end_time": "2025-10-22T20:58:18.822766Z",
     "start_time": "2025-10-22T20:58:18.820326Z"
    }
   },
   "source": [
    "a = Agent(valences)"
   ],
   "outputs": [],
   "execution_count": 70
  },
  {
   "cell_type": "markdown",
   "id": "c16279c4-936b-4f37-a0c9-ca4b77609adf",
   "metadata": {},
   "source": [
    "## Run the simulation "
   ]
  },
  {
   "cell_type": "code",
   "id": "17b3c8c8-0cbd-4f64-a97c-61519ad24dd1",
   "metadata": {
    "jupyter": {
     "source_hidden": true
    },
    "ExecuteTime": {
     "end_time": "2025-10-22T20:58:22.999886Z",
     "start_time": "2025-10-22T20:58:18.829710Z"
    }
   },
   "source": [
    "# @title Run the simulation\n",
    "\n",
    "initializeTurtle()\n",
    "\n",
    "# Parameterize the rendering\n",
    "bgcolor(\"lightGray\")\n",
    "penup()\n",
    "goto(window_width() / 2, window_height()/2)\n",
    "face(0)\n",
    "pendown()\n",
    "color(\"green\")\n",
    "speed(10)\n",
    "\n",
    "e = ColabTurtleEnvironment()\n",
    "\n",
    "outcome = 0\n",
    "for i in range(10):\n",
    "    action = a.action(outcome)\n",
    "    outcome = e.outcome(action)"
   ],
   "outputs": [
    {
     "data": {
      "text/plain": [
       "<IPython.core.display.HTML object>"
      ],
      "text/html": [
       "\n",
       "      <svg width=\"800\" height=\"500\">\n",
       "        <rect width=\"100%\" height=\"100%\" fill=\"lightgray\"/>\n",
       "        <line x1=\"400.0\" y1=\"250.0\" x2=\"410.0\" y2=\"250.0\" stroke-linecap=\"round\" style=\"stroke:green;stroke-width:4\"/><line x1=\"410.0\" y1=\"250.0\" x2=\"420.0\" y2=\"250.0\" stroke-linecap=\"round\" style=\"stroke:green;stroke-width:4\"/><line x1=\"420.0\" y1=\"250.0\" x2=\"430.0\" y2=\"250.0\" stroke-linecap=\"round\" style=\"stroke:green;stroke-width:4\"/><line x1=\"430.0\" y1=\"250.0\" x2=\"440.0\" y2=\"250.0\" stroke-linecap=\"round\" style=\"stroke:green;stroke-width:4\"/><line x1=\"440.0\" y1=\"250.0\" x2=\"450.0\" y2=\"250.0\" stroke-linecap=\"round\" style=\"stroke:green;stroke-width:4\"/><line x1=\"450.0\" y1=\"250.0\" x2=\"460.0\" y2=\"250.0\" stroke-linecap=\"round\" style=\"stroke:green;stroke-width:4\"/><line x1=\"460.0\" y1=\"250.0\" x2=\"470.0\" y2=\"250.0\" stroke-linecap=\"round\" style=\"stroke:green;stroke-width:4\"/><line x1=\"470.0\" y1=\"250.0\" x2=\"480.0\" y2=\"250.0\" stroke-linecap=\"round\" style=\"stroke:green;stroke-width:4\"/><line x1=\"480.0\" y1=\"250.0\" x2=\"490.0\" y2=\"250.0\" stroke-linecap=\"round\" style=\"stroke:green;stroke-width:4\"/><line x1=\"490.0\" y1=\"250.0\" x2=\"500.0\" y2=\"250.0\" stroke-linecap=\"round\" style=\"stroke:green;stroke-width:4\"/><line x1=\"500.0\" y1=\"250.0\" x2=\"510.0\" y2=\"250.0\" stroke-linecap=\"round\" style=\"stroke:green;stroke-width:4\"/><line x1=\"510.0\" y1=\"250.0\" x2=\"520.0\" y2=\"250.0\" stroke-linecap=\"round\" style=\"stroke:green;stroke-width:4\"/><line x1=\"520.0\" y1=\"250.0\" x2=\"530.0\" y2=\"250.0\" stroke-linecap=\"round\" style=\"stroke:green;stroke-width:4\"/><line x1=\"530.0\" y1=\"250.0\" x2=\"540.0\" y2=\"250.0\" stroke-linecap=\"round\" style=\"stroke:green;stroke-width:4\"/><line x1=\"540.0\" y1=\"250.0\" x2=\"550.0\" y2=\"250.0\" stroke-linecap=\"round\" style=\"stroke:green;stroke-width:4\"/><line x1=\"550.0\" y1=\"250.0\" x2=\"560.0\" y2=\"250.0\" stroke-linecap=\"round\" style=\"stroke:green;stroke-width:4\"/><line x1=\"560.0\" y1=\"250.0\" x2=\"570.0\" y2=\"250.0\" stroke-linecap=\"round\" style=\"stroke:green;stroke-width:4\"/><line x1=\"570.0\" y1=\"250.0\" x2=\"580.0\" y2=\"250.0\" stroke-linecap=\"round\" style=\"stroke:green;stroke-width:4\"/><line x1=\"580.0\" y1=\"250.0\" x2=\"590.0\" y2=\"250.0\" stroke-linecap=\"round\" style=\"stroke:green;stroke-width:4\"/><line x1=\"590.0\" y1=\"250.0\" x2=\"600.0\" y2=\"250.0\" stroke-linecap=\"round\" style=\"stroke:green;stroke-width:4\"/><line x1=\"600.0\" y1=\"250.0\" x2=\"610.0\" y2=\"250.0\" stroke-linecap=\"round\" style=\"stroke:green;stroke-width:4\"/><line x1=\"610.0\" y1=\"250.0\" x2=\"620.0\" y2=\"250.0\" stroke-linecap=\"round\" style=\"stroke:green;stroke-width:4\"/><line x1=\"620.0\" y1=\"250.0\" x2=\"630.0\" y2=\"250.0\" stroke-linecap=\"round\" style=\"stroke:green;stroke-width:4\"/><line x1=\"630.0\" y1=\"250.0\" x2=\"640.0\" y2=\"250.0\" stroke-linecap=\"round\" style=\"stroke:green;stroke-width:4\"/><line x1=\"640.0\" y1=\"250.0\" x2=\"650.0\" y2=\"250.0\" stroke-linecap=\"round\" style=\"stroke:green;stroke-width:4\"/><line x1=\"650.0\" y1=\"250.0\" x2=\"660.0\" y2=\"250.0\" stroke-linecap=\"round\" style=\"stroke:green;stroke-width:4\"/><line x1=\"660.0\" y1=\"250.0\" x2=\"670.0\" y2=\"250.0\" stroke-linecap=\"round\" style=\"stroke:green;stroke-width:4\"/><line x1=\"670.0\" y1=\"250.0\" x2=\"680.0\" y2=\"250.0\" stroke-linecap=\"round\" style=\"stroke:green;stroke-width:4\"/><line x1=\"680.0\" y1=\"250.0\" x2=\"690.0\" y2=\"250.0\" stroke-linecap=\"round\" style=\"stroke:green;stroke-width:4\"/><line x1=\"690.0\" y1=\"250.0\" x2=\"700.0\" y2=\"250.0\" stroke-linecap=\"round\" style=\"stroke:green;stroke-width:4\"/><line x1=\"700.0\" y1=\"250.0\" x2=\"710.0\" y2=\"250.0\" stroke-linecap=\"round\" style=\"stroke:green;stroke-width:4\"/><line x1=\"710.0\" y1=\"250.0\" x2=\"720.0\" y2=\"250.0\" stroke-linecap=\"round\" style=\"stroke:green;stroke-width:4\"/><line x1=\"720.0\" y1=\"250.0\" x2=\"730.0\" y2=\"250.0\" stroke-linecap=\"round\" style=\"stroke:green;stroke-width:4\"/><line x1=\"730.0\" y1=\"250.0\" x2=\"740.0\" y2=\"250.0\" stroke-linecap=\"round\" style=\"stroke:green;stroke-width:4\"/><line x1=\"740.0\" y1=\"250.0\" x2=\"750.0\" y2=\"250.0\" stroke-linecap=\"round\" style=\"stroke:green;stroke-width:4\"/><line x1=\"750.0\" y1=\"250.0\" x2=\"760.0\" y2=\"250.0\" stroke-linecap=\"round\" style=\"stroke:green;stroke-width:4\"/><line x1=\"760.0\" y1=\"250.0\" x2=\"770.0\" y2=\"250.0\" stroke-linecap=\"round\" style=\"stroke:green;stroke-width:4\"/><line x1=\"770.0\" y1=\"250.0\" x2=\"780.0\" y2=\"250.0\" stroke-linecap=\"round\" style=\"stroke:green;stroke-width:4\"/><line x1=\"780.0\" y1=\"250.0\" x2=\"790.0\" y2=\"250.0\" stroke-linecap=\"round\" style=\"stroke:green;stroke-width:4\"/><line x1=\"790.0\" y1=\"250.0\" x2=\"780\" y2=\"250.0\" stroke-linecap=\"round\" style=\"stroke:green;stroke-width:4\"/><line x1=\"780\" y1=\"250.0\" x2=\"790.0\" y2=\"250.0\" stroke-linecap=\"round\" style=\"stroke:red;stroke-width:4\"/><line x1=\"790.0\" y1=\"250.0\" x2=\"780\" y2=\"250.0\" stroke-linecap=\"round\" style=\"stroke:red;stroke-width:4\"/><line x1=\"780\" y1=\"250.0\" x2=\"790.0\" y2=\"250.0\" stroke-linecap=\"round\" style=\"stroke:red;stroke-width:4\"/><line x1=\"790.0\" y1=\"250.0\" x2=\"780\" y2=\"250.0\" stroke-linecap=\"round\" style=\"stroke:red;stroke-width:4\"/><line x1=\"780\" y1=\"250.0\" x2=\"790.0\" y2=\"250.0\" stroke-linecap=\"round\" style=\"stroke:red;stroke-width:4\"/><line x1=\"790.0\" y1=\"250.0\" x2=\"780\" y2=\"250.0\" stroke-linecap=\"round\" style=\"stroke:red;stroke-width:4\"/><line x1=\"780\" y1=\"250.0\" x2=\"790.0\" y2=\"250.0\" stroke-linecap=\"round\" style=\"stroke:red;stroke-width:4\"/><line x1=\"790.0\" y1=\"250.0\" x2=\"780\" y2=\"250.0\" stroke-linecap=\"round\" style=\"stroke:red;stroke-width:4\"/><line x1=\"780\" y1=\"250.0\" x2=\"790.0\" y2=\"250.0\" stroke-linecap=\"round\" style=\"stroke:red;stroke-width:4\"/><line x1=\"790.0\" y1=\"250.0\" x2=\"780\" y2=\"250.0\" stroke-linecap=\"round\" style=\"stroke:red;stroke-width:4\"/><line x1=\"780\" y1=\"250.0\" x2=\"790.0\" y2=\"250.0\" stroke-linecap=\"round\" style=\"stroke:red;stroke-width:4\"/><line x1=\"790.0\" y1=\"250.0\" x2=\"780\" y2=\"250.0\" stroke-linecap=\"round\" style=\"stroke:red;stroke-width:4\"/>\n",
       "        <g visibility=visible transform=\"rotate(90,780,250.0) translate(762, 232.0)\">\n",
       "<path style=\" stroke:none;fill-rule:evenodd;fill:red;fill-opacity:1;\" d=\"M 18.214844 0.632812 C 16.109375 1.800781 15.011719 4.074219 15.074219 7.132812 L 15.085938 7.652344 L 14.785156 7.496094 C 13.476562 6.824219 11.957031 6.671875 10.40625 7.066406 C 8.46875 7.550781 6.515625 9.15625 4.394531 11.992188 C 3.0625 13.777344 2.679688 14.636719 3.042969 15.027344 L 3.15625 15.152344 L 3.519531 15.152344 C 4.238281 15.152344 4.828125 14.886719 8.1875 13.039062 C 9.386719 12.378906 10.371094 11.839844 10.378906 11.839844 C 10.386719 11.839844 10.355469 11.929688 10.304688 12.035156 C 9.832031 13.09375 9.257812 14.820312 8.96875 16.078125 C 7.914062 20.652344 8.617188 24.53125 11.070312 27.660156 C 11.351562 28.015625 11.363281 27.914062 10.972656 28.382812 C 8.925781 30.84375 7.945312 33.28125 8.238281 35.1875 C 8.289062 35.527344 8.28125 35.523438 8.917969 35.523438 C 10.941406 35.523438 13.074219 34.207031 15.136719 31.6875 C 15.359375 31.417969 15.328125 31.425781 15.5625 31.574219 C 16.292969 32.042969 18.023438 32.964844 18.175781 32.964844 C 18.335938 32.964844 19.941406 32.210938 20.828125 31.71875 C 20.996094 31.625 21.136719 31.554688 21.136719 31.558594 C 21.203125 31.664062 21.898438 32.414062 22.222656 32.730469 C 23.835938 34.300781 25.5625 35.132812 27.582031 35.300781 C 27.90625 35.328125 27.9375 35.308594 28.007812 34.984375 C 28.382812 33.242188 27.625 30.925781 25.863281 28.425781 L 25.542969 27.96875 L 25.699219 27.785156 C 28.945312 23.960938 29.132812 18.699219 26.257812 11.96875 L 26.207031 11.84375 L 27.945312 12.703125 C 31.53125 14.476562 32.316406 14.800781 33.03125 14.800781 C 33.976562 14.800781 33.78125 13.9375 32.472656 12.292969 C 28.519531 7.355469 25.394531 5.925781 21.921875 7.472656 L 21.558594 7.636719 L 21.578125 7.542969 C 21.699219 6.992188 21.761719 5.742188 21.699219 5.164062 C 21.496094 3.296875 20.664062 1.964844 19.003906 0.855469 C 18.480469 0.503906 18.457031 0.5 18.214844 0.632812\"/>\n",
       "</g>\n",
       "      </svg>\n",
       "    "
      ]
     },
     "metadata": {},
     "output_type": "display_data"
    },
    {
     "name": "stdout",
     "output_type": "stream",
     "text": [
      "Action: 0, Prediction: 0, Outcome: 0, Prediction: True, Valence: 1\n",
      "Action: 0, Prediction: 0, Outcome: 0, Prediction: True, Valence: 1\n",
      "Action: 0, Prediction: 0, Outcome: 0, Prediction: True, Valence: 1\n",
      "Action: 0, Prediction: 0, Outcome: 1, Prediction: False, Valence: -1\n",
      "Action: 0, Prediction: 0, Outcome: 1, Prediction: False, Valence: -1\n",
      "Action: 0, Prediction: 0, Outcome: 1, Prediction: False, Valence: -1\n",
      "Action: 0, Prediction: 0, Outcome: 1, Prediction: False, Valence: -1\n",
      "Action: 0, Prediction: 0, Outcome: 1, Prediction: False, Valence: -1\n",
      "Action: 0, Prediction: 0, Outcome: 1, Prediction: False, Valence: -1\n"
     ]
    }
   ],
   "execution_count": 71
  },
  {
   "cell_type": "markdown",
   "id": "febad285-e8e5-4c24-a46e-e9519a27581c",
   "metadata": {},
   "source": [
    "Observe the turtle moving in a straigt line until it bumps into the border of the window"
   ]
  },
  {
   "cell_type": "markdown",
   "id": "3019f138-a218-44b2-964a-8095fbe891a7",
   "metadata": {},
   "source": [
    "# PRELIMINARY EXERCISE"
   ]
  },
  {
   "cell_type": "markdown",
   "id": "f9daa278-434e-43ce-8520-8fabef69cd83",
   "metadata": {},
   "source": [
    "Copy Agent2 that you designed in your previous assignment to this notebook. \n",
    "\n",
    "Observe how your Agent2 behaves in this environment "
   ]
  },
  {
   "cell_type": "markdown",
   "id": "0d50d96e-4f12-4531-a122-9d13d8bd8639",
   "metadata": {},
   "source": [
    "# ASSIGNMENT"
   ]
  },
  {
   "cell_type": "markdown",
   "id": "199faee9-a546-4d86-8e09-484bf2212523",
   "metadata": {},
   "source": [
    "Implement Agent3 by modifying your previous Agent2 such that it can select 3 possible actions: `0`, `1`, or `2`.\n",
    "\n",
    "Choose the valences of interactions so that the agent does not remain stuck in a corner of the environment. "
   ]
  },
  {
   "cell_type": "markdown",
   "id": "c82b9a28-121c-4379-8701-1d49ad197b8d",
   "metadata": {},
   "source": [
    "## Create Agent3 by overriding the class Agent or your previous class Agent2"
   ]
  },
  {
   "cell_type": "code",
   "id": "85b966d4-aca5-4a08-8413-d4906fdbbae8",
   "metadata": {
    "ExecuteTime": {
     "end_time": "2025-10-22T23:10:50.186512Z",
     "start_time": "2025-10-22T23:10:50.180300Z"
    }
   },
   "source": [
    "import random\n",
    "\n",
    "class Agent3(Agent):\n",
    "    def __init__(self, _valences):\n",
    "        \"\"\"Creating our turtle-taming agent\"\"\"\n",
    "        super().__init__(_valences)\n",
    "        # Mémoire pour stocker le dernier outcome observé pour chaque action\n",
    "        self.memory = {}\n",
    "        # Compteur de prédictions correctes consécutives\n",
    "        self.correct_count = 0\n",
    "        # Seuil d'ennui (fixe ici, mais tu peux le rendre progressif si besoin)\n",
    "        self.boredom_threshold = 4\n",
    "        # Pour mémoriser l'action qui a provoqué l'ennui\n",
    "        self.last_bored_action = None\n",
    "\n",
    "    def action(self, _outcome):\n",
    "        \"\"\"Tracing the previous cycle\"\"\"\n",
    "        if self._action is not None:\n",
    "            # Met à jour la mémoire avec le dernier outcome observé\n",
    "            self.memory[self._action] = _outcome\n",
    "\n",
    "            # Vérifie si la prédiction était correcte\n",
    "            satisfied = (self._predicted_outcome == _outcome)\n",
    "\n",
    "            # Met à jour le compteur de prédictions correctes\n",
    "            if satisfied:\n",
    "                self.correct_count += 1\n",
    "            else:\n",
    "                self.correct_count = 0\n",
    "\n",
    "            # Calcule la valence\n",
    "            valence = self._valences[self._action][_outcome]\n",
    "\n",
    "            # Vérifie si l'agent s'ennuie\n",
    "            bored = (self.correct_count >= self.boredom_threshold)\n",
    "\n",
    "            print(f\"Action: {self._action}, Prediction: {self._predicted_outcome}, \"\n",
    "                  f\"Outcome: {_outcome}, Prediction: {satisfied}, \"\n",
    "                  f\"Valence: {valence}, Bored: {bored}\")\n",
    "        else:\n",
    "            bored = False\n",
    "\n",
    "        \"\"\"Decision mechanism\"\"\"\n",
    "        if bored:\n",
    "            # Sauvegarde de l'action ennuyeuse\n",
    "            self.last_bored_action = self._action\n",
    "\n",
    "            # Sélectionne aléatoirement une autre action que celle ennuyeuse\n",
    "            possible_actions = [0, 1, 2]\n",
    "            if self.last_bored_action in possible_actions:\n",
    "                possible_actions.remove(self.last_bored_action)\n",
    "            self._action = random.choice(possible_actions)\n",
    "            self.correct_count = 0\n",
    "\n",
    "        else:\n",
    "            # Sélection des actions avec la meilleure valence anticipée\n",
    "            best_valence = -float('inf')\n",
    "            best_actions = []\n",
    "\n",
    "            for action in [0, 1, 2]:\n",
    "                if action in self.memory:\n",
    "                    predicted_outcome = self.memory[action]\n",
    "                    predicted_valence = self._valences[action][predicted_outcome]\n",
    "\n",
    "                    if predicted_valence > best_valence:\n",
    "                        best_valence = predicted_valence\n",
    "                        best_actions = [action]\n",
    "                    elif predicted_valence == best_valence:\n",
    "                        best_actions.append(action)\n",
    "\n",
    "            # Tirage aléatoire équitable si plusieurs actions ont la même valence max\n",
    "            if best_actions:\n",
    "                self._action = random.choice(best_actions)\n",
    "            elif self._action is None:\n",
    "                self._action = 0\n",
    "\n",
    "        \"\"\"Anticipation mechanism\"\"\"\n",
    "        if self._action in self.memory:\n",
    "            self._predicted_outcome = self.memory[self._action]\n",
    "        else:\n",
    "            self._predicted_outcome = 0\n",
    "\n",
    "        return self._action"
   ],
   "outputs": [],
   "execution_count": 79
  },
  {
   "cell_type": "markdown",
   "id": "5777dcc2-a3f4-4cfe-bc94-ea1ca1843b7c",
   "metadata": {},
   "source": [
    "## Choose the valence table"
   ]
  },
  {
   "cell_type": "markdown",
   "id": "82b6d2b2-d815-4440-9669-846f317a61d6",
   "metadata": {},
   "source": [
    "Replace the `valences` table by your choice in the code below"
   ]
  },
  {
   "cell_type": "code",
   "id": "0f6d0d8f-42bc-4277-bc27-53e604393b49",
   "metadata": {
    "ExecuteTime": {
     "end_time": "2025-10-22T23:10:52.399251Z",
     "start_time": "2025-10-22T23:10:52.395312Z"
    }
   },
   "source": [
    "valences = [[1, -1], \n",
    "            [-1, 1],\n",
    "            [-1, 1]]"
   ],
   "outputs": [],
   "execution_count": 80
  },
  {
   "cell_type": "markdown",
   "id": "a07b3f5c-f48c-45ad-bf1d-4a703bac64af",
   "metadata": {},
   "source": [
    "## Test your agent in the TurtleEnvironment"
   ]
  },
  {
   "cell_type": "code",
   "id": "d8025780-7d39-442d-9600-b40641e6d6c4",
   "metadata": {
    "ExecuteTime": {
     "end_time": "2025-10-22T23:14:08.873915Z",
     "start_time": "2025-10-22T23:13:47.760090Z"
    }
   },
   "source": [
    "initializeTurtle()\n",
    "\n",
    "# Parameterize the rendering\n",
    "bgcolor(\"lightGray\")\n",
    "penup()\n",
    "goto(window_width() / 2, window_height()/2)\n",
    "face(0)\n",
    "pendown()\n",
    "color(\"green\")\n",
    "speed(10)\n",
    "\n",
    "a = Agent3(valences)\n",
    "e = ColabTurtleEnvironment()\n",
    "\n",
    "outcome = 0\n",
    "for i in range(50):\n",
    "    action = a.action(outcome)\n",
    "    outcome = e.outcome(action)"
   ],
   "outputs": [
    {
     "data": {
      "text/plain": [
       "<IPython.core.display.HTML object>"
      ],
      "text/html": [
       "\n",
       "      <svg width=\"800\" height=\"500\">\n",
       "        <rect width=\"100%\" height=\"100%\" fill=\"lightgray\"/>\n",
       "        <line x1=\"400.0\" y1=\"250.0\" x2=\"410.0\" y2=\"250.0\" stroke-linecap=\"round\" style=\"stroke:green;stroke-width:4\"/><line x1=\"410.0\" y1=\"250.0\" x2=\"420.0\" y2=\"250.0\" stroke-linecap=\"round\" style=\"stroke:green;stroke-width:4\"/><line x1=\"420.0\" y1=\"250.0\" x2=\"430.0\" y2=\"250.0\" stroke-linecap=\"round\" style=\"stroke:green;stroke-width:4\"/><line x1=\"430.0\" y1=\"250.0\" x2=\"440.0\" y2=\"250.0\" stroke-linecap=\"round\" style=\"stroke:green;stroke-width:4\"/><line x1=\"440.0\" y1=\"250.0\" x2=\"450.0\" y2=\"250.0\" stroke-linecap=\"round\" style=\"stroke:green;stroke-width:4\"/><line x1=\"450.0\" y1=\"250.0\" x2=\"460.0\" y2=\"250.0\" stroke-linecap=\"round\" style=\"stroke:green;stroke-width:4\"/><line x1=\"460.0\" y1=\"250.0\" x2=\"470.0\" y2=\"250.0\" stroke-linecap=\"round\" style=\"stroke:green;stroke-width:4\"/><line x1=\"470.0\" y1=\"250.0\" x2=\"480.0\" y2=\"250.0\" stroke-linecap=\"round\" style=\"stroke:green;stroke-width:4\"/><line x1=\"480.0\" y1=\"250.0\" x2=\"490.0\" y2=\"250.0\" stroke-linecap=\"round\" style=\"stroke:green;stroke-width:4\"/><line x1=\"490.0\" y1=\"250.0\" x2=\"500.0\" y2=\"250.0\" stroke-linecap=\"round\" style=\"stroke:green;stroke-width:4\"/><line x1=\"500.0\" y1=\"250.0\" x2=\"510.0\" y2=\"250.0\" stroke-linecap=\"round\" style=\"stroke:green;stroke-width:4\"/><line x1=\"510.0\" y1=\"250.0\" x2=\"520.0\" y2=\"250.0\" stroke-linecap=\"round\" style=\"stroke:green;stroke-width:4\"/><line x1=\"520.0\" y1=\"250.0\" x2=\"530.0\" y2=\"250.0\" stroke-linecap=\"round\" style=\"stroke:green;stroke-width:4\"/><line x1=\"530.0\" y1=\"250.0\" x2=\"540.0\" y2=\"250.0\" stroke-linecap=\"round\" style=\"stroke:green;stroke-width:4\"/><line x1=\"540.0\" y1=\"250.0\" x2=\"550.0\" y2=\"250.0\" stroke-linecap=\"round\" style=\"stroke:green;stroke-width:4\"/><line x1=\"550.0\" y1=\"250.0\" x2=\"560.0\" y2=\"250.0\" stroke-linecap=\"round\" style=\"stroke:green;stroke-width:4\"/><line x1=\"560.0\" y1=\"250.0\" x2=\"570.0\" y2=\"250.0\" stroke-linecap=\"round\" style=\"stroke:green;stroke-width:4\"/><line x1=\"570.0\" y1=\"250.0\" x2=\"580.0\" y2=\"250.0\" stroke-linecap=\"round\" style=\"stroke:green;stroke-width:4\"/><line x1=\"580.0\" y1=\"250.0\" x2=\"590.0\" y2=\"250.0\" stroke-linecap=\"round\" style=\"stroke:green;stroke-width:4\"/><line x1=\"590.0\" y1=\"250.0\" x2=\"600.0\" y2=\"250.0\" stroke-linecap=\"round\" style=\"stroke:green;stroke-width:4\"/><line x1=\"600.0\" y1=\"250.0\" x2=\"610.0\" y2=\"250.0\" stroke-linecap=\"round\" style=\"stroke:green;stroke-width:4\"/><line x1=\"610.0\" y1=\"250.0\" x2=\"620.0\" y2=\"250.0\" stroke-linecap=\"round\" style=\"stroke:green;stroke-width:4\"/><line x1=\"620.0\" y1=\"250.0\" x2=\"630.0\" y2=\"250.0\" stroke-linecap=\"round\" style=\"stroke:green;stroke-width:4\"/><line x1=\"630.0\" y1=\"250.0\" x2=\"640.0\" y2=\"250.0\" stroke-linecap=\"round\" style=\"stroke:green;stroke-width:4\"/><line x1=\"640.0\" y1=\"250.0\" x2=\"650.0\" y2=\"250.0\" stroke-linecap=\"round\" style=\"stroke:green;stroke-width:4\"/><line x1=\"650.0\" y1=\"250.0\" x2=\"660.0\" y2=\"250.0\" stroke-linecap=\"round\" style=\"stroke:green;stroke-width:4\"/><line x1=\"660.0\" y1=\"250.0\" x2=\"670.0\" y2=\"250.0\" stroke-linecap=\"round\" style=\"stroke:green;stroke-width:4\"/><line x1=\"670.0\" y1=\"250.0\" x2=\"680.0\" y2=\"250.0\" stroke-linecap=\"round\" style=\"stroke:green;stroke-width:4\"/><line x1=\"680.0\" y1=\"250.0\" x2=\"690.0\" y2=\"250.0\" stroke-linecap=\"round\" style=\"stroke:green;stroke-width:4\"/><line x1=\"690.0\" y1=\"250.0\" x2=\"700.0\" y2=\"250.0\" stroke-linecap=\"round\" style=\"stroke:green;stroke-width:4\"/><line x1=\"700.0\" y1=\"250.0\" x2=\"710.0\" y2=\"250.0\" stroke-linecap=\"round\" style=\"stroke:green;stroke-width:4\"/><line x1=\"710.0\" y1=\"250.0\" x2=\"720.0\" y2=\"250.0\" stroke-linecap=\"round\" style=\"stroke:green;stroke-width:4\"/><line x1=\"720.0\" y1=\"250.0\" x2=\"730.0\" y2=\"250.0\" stroke-linecap=\"round\" style=\"stroke:green;stroke-width:4\"/><line x1=\"730.0\" y1=\"250.0\" x2=\"740.0\" y2=\"250.0\" stroke-linecap=\"round\" style=\"stroke:green;stroke-width:4\"/><line x1=\"740.0\" y1=\"250.0\" x2=\"750.0\" y2=\"250.0\" stroke-linecap=\"round\" style=\"stroke:green;stroke-width:4\"/><line x1=\"750.0\" y1=\"250.0\" x2=\"760.0\" y2=\"250.0\" stroke-linecap=\"round\" style=\"stroke:green;stroke-width:4\"/><line x1=\"760.0\" y1=\"250.0\" x2=\"770.0\" y2=\"250.0\" stroke-linecap=\"round\" style=\"stroke:green;stroke-width:4\"/><line x1=\"770.0\" y1=\"250.0\" x2=\"780.0\" y2=\"250.0\" stroke-linecap=\"round\" style=\"stroke:green;stroke-width:4\"/><line x1=\"780.0\" y1=\"250.0\" x2=\"790.0\" y2=\"250.0\" stroke-linecap=\"round\" style=\"stroke:green;stroke-width:4\"/><line x1=\"790.0\" y1=\"250.0\" x2=\"780\" y2=\"250.0\" stroke-linecap=\"round\" style=\"stroke:green;stroke-width:4\"/><line x1=\"780\" y1=\"250.0\" x2=\"790.0\" y2=\"250.0\" stroke-linecap=\"round\" style=\"stroke:red;stroke-width:4\"/><line x1=\"790.0\" y1=\"250.0\" x2=\"780\" y2=\"250.0\" stroke-linecap=\"round\" style=\"stroke:red;stroke-width:4\"/><line x1=\"780\" y1=\"250.0\" x2=\"790.0\" y2=\"250.0\" stroke-linecap=\"round\" style=\"stroke:red;stroke-width:4\"/><line x1=\"790.0\" y1=\"250.0\" x2=\"780\" y2=\"250.0\" stroke-linecap=\"round\" style=\"stroke:red;stroke-width:4\"/><line x1=\"780\" y1=\"250.0\" x2=\"790.0\" y2=\"250.0\" stroke-linecap=\"round\" style=\"stroke:red;stroke-width:4\"/><line x1=\"790.0\" y1=\"250.0\" x2=\"780\" y2=\"250.0\" stroke-linecap=\"round\" style=\"stroke:red;stroke-width:4\"/><line x1=\"780\" y1=\"250.0\" x2=\"790.0\" y2=\"250.0\" stroke-linecap=\"round\" style=\"stroke:red;stroke-width:4\"/><line x1=\"790.0\" y1=\"250.0\" x2=\"780\" y2=\"250.0\" stroke-linecap=\"round\" style=\"stroke:red;stroke-width:4\"/><line x1=\"780\" y1=\"250.0\" x2=\"781.995\" y2=\"250.14\" stroke-linecap=\"round\" style=\"stroke:red;stroke-width:4\"/><line x1=\"781.995\" y1=\"250.14\" x2=\"780\" y2=\"250.14\" stroke-linecap=\"round\" style=\"stroke:red;stroke-width:4\"/><line x1=\"780\" y1=\"250.14\" x2=\"781.338\" y2=\"251.626\" stroke-linecap=\"round\" style=\"stroke:red;stroke-width:4\"/><line x1=\"781.338\" y1=\"251.626\" x2=\"780\" y2=\"251.626\" stroke-linecap=\"round\" style=\"stroke:red;stroke-width:4\"/><line x1=\"780\" y1=\"251.626\" x2=\"779.93\" y2=\"253.625\" stroke-linecap=\"round\" style=\"stroke:red;stroke-width:4\"/><line x1=\"779.93\" y1=\"253.625\" x2=\"779.721\" y2=\"255.614\" stroke-linecap=\"round\" style=\"stroke:green;stroke-width:4\"/><line x1=\"779.721\" y1=\"255.614\" x2=\"779.374\" y2=\"257.584\" stroke-linecap=\"round\" style=\"stroke:green;stroke-width:4\"/><line x1=\"779.374\" y1=\"257.584\" x2=\"778.89\" y2=\"259.525\" stroke-linecap=\"round\" style=\"stroke:green;stroke-width:4\"/><line x1=\"778.89\" y1=\"259.525\" x2=\"778.272\" y2=\"261.427\" stroke-linecap=\"round\" style=\"stroke:green;stroke-width:4\"/><line x1=\"778.272\" y1=\"261.427\" x2=\"777.523\" y2=\"263.281\" stroke-linecap=\"round\" style=\"stroke:green;stroke-width:4\"/><line x1=\"777.523\" y1=\"263.281\" x2=\"776.646\" y2=\"265.079\" stroke-linecap=\"round\" style=\"stroke:green;stroke-width:4\"/><line x1=\"776.646\" y1=\"265.079\" x2=\"775.646\" y2=\"266.811\" stroke-linecap=\"round\" style=\"stroke:green;stroke-width:4\"/><line x1=\"775.646\" y1=\"266.811\" x2=\"774.528\" y2=\"268.469\" stroke-linecap=\"round\" style=\"stroke:green;stroke-width:4\"/><line x1=\"774.528\" y1=\"268.469\" x2=\"773.297\" y2=\"270.045\" stroke-linecap=\"round\" style=\"stroke:green;stroke-width:4\"/><line x1=\"773.297\" y1=\"270.045\" x2=\"771.959\" y2=\"271.531\" stroke-linecap=\"round\" style=\"stroke:green;stroke-width:4\"/><line x1=\"771.959\" y1=\"271.531\" x2=\"770.52\" y2=\"272.92\" stroke-linecap=\"round\" style=\"stroke:green;stroke-width:4\"/><line x1=\"770.52\" y1=\"272.92\" x2=\"768.988\" y2=\"274.206\" stroke-linecap=\"round\" style=\"stroke:green;stroke-width:4\"/><line x1=\"768.988\" y1=\"274.206\" x2=\"767.37\" y2=\"275.382\" stroke-linecap=\"round\" style=\"stroke:green;stroke-width:4\"/><line x1=\"767.37\" y1=\"275.382\" x2=\"765.674\" y2=\"276.442\" stroke-linecap=\"round\" style=\"stroke:green;stroke-width:4\"/><line x1=\"765.674\" y1=\"276.442\" x2=\"763.908\" y2=\"277.381\" stroke-linecap=\"round\" style=\"stroke:green;stroke-width:4\"/><line x1=\"763.908\" y1=\"277.381\" x2=\"762.081\" y2=\"278.194\" stroke-linecap=\"round\" style=\"stroke:green;stroke-width:4\"/><line x1=\"762.081\" y1=\"278.194\" x2=\"760.202\" y2=\"278.878\" stroke-linecap=\"round\" style=\"stroke:green;stroke-width:4\"/><line x1=\"760.202\" y1=\"278.878\" x2=\"758.279\" y2=\"279.429\" stroke-linecap=\"round\" style=\"stroke:green;stroke-width:4\"/><line x1=\"758.279\" y1=\"279.429\" x2=\"756.323\" y2=\"279.845\" stroke-linecap=\"round\" style=\"stroke:green;stroke-width:4\"/><line x1=\"756.323\" y1=\"279.845\" x2=\"746.542\" y2=\"281.924\" stroke-linecap=\"round\" style=\"stroke:green;stroke-width:4\"/><line x1=\"746.542\" y1=\"281.924\" x2=\"736.761\" y2=\"284.003\" stroke-linecap=\"round\" style=\"stroke:green;stroke-width:4\"/><line x1=\"736.761\" y1=\"284.003\" x2=\"726.98\" y2=\"286.082\" stroke-linecap=\"round\" style=\"stroke:green;stroke-width:4\"/><line x1=\"726.98\" y1=\"286.082\" x2=\"717.199\" y2=\"288.161\" stroke-linecap=\"round\" style=\"stroke:green;stroke-width:4\"/><line x1=\"717.199\" y1=\"288.161\" x2=\"707.418\" y2=\"290.24\" stroke-linecap=\"round\" style=\"stroke:green;stroke-width:4\"/><line x1=\"707.418\" y1=\"290.24\" x2=\"697.637\" y2=\"292.319\" stroke-linecap=\"round\" style=\"stroke:green;stroke-width:4\"/><line x1=\"697.637\" y1=\"292.319\" x2=\"687.856\" y2=\"294.398\" stroke-linecap=\"round\" style=\"stroke:green;stroke-width:4\"/><line x1=\"687.856\" y1=\"294.398\" x2=\"678.075\" y2=\"296.477\" stroke-linecap=\"round\" style=\"stroke:green;stroke-width:4\"/><line x1=\"678.075\" y1=\"296.477\" x2=\"668.294\" y2=\"298.556\" stroke-linecap=\"round\" style=\"stroke:green;stroke-width:4\"/><line x1=\"668.294\" y1=\"298.556\" x2=\"658.513\" y2=\"300.635\" stroke-linecap=\"round\" style=\"stroke:green;stroke-width:4\"/><line x1=\"658.513\" y1=\"300.635\" x2=\"648.732\" y2=\"302.714\" stroke-linecap=\"round\" style=\"stroke:green;stroke-width:4\"/><line x1=\"648.732\" y1=\"302.714\" x2=\"638.951\" y2=\"304.793\" stroke-linecap=\"round\" style=\"stroke:green;stroke-width:4\"/><line x1=\"638.951\" y1=\"304.793\" x2=\"629.17\" y2=\"306.872\" stroke-linecap=\"round\" style=\"stroke:green;stroke-width:4\"/><line x1=\"629.17\" y1=\"306.872\" x2=\"619.389\" y2=\"308.951\" stroke-linecap=\"round\" style=\"stroke:green;stroke-width:4\"/><line x1=\"619.389\" y1=\"308.951\" x2=\"609.608\" y2=\"311.03\" stroke-linecap=\"round\" style=\"stroke:green;stroke-width:4\"/><line x1=\"609.608\" y1=\"311.03\" x2=\"599.827\" y2=\"313.109\" stroke-linecap=\"round\" style=\"stroke:green;stroke-width:4\"/><line x1=\"599.827\" y1=\"313.109\" x2=\"590.046\" y2=\"315.188\" stroke-linecap=\"round\" style=\"stroke:green;stroke-width:4\"/><line x1=\"590.046\" y1=\"315.188\" x2=\"580.265\" y2=\"317.267\" stroke-linecap=\"round\" style=\"stroke:green;stroke-width:4\"/><line x1=\"580.265\" y1=\"317.267\" x2=\"570.484\" y2=\"319.346\" stroke-linecap=\"round\" style=\"stroke:green;stroke-width:4\"/><line x1=\"570.484\" y1=\"319.346\" x2=\"560.703\" y2=\"321.425\" stroke-linecap=\"round\" style=\"stroke:green;stroke-width:4\"/><line x1=\"560.703\" y1=\"321.425\" x2=\"550.922\" y2=\"323.504\" stroke-linecap=\"round\" style=\"stroke:green;stroke-width:4\"/><line x1=\"550.922\" y1=\"323.504\" x2=\"541.141\" y2=\"325.583\" stroke-linecap=\"round\" style=\"stroke:green;stroke-width:4\"/><line x1=\"541.141\" y1=\"325.583\" x2=\"531.36\" y2=\"327.662\" stroke-linecap=\"round\" style=\"stroke:green;stroke-width:4\"/><line x1=\"531.36\" y1=\"327.662\" x2=\"521.579\" y2=\"329.741\" stroke-linecap=\"round\" style=\"stroke:green;stroke-width:4\"/><line x1=\"521.579\" y1=\"329.741\" x2=\"511.798\" y2=\"331.82\" stroke-linecap=\"round\" style=\"stroke:green;stroke-width:4\"/><line x1=\"511.798\" y1=\"331.82\" x2=\"502.017\" y2=\"333.899\" stroke-linecap=\"round\" style=\"stroke:green;stroke-width:4\"/><line x1=\"502.017\" y1=\"333.899\" x2=\"492.236\" y2=\"335.978\" stroke-linecap=\"round\" style=\"stroke:green;stroke-width:4\"/><line x1=\"492.236\" y1=\"335.978\" x2=\"482.455\" y2=\"338.057\" stroke-linecap=\"round\" style=\"stroke:green;stroke-width:4\"/><line x1=\"482.455\" y1=\"338.057\" x2=\"472.674\" y2=\"340.136\" stroke-linecap=\"round\" style=\"stroke:green;stroke-width:4\"/><line x1=\"472.674\" y1=\"340.136\" x2=\"462.893\" y2=\"342.215\" stroke-linecap=\"round\" style=\"stroke:green;stroke-width:4\"/><line x1=\"462.893\" y1=\"342.215\" x2=\"453.112\" y2=\"344.294\" stroke-linecap=\"round\" style=\"stroke:green;stroke-width:4\"/><line x1=\"453.112\" y1=\"344.294\" x2=\"443.331\" y2=\"346.373\" stroke-linecap=\"round\" style=\"stroke:green;stroke-width:4\"/><line x1=\"443.331\" y1=\"346.373\" x2=\"433.55\" y2=\"348.452\" stroke-linecap=\"round\" style=\"stroke:green;stroke-width:4\"/><line x1=\"433.55\" y1=\"348.452\" x2=\"423.769\" y2=\"350.531\" stroke-linecap=\"round\" style=\"stroke:green;stroke-width:4\"/><line x1=\"423.769\" y1=\"350.531\" x2=\"413.988\" y2=\"352.61\" stroke-linecap=\"round\" style=\"stroke:green;stroke-width:4\"/><line x1=\"413.988\" y1=\"352.61\" x2=\"404.207\" y2=\"354.689\" stroke-linecap=\"round\" style=\"stroke:green;stroke-width:4\"/><line x1=\"404.207\" y1=\"354.689\" x2=\"394.426\" y2=\"356.768\" stroke-linecap=\"round\" style=\"stroke:green;stroke-width:4\"/><line x1=\"394.426\" y1=\"356.768\" x2=\"384.645\" y2=\"358.847\" stroke-linecap=\"round\" style=\"stroke:green;stroke-width:4\"/><line x1=\"384.645\" y1=\"358.847\" x2=\"374.864\" y2=\"360.926\" stroke-linecap=\"round\" style=\"stroke:green;stroke-width:4\"/><line x1=\"374.864\" y1=\"360.926\" x2=\"365.083\" y2=\"363.005\" stroke-linecap=\"round\" style=\"stroke:green;stroke-width:4\"/><line x1=\"365.083\" y1=\"363.005\" x2=\"355.302\" y2=\"365.084\" stroke-linecap=\"round\" style=\"stroke:green;stroke-width:4\"/><line x1=\"355.302\" y1=\"365.084\" x2=\"345.521\" y2=\"367.163\" stroke-linecap=\"round\" style=\"stroke:green;stroke-width:4\"/><line x1=\"345.521\" y1=\"367.163\" x2=\"335.74\" y2=\"369.242\" stroke-linecap=\"round\" style=\"stroke:green;stroke-width:4\"/><line x1=\"335.74\" y1=\"369.242\" x2=\"325.959\" y2=\"371.321\" stroke-linecap=\"round\" style=\"stroke:green;stroke-width:4\"/><line x1=\"325.959\" y1=\"371.321\" x2=\"316.178\" y2=\"373.4\" stroke-linecap=\"round\" style=\"stroke:green;stroke-width:4\"/><line x1=\"316.178\" y1=\"373.4\" x2=\"306.397\" y2=\"375.479\" stroke-linecap=\"round\" style=\"stroke:green;stroke-width:4\"/><line x1=\"306.397\" y1=\"375.479\" x2=\"296.616\" y2=\"377.558\" stroke-linecap=\"round\" style=\"stroke:green;stroke-width:4\"/><line x1=\"296.616\" y1=\"377.558\" x2=\"286.835\" y2=\"379.637\" stroke-linecap=\"round\" style=\"stroke:green;stroke-width:4\"/><line x1=\"286.835\" y1=\"379.637\" x2=\"277.054\" y2=\"381.716\" stroke-linecap=\"round\" style=\"stroke:green;stroke-width:4\"/><line x1=\"277.054\" y1=\"381.716\" x2=\"267.273\" y2=\"383.795\" stroke-linecap=\"round\" style=\"stroke:green;stroke-width:4\"/><line x1=\"267.273\" y1=\"383.795\" x2=\"265.292\" y2=\"384.073\" stroke-linecap=\"round\" style=\"stroke:green;stroke-width:4\"/><line x1=\"265.292\" y1=\"384.073\" x2=\"263.297\" y2=\"384.213\" stroke-linecap=\"round\" style=\"stroke:green;stroke-width:4\"/><line x1=\"263.297\" y1=\"384.213\" x2=\"261.297\" y2=\"384.213\" stroke-linecap=\"round\" style=\"stroke:green;stroke-width:4\"/><line x1=\"261.297\" y1=\"384.213\" x2=\"259.302\" y2=\"384.073\" stroke-linecap=\"round\" style=\"stroke:green;stroke-width:4\"/><line x1=\"259.302\" y1=\"384.073\" x2=\"257.321\" y2=\"383.795\" stroke-linecap=\"round\" style=\"stroke:green;stroke-width:4\"/><line x1=\"257.321\" y1=\"383.795\" x2=\"255.365\" y2=\"383.379\" stroke-linecap=\"round\" style=\"stroke:green;stroke-width:4\"/><line x1=\"255.365\" y1=\"383.379\" x2=\"253.442\" y2=\"382.828\" stroke-linecap=\"round\" style=\"stroke:green;stroke-width:4\"/><line x1=\"253.442\" y1=\"382.828\" x2=\"251.563\" y2=\"382.144\" stroke-linecap=\"round\" style=\"stroke:green;stroke-width:4\"/><line x1=\"251.563\" y1=\"382.144\" x2=\"249.736\" y2=\"381.331\" stroke-linecap=\"round\" style=\"stroke:green;stroke-width:4\"/><line x1=\"249.736\" y1=\"381.331\" x2=\"247.97\" y2=\"380.392\" stroke-linecap=\"round\" style=\"stroke:green;stroke-width:4\"/><line x1=\"247.97\" y1=\"380.392\" x2=\"239.141\" y2=\"375.697\" stroke-linecap=\"round\" style=\"stroke:green;stroke-width:4\"/><line x1=\"239.141\" y1=\"375.697\" x2=\"230.312\" y2=\"371.002\" stroke-linecap=\"round\" style=\"stroke:green;stroke-width:4\"/><line x1=\"230.312\" y1=\"371.002\" x2=\"221.483\" y2=\"366.307\" stroke-linecap=\"round\" style=\"stroke:green;stroke-width:4\"/><line x1=\"221.483\" y1=\"366.307\" x2=\"212.654\" y2=\"361.612\" stroke-linecap=\"round\" style=\"stroke:green;stroke-width:4\"/><line x1=\"212.654\" y1=\"361.612\" x2=\"203.825\" y2=\"356.917\" stroke-linecap=\"round\" style=\"stroke:green;stroke-width:4\"/><line x1=\"203.825\" y1=\"356.917\" x2=\"194.996\" y2=\"352.222\" stroke-linecap=\"round\" style=\"stroke:green;stroke-width:4\"/><line x1=\"194.996\" y1=\"352.222\" x2=\"186.167\" y2=\"347.527\" stroke-linecap=\"round\" style=\"stroke:green;stroke-width:4\"/><line x1=\"186.167\" y1=\"347.527\" x2=\"177.338\" y2=\"342.832\" stroke-linecap=\"round\" style=\"stroke:green;stroke-width:4\"/><line x1=\"177.338\" y1=\"342.832\" x2=\"168.509\" y2=\"338.137\" stroke-linecap=\"round\" style=\"stroke:green;stroke-width:4\"/><line x1=\"168.509\" y1=\"338.137\" x2=\"159.68\" y2=\"333.442\" stroke-linecap=\"round\" style=\"stroke:green;stroke-width:4\"/><line x1=\"159.68\" y1=\"333.442\" x2=\"150.851\" y2=\"328.747\" stroke-linecap=\"round\" style=\"stroke:green;stroke-width:4\"/><line x1=\"150.851\" y1=\"328.747\" x2=\"142.022\" y2=\"324.052\" stroke-linecap=\"round\" style=\"stroke:green;stroke-width:4\"/><line x1=\"142.022\" y1=\"324.052\" x2=\"133.193\" y2=\"319.357\" stroke-linecap=\"round\" style=\"stroke:green;stroke-width:4\"/><line x1=\"133.193\" y1=\"319.357\" x2=\"124.364\" y2=\"314.662\" stroke-linecap=\"round\" style=\"stroke:green;stroke-width:4\"/><line x1=\"124.364\" y1=\"314.662\" x2=\"115.535\" y2=\"309.967\" stroke-linecap=\"round\" style=\"stroke:green;stroke-width:4\"/><line x1=\"115.535\" y1=\"309.967\" x2=\"106.706\" y2=\"305.272\" stroke-linecap=\"round\" style=\"stroke:green;stroke-width:4\"/><line x1=\"106.706\" y1=\"305.272\" x2=\"97.877\" y2=\"300.577\" stroke-linecap=\"round\" style=\"stroke:green;stroke-width:4\"/><line x1=\"97.877\" y1=\"300.577\" x2=\"89.048\" y2=\"295.882\" stroke-linecap=\"round\" style=\"stroke:green;stroke-width:4\"/><line x1=\"89.048\" y1=\"295.882\" x2=\"80.219\" y2=\"291.187\" stroke-linecap=\"round\" style=\"stroke:green;stroke-width:4\"/><line x1=\"80.219\" y1=\"291.187\" x2=\"71.39\" y2=\"286.492\" stroke-linecap=\"round\" style=\"stroke:green;stroke-width:4\"/><line x1=\"71.39\" y1=\"286.492\" x2=\"62.561\" y2=\"281.797\" stroke-linecap=\"round\" style=\"stroke:green;stroke-width:4\"/><line x1=\"62.561\" y1=\"281.797\" x2=\"53.732\" y2=\"277.102\" stroke-linecap=\"round\" style=\"stroke:green;stroke-width:4\"/><line x1=\"53.732\" y1=\"277.102\" x2=\"44.903\" y2=\"272.407\" stroke-linecap=\"round\" style=\"stroke:green;stroke-width:4\"/><line x1=\"44.903\" y1=\"272.407\" x2=\"36.074\" y2=\"267.712\" stroke-linecap=\"round\" style=\"stroke:green;stroke-width:4\"/><line x1=\"36.074\" y1=\"267.712\" x2=\"27.245\" y2=\"263.017\" stroke-linecap=\"round\" style=\"stroke:green;stroke-width:4\"/><line x1=\"27.245\" y1=\"263.017\" x2=\"18.416\" y2=\"258.322\" stroke-linecap=\"round\" style=\"stroke:green;stroke-width:4\"/><line x1=\"18.416\" y1=\"258.322\" x2=\"20\" y2=\"258.322\" stroke-linecap=\"round\" style=\"stroke:green;stroke-width:4\"/><line x1=\"20\" y1=\"258.322\" x2=\"18.304\" y2=\"257.262\" stroke-linecap=\"round\" style=\"stroke:red;stroke-width:4\"/><line x1=\"18.304\" y1=\"257.262\" x2=\"20\" y2=\"257.262\" stroke-linecap=\"round\" style=\"stroke:red;stroke-width:4\"/><line x1=\"20\" y1=\"257.262\" x2=\"19.516\" y2=\"255.321\" stroke-linecap=\"round\" style=\"stroke:red;stroke-width:4\"/><line x1=\"19.516\" y1=\"255.321\" x2=\"20\" y2=\"255.321\" stroke-linecap=\"round\" style=\"stroke:red;stroke-width:4\"/><line x1=\"20\" y1=\"255.321\" x2=\"21.0\" y2=\"253.589\" stroke-linecap=\"round\" style=\"stroke:red;stroke-width:4\"/><line x1=\"21.0\" y1=\"253.589\" x2=\"22.118\" y2=\"251.931\" stroke-linecap=\"round\" style=\"stroke:green;stroke-width:4\"/><line x1=\"22.118\" y1=\"251.931\" x2=\"23.349\" y2=\"250.355\" stroke-linecap=\"round\" style=\"stroke:green;stroke-width:4\"/><line x1=\"23.349\" y1=\"250.355\" x2=\"24.687\" y2=\"248.869\" stroke-linecap=\"round\" style=\"stroke:green;stroke-width:4\"/><line x1=\"24.687\" y1=\"248.869\" x2=\"26.126\" y2=\"247.48\" stroke-linecap=\"round\" style=\"stroke:green;stroke-width:4\"/><line x1=\"26.126\" y1=\"247.48\" x2=\"27.658\" y2=\"246.194\" stroke-linecap=\"round\" style=\"stroke:green;stroke-width:4\"/><line x1=\"27.658\" y1=\"246.194\" x2=\"29.276\" y2=\"245.018\" stroke-linecap=\"round\" style=\"stroke:green;stroke-width:4\"/><line x1=\"29.276\" y1=\"245.018\" x2=\"30.972\" y2=\"243.958\" stroke-linecap=\"round\" style=\"stroke:green;stroke-width:4\"/><line x1=\"30.972\" y1=\"243.958\" x2=\"32.738\" y2=\"243.019\" stroke-linecap=\"round\" style=\"stroke:green;stroke-width:4\"/><line x1=\"32.738\" y1=\"243.019\" x2=\"34.565\" y2=\"242.206\" stroke-linecap=\"round\" style=\"stroke:green;stroke-width:4\"/><line x1=\"34.565\" y1=\"242.206\" x2=\"43.7\" y2=\"238.139\" stroke-linecap=\"round\" style=\"stroke:green;stroke-width:4\"/><line x1=\"43.7\" y1=\"238.139\" x2=\"52.835\" y2=\"234.072\" stroke-linecap=\"round\" style=\"stroke:green;stroke-width:4\"/><line x1=\"52.835\" y1=\"234.072\" x2=\"61.97\" y2=\"230.005\" stroke-linecap=\"round\" style=\"stroke:green;stroke-width:4\"/><line x1=\"61.97\" y1=\"230.005\" x2=\"71.105\" y2=\"225.938\" stroke-linecap=\"round\" style=\"stroke:green;stroke-width:4\"/><line x1=\"71.105\" y1=\"225.938\" x2=\"80.24\" y2=\"221.871\" stroke-linecap=\"round\" style=\"stroke:green;stroke-width:4\"/><line x1=\"80.24\" y1=\"221.871\" x2=\"89.375\" y2=\"217.804\" stroke-linecap=\"round\" style=\"stroke:green;stroke-width:4\"/><line x1=\"89.375\" y1=\"217.804\" x2=\"98.51\" y2=\"213.737\" stroke-linecap=\"round\" style=\"stroke:green;stroke-width:4\"/><line x1=\"98.51\" y1=\"213.737\" x2=\"107.645\" y2=\"209.67\" stroke-linecap=\"round\" style=\"stroke:green;stroke-width:4\"/><line x1=\"107.645\" y1=\"209.67\" x2=\"116.78\" y2=\"205.603\" stroke-linecap=\"round\" style=\"stroke:green;stroke-width:4\"/><line x1=\"116.78\" y1=\"205.603\" x2=\"125.915\" y2=\"201.536\" stroke-linecap=\"round\" style=\"stroke:green;stroke-width:4\"/><line x1=\"125.915\" y1=\"201.536\" x2=\"135.05\" y2=\"197.469\" stroke-linecap=\"round\" style=\"stroke:green;stroke-width:4\"/><line x1=\"135.05\" y1=\"197.469\" x2=\"144.185\" y2=\"193.402\" stroke-linecap=\"round\" style=\"stroke:green;stroke-width:4\"/><line x1=\"144.185\" y1=\"193.402\" x2=\"153.32\" y2=\"189.335\" stroke-linecap=\"round\" style=\"stroke:green;stroke-width:4\"/><line x1=\"153.32\" y1=\"189.335\" x2=\"162.455\" y2=\"185.268\" stroke-linecap=\"round\" style=\"stroke:green;stroke-width:4\"/><line x1=\"162.455\" y1=\"185.268\" x2=\"171.59\" y2=\"181.201\" stroke-linecap=\"round\" style=\"stroke:green;stroke-width:4\"/><line x1=\"171.59\" y1=\"181.201\" x2=\"180.725\" y2=\"177.134\" stroke-linecap=\"round\" style=\"stroke:green;stroke-width:4\"/><line x1=\"180.725\" y1=\"177.134\" x2=\"189.86\" y2=\"173.067\" stroke-linecap=\"round\" style=\"stroke:green;stroke-width:4\"/><line x1=\"189.86\" y1=\"173.067\" x2=\"198.995\" y2=\"169.0\" stroke-linecap=\"round\" style=\"stroke:green;stroke-width:4\"/><line x1=\"198.995\" y1=\"169.0\" x2=\"208.13\" y2=\"164.933\" stroke-linecap=\"round\" style=\"stroke:green;stroke-width:4\"/><line x1=\"208.13\" y1=\"164.933\" x2=\"217.265\" y2=\"160.866\" stroke-linecap=\"round\" style=\"stroke:green;stroke-width:4\"/><line x1=\"217.265\" y1=\"160.866\" x2=\"226.4\" y2=\"156.799\" stroke-linecap=\"round\" style=\"stroke:green;stroke-width:4\"/><line x1=\"226.4\" y1=\"156.799\" x2=\"235.535\" y2=\"152.732\" stroke-linecap=\"round\" style=\"stroke:green;stroke-width:4\"/><line x1=\"235.535\" y1=\"152.732\" x2=\"244.67\" y2=\"148.665\" stroke-linecap=\"round\" style=\"stroke:green;stroke-width:4\"/><line x1=\"244.67\" y1=\"148.665\" x2=\"253.805\" y2=\"144.598\" stroke-linecap=\"round\" style=\"stroke:green;stroke-width:4\"/><line x1=\"253.805\" y1=\"144.598\" x2=\"262.94\" y2=\"140.531\" stroke-linecap=\"round\" style=\"stroke:green;stroke-width:4\"/><line x1=\"262.94\" y1=\"140.531\" x2=\"272.075\" y2=\"136.464\" stroke-linecap=\"round\" style=\"stroke:green;stroke-width:4\"/><line x1=\"272.075\" y1=\"136.464\" x2=\"281.21\" y2=\"132.397\" stroke-linecap=\"round\" style=\"stroke:green;stroke-width:4\"/><line x1=\"281.21\" y1=\"132.397\" x2=\"290.345\" y2=\"128.33\" stroke-linecap=\"round\" style=\"stroke:green;stroke-width:4\"/><line x1=\"290.345\" y1=\"128.33\" x2=\"299.48\" y2=\"124.263\" stroke-linecap=\"round\" style=\"stroke:green;stroke-width:4\"/><line x1=\"299.48\" y1=\"124.263\" x2=\"308.615\" y2=\"120.196\" stroke-linecap=\"round\" style=\"stroke:green;stroke-width:4\"/><line x1=\"308.615\" y1=\"120.196\" x2=\"317.75\" y2=\"116.129\" stroke-linecap=\"round\" style=\"stroke:green;stroke-width:4\"/><line x1=\"317.75\" y1=\"116.129\" x2=\"326.885\" y2=\"112.062\" stroke-linecap=\"round\" style=\"stroke:green;stroke-width:4\"/><line x1=\"326.885\" y1=\"112.062\" x2=\"336.02\" y2=\"107.995\" stroke-linecap=\"round\" style=\"stroke:green;stroke-width:4\"/><line x1=\"336.02\" y1=\"107.995\" x2=\"345.155\" y2=\"103.928\" stroke-linecap=\"round\" style=\"stroke:green;stroke-width:4\"/><line x1=\"345.155\" y1=\"103.928\" x2=\"354.29\" y2=\"99.861\" stroke-linecap=\"round\" style=\"stroke:green;stroke-width:4\"/><line x1=\"354.29\" y1=\"99.861\" x2=\"363.425\" y2=\"95.794\" stroke-linecap=\"round\" style=\"stroke:green;stroke-width:4\"/><line x1=\"363.425\" y1=\"95.794\" x2=\"372.56\" y2=\"91.727\" stroke-linecap=\"round\" style=\"stroke:green;stroke-width:4\"/><line x1=\"372.56\" y1=\"91.727\" x2=\"381.695\" y2=\"87.66\" stroke-linecap=\"round\" style=\"stroke:green;stroke-width:4\"/><line x1=\"381.695\" y1=\"87.66\" x2=\"390.83\" y2=\"83.593\" stroke-linecap=\"round\" style=\"stroke:green;stroke-width:4\"/><line x1=\"390.83\" y1=\"83.593\" x2=\"399.965\" y2=\"79.526\" stroke-linecap=\"round\" style=\"stroke:green;stroke-width:4\"/><line x1=\"399.965\" y1=\"79.526\" x2=\"409.1\" y2=\"75.459\" stroke-linecap=\"round\" style=\"stroke:green;stroke-width:4\"/><line x1=\"409.1\" y1=\"75.459\" x2=\"418.235\" y2=\"71.392\" stroke-linecap=\"round\" style=\"stroke:green;stroke-width:4\"/><line x1=\"418.235\" y1=\"71.392\" x2=\"427.37\" y2=\"67.325\" stroke-linecap=\"round\" style=\"stroke:green;stroke-width:4\"/><line x1=\"427.37\" y1=\"67.325\" x2=\"436.505\" y2=\"63.258\" stroke-linecap=\"round\" style=\"stroke:green;stroke-width:4\"/><line x1=\"436.505\" y1=\"63.258\" x2=\"445.64\" y2=\"59.191\" stroke-linecap=\"round\" style=\"stroke:green;stroke-width:4\"/><line x1=\"445.64\" y1=\"59.191\" x2=\"454.775\" y2=\"55.124\" stroke-linecap=\"round\" style=\"stroke:green;stroke-width:4\"/><line x1=\"454.775\" y1=\"55.124\" x2=\"463.91\" y2=\"51.057\" stroke-linecap=\"round\" style=\"stroke:green;stroke-width:4\"/><line x1=\"463.91\" y1=\"51.057\" x2=\"473.045\" y2=\"46.99\" stroke-linecap=\"round\" style=\"stroke:green;stroke-width:4\"/><line x1=\"473.045\" y1=\"46.99\" x2=\"482.18\" y2=\"42.923\" stroke-linecap=\"round\" style=\"stroke:green;stroke-width:4\"/><line x1=\"482.18\" y1=\"42.923\" x2=\"491.315\" y2=\"38.856\" stroke-linecap=\"round\" style=\"stroke:green;stroke-width:4\"/><line x1=\"491.315\" y1=\"38.856\" x2=\"493.081\" y2=\"37.917\" stroke-linecap=\"round\" style=\"stroke:green;stroke-width:4\"/><line x1=\"493.081\" y1=\"37.917\" x2=\"494.777\" y2=\"36.857\" stroke-linecap=\"round\" style=\"stroke:green;stroke-width:4\"/><line x1=\"494.777\" y1=\"36.857\" x2=\"496.395\" y2=\"35.681\" stroke-linecap=\"round\" style=\"stroke:green;stroke-width:4\"/><line x1=\"496.395\" y1=\"35.681\" x2=\"497.927\" y2=\"34.395\" stroke-linecap=\"round\" style=\"stroke:green;stroke-width:4\"/><line x1=\"497.927\" y1=\"34.395\" x2=\"499.366\" y2=\"33.006\" stroke-linecap=\"round\" style=\"stroke:green;stroke-width:4\"/><line x1=\"499.366\" y1=\"33.006\" x2=\"500.704\" y2=\"31.52\" stroke-linecap=\"round\" style=\"stroke:green;stroke-width:4\"/><line x1=\"500.704\" y1=\"31.52\" x2=\"501.935\" y2=\"29.944\" stroke-linecap=\"round\" style=\"stroke:green;stroke-width:4\"/><line x1=\"501.935\" y1=\"29.944\" x2=\"503.053\" y2=\"28.286\" stroke-linecap=\"round\" style=\"stroke:green;stroke-width:4\"/><line x1=\"503.053\" y1=\"28.286\" x2=\"504.053\" y2=\"26.554\" stroke-linecap=\"round\" style=\"stroke:green;stroke-width:4\"/><line x1=\"504.053\" y1=\"26.554\" x2=\"504.93\" y2=\"24.756\" stroke-linecap=\"round\" style=\"stroke:green;stroke-width:4\"/><line x1=\"504.93\" y1=\"24.756\" x2=\"509.314\" y2=\"15.768\" stroke-linecap=\"round\" style=\"stroke:green;stroke-width:4\"/><line x1=\"509.314\" y1=\"15.768\" x2=\"509.314\" y2=\"20\" stroke-linecap=\"round\" style=\"stroke:green;stroke-width:4\"/><line x1=\"509.314\" y1=\"20\" x2=\"510.314\" y2=\"18.268\" stroke-linecap=\"round\" style=\"stroke:red;stroke-width:4\"/><line x1=\"510.314\" y1=\"18.268\" x2=\"510.314\" y2=\"20\" stroke-linecap=\"round\" style=\"stroke:red;stroke-width:4\"/><line x1=\"510.314\" y1=\"20\" x2=\"512.237\" y2=\"19.449\" stroke-linecap=\"round\" style=\"stroke:red;stroke-width:4\"/><line x1=\"512.237\" y1=\"19.449\" x2=\"512.237\" y2=\"20\" stroke-linecap=\"round\" style=\"stroke:red;stroke-width:4\"/><line x1=\"512.237\" y1=\"20\" x2=\"514.003\" y2=\"20.939\" stroke-linecap=\"round\" style=\"stroke:red;stroke-width:4\"/><line x1=\"514.003\" y1=\"20.939\" x2=\"515.699\" y2=\"21.999\" stroke-linecap=\"round\" style=\"stroke:green;stroke-width:4\"/><line x1=\"515.699\" y1=\"21.999\" x2=\"517.317\" y2=\"23.175\" stroke-linecap=\"round\" style=\"stroke:green;stroke-width:4\"/><line x1=\"517.317\" y1=\"23.175\" x2=\"518.849\" y2=\"24.461\" stroke-linecap=\"round\" style=\"stroke:green;stroke-width:4\"/><line x1=\"518.849\" y1=\"24.461\" x2=\"520.288\" y2=\"25.85\" stroke-linecap=\"round\" style=\"stroke:green;stroke-width:4\"/><line x1=\"520.288\" y1=\"25.85\" x2=\"521.626\" y2=\"27.336\" stroke-linecap=\"round\" style=\"stroke:green;stroke-width:4\"/><line x1=\"521.626\" y1=\"27.336\" x2=\"522.857\" y2=\"28.912\" stroke-linecap=\"round\" style=\"stroke:green;stroke-width:4\"/><line x1=\"522.857\" y1=\"28.912\" x2=\"523.975\" y2=\"30.57\" stroke-linecap=\"round\" style=\"stroke:green;stroke-width:4\"/><line x1=\"523.975\" y1=\"30.57\" x2=\"524.975\" y2=\"32.302\" stroke-linecap=\"round\" style=\"stroke:green;stroke-width:4\"/><line x1=\"524.975\" y1=\"32.302\" x2=\"525.852\" y2=\"34.1\" stroke-linecap=\"round\" style=\"stroke:green;stroke-width:4\"/><line x1=\"525.852\" y1=\"34.1\" x2=\"530.236\" y2=\"43.088\" stroke-linecap=\"round\" style=\"stroke:green;stroke-width:4\"/><line x1=\"530.236\" y1=\"43.088\" x2=\"534.62\" y2=\"52.076\" stroke-linecap=\"round\" style=\"stroke:green;stroke-width:4\"/><line x1=\"534.62\" y1=\"52.076\" x2=\"539.004\" y2=\"61.064\" stroke-linecap=\"round\" style=\"stroke:green;stroke-width:4\"/><line x1=\"539.004\" y1=\"61.064\" x2=\"543.388\" y2=\"70.052\" stroke-linecap=\"round\" style=\"stroke:green;stroke-width:4\"/><line x1=\"543.388\" y1=\"70.052\" x2=\"547.772\" y2=\"79.04\" stroke-linecap=\"round\" style=\"stroke:green;stroke-width:4\"/><line x1=\"547.772\" y1=\"79.04\" x2=\"552.156\" y2=\"88.028\" stroke-linecap=\"round\" style=\"stroke:green;stroke-width:4\"/><line x1=\"552.156\" y1=\"88.028\" x2=\"556.54\" y2=\"97.016\" stroke-linecap=\"round\" style=\"stroke:green;stroke-width:4\"/><line x1=\"556.54\" y1=\"97.016\" x2=\"560.924\" y2=\"106.004\" stroke-linecap=\"round\" style=\"stroke:green;stroke-width:4\"/><line x1=\"560.924\" y1=\"106.004\" x2=\"565.308\" y2=\"114.992\" stroke-linecap=\"round\" style=\"stroke:green;stroke-width:4\"/><line x1=\"565.308\" y1=\"114.992\" x2=\"569.692\" y2=\"123.98\" stroke-linecap=\"round\" style=\"stroke:green;stroke-width:4\"/><line x1=\"569.692\" y1=\"123.98\" x2=\"574.076\" y2=\"132.968\" stroke-linecap=\"round\" style=\"stroke:green;stroke-width:4\"/><line x1=\"574.076\" y1=\"132.968\" x2=\"578.46\" y2=\"141.956\" stroke-linecap=\"round\" style=\"stroke:green;stroke-width:4\"/><line x1=\"578.46\" y1=\"141.956\" x2=\"582.844\" y2=\"150.944\" stroke-linecap=\"round\" style=\"stroke:green;stroke-width:4\"/><line x1=\"582.844\" y1=\"150.944\" x2=\"587.228\" y2=\"159.932\" stroke-linecap=\"round\" style=\"stroke:green;stroke-width:4\"/><line x1=\"587.228\" y1=\"159.932\" x2=\"591.612\" y2=\"168.92\" stroke-linecap=\"round\" style=\"stroke:green;stroke-width:4\"/><line x1=\"591.612\" y1=\"168.92\" x2=\"595.996\" y2=\"177.908\" stroke-linecap=\"round\" style=\"stroke:green;stroke-width:4\"/><line x1=\"595.996\" y1=\"177.908\" x2=\"600.38\" y2=\"186.896\" stroke-linecap=\"round\" style=\"stroke:green;stroke-width:4\"/><line x1=\"600.38\" y1=\"186.896\" x2=\"604.764\" y2=\"195.884\" stroke-linecap=\"round\" style=\"stroke:green;stroke-width:4\"/><line x1=\"604.764\" y1=\"195.884\" x2=\"609.148\" y2=\"204.872\" stroke-linecap=\"round\" style=\"stroke:green;stroke-width:4\"/><line x1=\"609.148\" y1=\"204.872\" x2=\"613.532\" y2=\"213.86\" stroke-linecap=\"round\" style=\"stroke:green;stroke-width:4\"/><line x1=\"613.532\" y1=\"213.86\" x2=\"617.916\" y2=\"222.848\" stroke-linecap=\"round\" style=\"stroke:green;stroke-width:4\"/><line x1=\"617.916\" y1=\"222.848\" x2=\"622.3\" y2=\"231.836\" stroke-linecap=\"round\" style=\"stroke:green;stroke-width:4\"/><line x1=\"622.3\" y1=\"231.836\" x2=\"626.684\" y2=\"240.824\" stroke-linecap=\"round\" style=\"stroke:green;stroke-width:4\"/><line x1=\"626.684\" y1=\"240.824\" x2=\"631.068\" y2=\"249.812\" stroke-linecap=\"round\" style=\"stroke:green;stroke-width:4\"/><line x1=\"631.068\" y1=\"249.812\" x2=\"635.452\" y2=\"258.8\" stroke-linecap=\"round\" style=\"stroke:green;stroke-width:4\"/><line x1=\"635.452\" y1=\"258.8\" x2=\"639.836\" y2=\"267.788\" stroke-linecap=\"round\" style=\"stroke:green;stroke-width:4\"/><line x1=\"639.836\" y1=\"267.788\" x2=\"644.22\" y2=\"276.776\" stroke-linecap=\"round\" style=\"stroke:green;stroke-width:4\"/><line x1=\"644.22\" y1=\"276.776\" x2=\"648.604\" y2=\"285.764\" stroke-linecap=\"round\" style=\"stroke:green;stroke-width:4\"/><line x1=\"648.604\" y1=\"285.764\" x2=\"652.988\" y2=\"294.752\" stroke-linecap=\"round\" style=\"stroke:green;stroke-width:4\"/><line x1=\"652.988\" y1=\"294.752\" x2=\"657.372\" y2=\"303.74\" stroke-linecap=\"round\" style=\"stroke:green;stroke-width:4\"/><line x1=\"657.372\" y1=\"303.74\" x2=\"661.756\" y2=\"312.728\" stroke-linecap=\"round\" style=\"stroke:green;stroke-width:4\"/><line x1=\"661.756\" y1=\"312.728\" x2=\"666.14\" y2=\"321.716\" stroke-linecap=\"round\" style=\"stroke:green;stroke-width:4\"/><line x1=\"666.14\" y1=\"321.716\" x2=\"670.524\" y2=\"330.704\" stroke-linecap=\"round\" style=\"stroke:green;stroke-width:4\"/><line x1=\"670.524\" y1=\"330.704\" x2=\"674.908\" y2=\"339.692\" stroke-linecap=\"round\" style=\"stroke:green;stroke-width:4\"/><line x1=\"674.908\" y1=\"339.692\" x2=\"679.292\" y2=\"348.68\" stroke-linecap=\"round\" style=\"stroke:green;stroke-width:4\"/><line x1=\"679.292\" y1=\"348.68\" x2=\"683.676\" y2=\"357.668\" stroke-linecap=\"round\" style=\"stroke:green;stroke-width:4\"/><line x1=\"683.676\" y1=\"357.668\" x2=\"688.06\" y2=\"366.656\" stroke-linecap=\"round\" style=\"stroke:green;stroke-width:4\"/><line x1=\"688.06\" y1=\"366.656\" x2=\"692.444\" y2=\"375.644\" stroke-linecap=\"round\" style=\"stroke:green;stroke-width:4\"/><line x1=\"692.444\" y1=\"375.644\" x2=\"696.828\" y2=\"384.632\" stroke-linecap=\"round\" style=\"stroke:green;stroke-width:4\"/><line x1=\"696.828\" y1=\"384.632\" x2=\"701.212\" y2=\"393.62\" stroke-linecap=\"round\" style=\"stroke:green;stroke-width:4\"/><line x1=\"701.212\" y1=\"393.62\" x2=\"705.596\" y2=\"402.608\" stroke-linecap=\"round\" style=\"stroke:green;stroke-width:4\"/><line x1=\"705.596\" y1=\"402.608\" x2=\"709.98\" y2=\"411.596\" stroke-linecap=\"round\" style=\"stroke:green;stroke-width:4\"/><line x1=\"709.98\" y1=\"411.596\" x2=\"714.364\" y2=\"420.584\" stroke-linecap=\"round\" style=\"stroke:green;stroke-width:4\"/><line x1=\"714.364\" y1=\"420.584\" x2=\"718.748\" y2=\"429.572\" stroke-linecap=\"round\" style=\"stroke:green;stroke-width:4\"/><line x1=\"718.748\" y1=\"429.572\" x2=\"723.132\" y2=\"438.56\" stroke-linecap=\"round\" style=\"stroke:green;stroke-width:4\"/><line x1=\"723.132\" y1=\"438.56\" x2=\"727.516\" y2=\"447.548\" stroke-linecap=\"round\" style=\"stroke:green;stroke-width:4\"/><line x1=\"727.516\" y1=\"447.548\" x2=\"731.9\" y2=\"456.536\" stroke-linecap=\"round\" style=\"stroke:green;stroke-width:4\"/><line x1=\"731.9\" y1=\"456.536\" x2=\"736.284\" y2=\"465.524\" stroke-linecap=\"round\" style=\"stroke:green;stroke-width:4\"/><line x1=\"736.284\" y1=\"465.524\" x2=\"740.668\" y2=\"474.512\" stroke-linecap=\"round\" style=\"stroke:green;stroke-width:4\"/><line x1=\"740.668\" y1=\"474.512\" x2=\"745.052\" y2=\"483.5\" stroke-linecap=\"round\" style=\"stroke:green;stroke-width:4\"/><line x1=\"745.052\" y1=\"483.5\" x2=\"745.052\" y2=\"480\" stroke-linecap=\"round\" style=\"stroke:green;stroke-width:4\"/><line x1=\"745.052\" y1=\"480\" x2=\"749.436\" y2=\"488.988\" stroke-linecap=\"round\" style=\"stroke:red;stroke-width:4\"/><line x1=\"749.436\" y1=\"488.988\" x2=\"749.436\" y2=\"480\" stroke-linecap=\"round\" style=\"stroke:red;stroke-width:4\"/><line x1=\"749.436\" y1=\"480\" x2=\"753.82\" y2=\"488.988\" stroke-linecap=\"round\" style=\"stroke:red;stroke-width:4\"/><line x1=\"753.82\" y1=\"488.988\" x2=\"753.82\" y2=\"480\" stroke-linecap=\"round\" style=\"stroke:red;stroke-width:4\"/><line x1=\"753.82\" y1=\"480\" x2=\"754.569\" y2=\"481.854\" stroke-linecap=\"round\" style=\"stroke:red;stroke-width:4\"/><line x1=\"754.569\" y1=\"481.854\" x2=\"754.569\" y2=\"480\" stroke-linecap=\"round\" style=\"stroke:red;stroke-width:4\"/><line x1=\"754.569\" y1=\"480\" x2=\"753.82\" y2=\"481.854\" stroke-linecap=\"round\" style=\"stroke:red;stroke-width:4\"/><line x1=\"753.82\" y1=\"481.854\" x2=\"753.82\" y2=\"480\" stroke-linecap=\"round\" style=\"stroke:red;stroke-width:4\"/><line x1=\"753.82\" y1=\"480\" x2=\"751.993\" y2=\"480.813\" stroke-linecap=\"round\" style=\"stroke:red;stroke-width:4\"/><line x1=\"751.993\" y1=\"480.813\" x2=\"751.993\" y2=\"480\" stroke-linecap=\"round\" style=\"stroke:red;stroke-width:4\"/><line x1=\"751.993\" y1=\"480\" x2=\"750.114\" y2=\"479.316\" stroke-linecap=\"round\" style=\"stroke:red;stroke-width:4\"/><line x1=\"750.114\" y1=\"479.316\" x2=\"748.287\" y2=\"478.503\" stroke-linecap=\"round\" style=\"stroke:green;stroke-width:4\"/><line x1=\"748.287\" y1=\"478.503\" x2=\"746.521\" y2=\"477.564\" stroke-linecap=\"round\" style=\"stroke:green;stroke-width:4\"/><line x1=\"746.521\" y1=\"477.564\" x2=\"744.825\" y2=\"476.504\" stroke-linecap=\"round\" style=\"stroke:green;stroke-width:4\"/><line x1=\"744.825\" y1=\"476.504\" x2=\"743.207\" y2=\"475.328\" stroke-linecap=\"round\" style=\"stroke:green;stroke-width:4\"/><line x1=\"743.207\" y1=\"475.328\" x2=\"741.675\" y2=\"474.042\" stroke-linecap=\"round\" style=\"stroke:green;stroke-width:4\"/><line x1=\"741.675\" y1=\"474.042\" x2=\"740.236\" y2=\"472.653\" stroke-linecap=\"round\" style=\"stroke:green;stroke-width:4\"/><line x1=\"740.236\" y1=\"472.653\" x2=\"738.898\" y2=\"471.167\" stroke-linecap=\"round\" style=\"stroke:green;stroke-width:4\"/><line x1=\"738.898\" y1=\"471.167\" x2=\"737.667\" y2=\"469.591\" stroke-linecap=\"round\" style=\"stroke:green;stroke-width:4\"/><line x1=\"737.667\" y1=\"469.591\" x2=\"736.549\" y2=\"467.933\" stroke-linecap=\"round\" style=\"stroke:green;stroke-width:4\"/><line x1=\"736.549\" y1=\"467.933\" x2=\"730.957\" y2=\"459.643\" stroke-linecap=\"round\" style=\"stroke:green;stroke-width:4\"/><line x1=\"730.957\" y1=\"459.643\" x2=\"725.365\" y2=\"451.353\" stroke-linecap=\"round\" style=\"stroke:green;stroke-width:4\"/><line x1=\"725.365\" y1=\"451.353\" x2=\"719.773\" y2=\"443.063\" stroke-linecap=\"round\" style=\"stroke:green;stroke-width:4\"/><line x1=\"719.773\" y1=\"443.063\" x2=\"714.181\" y2=\"434.773\" stroke-linecap=\"round\" style=\"stroke:green;stroke-width:4\"/><line x1=\"714.181\" y1=\"434.773\" x2=\"708.589\" y2=\"426.483\" stroke-linecap=\"round\" style=\"stroke:green;stroke-width:4\"/><line x1=\"708.589\" y1=\"426.483\" x2=\"702.997\" y2=\"418.193\" stroke-linecap=\"round\" style=\"stroke:green;stroke-width:4\"/><line x1=\"702.997\" y1=\"418.193\" x2=\"697.405\" y2=\"409.903\" stroke-linecap=\"round\" style=\"stroke:green;stroke-width:4\"/><line x1=\"697.405\" y1=\"409.903\" x2=\"691.813\" y2=\"401.613\" stroke-linecap=\"round\" style=\"stroke:green;stroke-width:4\"/><line x1=\"691.813\" y1=\"401.613\" x2=\"686.221\" y2=\"393.323\" stroke-linecap=\"round\" style=\"stroke:green;stroke-width:4\"/><line x1=\"686.221\" y1=\"393.323\" x2=\"680.629\" y2=\"385.033\" stroke-linecap=\"round\" style=\"stroke:green;stroke-width:4\"/><line x1=\"680.629\" y1=\"385.033\" x2=\"675.037\" y2=\"376.743\" stroke-linecap=\"round\" style=\"stroke:green;stroke-width:4\"/><line x1=\"675.037\" y1=\"376.743\" x2=\"669.445\" y2=\"368.453\" stroke-linecap=\"round\" style=\"stroke:green;stroke-width:4\"/><line x1=\"669.445\" y1=\"368.453\" x2=\"663.853\" y2=\"360.163\" stroke-linecap=\"round\" style=\"stroke:green;stroke-width:4\"/><line x1=\"663.853\" y1=\"360.163\" x2=\"658.261\" y2=\"351.873\" stroke-linecap=\"round\" style=\"stroke:green;stroke-width:4\"/><line x1=\"658.261\" y1=\"351.873\" x2=\"652.669\" y2=\"343.583\" stroke-linecap=\"round\" style=\"stroke:green;stroke-width:4\"/><line x1=\"652.669\" y1=\"343.583\" x2=\"647.077\" y2=\"335.293\" stroke-linecap=\"round\" style=\"stroke:green;stroke-width:4\"/><line x1=\"647.077\" y1=\"335.293\" x2=\"641.485\" y2=\"327.003\" stroke-linecap=\"round\" style=\"stroke:green;stroke-width:4\"/><line x1=\"641.485\" y1=\"327.003\" x2=\"635.893\" y2=\"318.713\" stroke-linecap=\"round\" style=\"stroke:green;stroke-width:4\"/><line x1=\"635.893\" y1=\"318.713\" x2=\"630.301\" y2=\"310.423\" stroke-linecap=\"round\" style=\"stroke:green;stroke-width:4\"/><line x1=\"630.301\" y1=\"310.423\" x2=\"624.709\" y2=\"302.133\" stroke-linecap=\"round\" style=\"stroke:green;stroke-width:4\"/><line x1=\"624.709\" y1=\"302.133\" x2=\"619.117\" y2=\"293.843\" stroke-linecap=\"round\" style=\"stroke:green;stroke-width:4\"/><line x1=\"619.117\" y1=\"293.843\" x2=\"613.525\" y2=\"285.553\" stroke-linecap=\"round\" style=\"stroke:green;stroke-width:4\"/><line x1=\"613.525\" y1=\"285.553\" x2=\"607.933\" y2=\"277.263\" stroke-linecap=\"round\" style=\"stroke:green;stroke-width:4\"/><line x1=\"607.933\" y1=\"277.263\" x2=\"602.341\" y2=\"268.973\" stroke-linecap=\"round\" style=\"stroke:green;stroke-width:4\"/><line x1=\"602.341\" y1=\"268.973\" x2=\"596.749\" y2=\"260.683\" stroke-linecap=\"round\" style=\"stroke:green;stroke-width:4\"/><line x1=\"596.749\" y1=\"260.683\" x2=\"591.157\" y2=\"252.393\" stroke-linecap=\"round\" style=\"stroke:green;stroke-width:4\"/><line x1=\"591.157\" y1=\"252.393\" x2=\"585.565\" y2=\"244.103\" stroke-linecap=\"round\" style=\"stroke:green;stroke-width:4\"/><line x1=\"585.565\" y1=\"244.103\" x2=\"579.973\" y2=\"235.813\" stroke-linecap=\"round\" style=\"stroke:green;stroke-width:4\"/><line x1=\"579.973\" y1=\"235.813\" x2=\"574.381\" y2=\"227.523\" stroke-linecap=\"round\" style=\"stroke:green;stroke-width:4\"/><line x1=\"574.381\" y1=\"227.523\" x2=\"568.789\" y2=\"219.233\" stroke-linecap=\"round\" style=\"stroke:green;stroke-width:4\"/><line x1=\"568.789\" y1=\"219.233\" x2=\"563.197\" y2=\"210.943\" stroke-linecap=\"round\" style=\"stroke:green;stroke-width:4\"/><line x1=\"563.197\" y1=\"210.943\" x2=\"557.605\" y2=\"202.653\" stroke-linecap=\"round\" style=\"stroke:green;stroke-width:4\"/><line x1=\"557.605\" y1=\"202.653\" x2=\"552.013\" y2=\"194.363\" stroke-linecap=\"round\" style=\"stroke:green;stroke-width:4\"/><line x1=\"552.013\" y1=\"194.363\" x2=\"546.421\" y2=\"186.073\" stroke-linecap=\"round\" style=\"stroke:green;stroke-width:4\"/><line x1=\"546.421\" y1=\"186.073\" x2=\"540.829\" y2=\"177.783\" stroke-linecap=\"round\" style=\"stroke:green;stroke-width:4\"/><line x1=\"540.829\" y1=\"177.783\" x2=\"535.237\" y2=\"169.493\" stroke-linecap=\"round\" style=\"stroke:green;stroke-width:4\"/><line x1=\"535.237\" y1=\"169.493\" x2=\"529.645\" y2=\"161.203\" stroke-linecap=\"round\" style=\"stroke:green;stroke-width:4\"/><line x1=\"529.645\" y1=\"161.203\" x2=\"524.053\" y2=\"152.913\" stroke-linecap=\"round\" style=\"stroke:green;stroke-width:4\"/><line x1=\"524.053\" y1=\"152.913\" x2=\"518.461\" y2=\"144.623\" stroke-linecap=\"round\" style=\"stroke:green;stroke-width:4\"/><line x1=\"518.461\" y1=\"144.623\" x2=\"512.869\" y2=\"136.333\" stroke-linecap=\"round\" style=\"stroke:green;stroke-width:4\"/><line x1=\"512.869\" y1=\"136.333\" x2=\"507.277\" y2=\"128.043\" stroke-linecap=\"round\" style=\"stroke:green;stroke-width:4\"/><line x1=\"507.277\" y1=\"128.043\" x2=\"501.685\" y2=\"119.753\" stroke-linecap=\"round\" style=\"stroke:green;stroke-width:4\"/><line x1=\"501.685\" y1=\"119.753\" x2=\"496.093\" y2=\"111.463\" stroke-linecap=\"round\" style=\"stroke:green;stroke-width:4\"/><line x1=\"496.093\" y1=\"111.463\" x2=\"490.501\" y2=\"103.173\" stroke-linecap=\"round\" style=\"stroke:green;stroke-width:4\"/><line x1=\"490.501\" y1=\"103.173\" x2=\"484.909\" y2=\"94.883\" stroke-linecap=\"round\" style=\"stroke:green;stroke-width:4\"/><line x1=\"484.909\" y1=\"94.883\" x2=\"479.317\" y2=\"86.593\" stroke-linecap=\"round\" style=\"stroke:green;stroke-width:4\"/><line x1=\"479.317\" y1=\"86.593\" x2=\"473.725\" y2=\"78.303\" stroke-linecap=\"round\" style=\"stroke:green;stroke-width:4\"/><line x1=\"473.725\" y1=\"78.303\" x2=\"468.133\" y2=\"70.013\" stroke-linecap=\"round\" style=\"stroke:green;stroke-width:4\"/><line x1=\"468.133\" y1=\"70.013\" x2=\"462.541\" y2=\"61.723\" stroke-linecap=\"round\" style=\"stroke:green;stroke-width:4\"/><line x1=\"462.541\" y1=\"61.723\" x2=\"456.949\" y2=\"53.433\" stroke-linecap=\"round\" style=\"stroke:green;stroke-width:4\"/>\n",
       "        <g visibility=visible transform=\"rotate(326,456.949,53.433) translate(438.949, 35.433)\">\n",
       "<path style=\" stroke:none;fill-rule:evenodd;fill:green;fill-opacity:1;\" d=\"M 18.214844 0.632812 C 16.109375 1.800781 15.011719 4.074219 15.074219 7.132812 L 15.085938 7.652344 L 14.785156 7.496094 C 13.476562 6.824219 11.957031 6.671875 10.40625 7.066406 C 8.46875 7.550781 6.515625 9.15625 4.394531 11.992188 C 3.0625 13.777344 2.679688 14.636719 3.042969 15.027344 L 3.15625 15.152344 L 3.519531 15.152344 C 4.238281 15.152344 4.828125 14.886719 8.1875 13.039062 C 9.386719 12.378906 10.371094 11.839844 10.378906 11.839844 C 10.386719 11.839844 10.355469 11.929688 10.304688 12.035156 C 9.832031 13.09375 9.257812 14.820312 8.96875 16.078125 C 7.914062 20.652344 8.617188 24.53125 11.070312 27.660156 C 11.351562 28.015625 11.363281 27.914062 10.972656 28.382812 C 8.925781 30.84375 7.945312 33.28125 8.238281 35.1875 C 8.289062 35.527344 8.28125 35.523438 8.917969 35.523438 C 10.941406 35.523438 13.074219 34.207031 15.136719 31.6875 C 15.359375 31.417969 15.328125 31.425781 15.5625 31.574219 C 16.292969 32.042969 18.023438 32.964844 18.175781 32.964844 C 18.335938 32.964844 19.941406 32.210938 20.828125 31.71875 C 20.996094 31.625 21.136719 31.554688 21.136719 31.558594 C 21.203125 31.664062 21.898438 32.414062 22.222656 32.730469 C 23.835938 34.300781 25.5625 35.132812 27.582031 35.300781 C 27.90625 35.328125 27.9375 35.308594 28.007812 34.984375 C 28.382812 33.242188 27.625 30.925781 25.863281 28.425781 L 25.542969 27.96875 L 25.699219 27.785156 C 28.945312 23.960938 29.132812 18.699219 26.257812 11.96875 L 26.207031 11.84375 L 27.945312 12.703125 C 31.53125 14.476562 32.316406 14.800781 33.03125 14.800781 C 33.976562 14.800781 33.78125 13.9375 32.472656 12.292969 C 28.519531 7.355469 25.394531 5.925781 21.921875 7.472656 L 21.558594 7.636719 L 21.578125 7.542969 C 21.699219 6.992188 21.761719 5.742188 21.699219 5.164062 C 21.496094 3.296875 20.664062 1.964844 19.003906 0.855469 C 18.480469 0.503906 18.457031 0.5 18.214844 0.632812\"/>\n",
       "</g>\n",
       "      </svg>\n",
       "    "
      ]
     },
     "metadata": {},
     "output_type": "display_data"
    },
    {
     "name": "stdout",
     "output_type": "stream",
     "text": [
      "Action: 0, Prediction: 0, Outcome: 0, Prediction: True, Valence: 1, Bored: False\n",
      "Action: 0, Prediction: 0, Outcome: 0, Prediction: True, Valence: 1, Bored: False\n",
      "Action: 0, Prediction: 0, Outcome: 0, Prediction: True, Valence: 1, Bored: False\n",
      "Action: 0, Prediction: 0, Outcome: 1, Prediction: False, Valence: -1, Bored: False\n",
      "Action: 0, Prediction: 1, Outcome: 1, Prediction: True, Valence: -1, Bored: False\n",
      "Action: 0, Prediction: 1, Outcome: 1, Prediction: True, Valence: -1, Bored: False\n",
      "Action: 0, Prediction: 1, Outcome: 1, Prediction: True, Valence: -1, Bored: False\n",
      "Action: 0, Prediction: 1, Outcome: 1, Prediction: True, Valence: -1, Bored: True\n",
      "Action: 2, Prediction: 0, Outcome: 1, Prediction: False, Valence: 1, Bored: False\n",
      "Action: 2, Prediction: 1, Outcome: 1, Prediction: True, Valence: 1, Bored: False\n",
      "Action: 2, Prediction: 1, Outcome: 0, Prediction: False, Valence: -1, Bored: False\n",
      "Action: 2, Prediction: 0, Outcome: 0, Prediction: True, Valence: -1, Bored: False\n",
      "Action: 0, Prediction: 1, Outcome: 0, Prediction: False, Valence: 1, Bored: False\n",
      "Action: 0, Prediction: 0, Outcome: 0, Prediction: True, Valence: 1, Bored: False\n",
      "Action: 0, Prediction: 0, Outcome: 0, Prediction: True, Valence: 1, Bored: False\n",
      "Action: 0, Prediction: 0, Outcome: 0, Prediction: True, Valence: 1, Bored: False\n",
      "Action: 0, Prediction: 0, Outcome: 0, Prediction: True, Valence: 1, Bored: True\n",
      "Action: 2, Prediction: 0, Outcome: 0, Prediction: True, Valence: -1, Bored: False\n",
      "Action: 0, Prediction: 0, Outcome: 0, Prediction: True, Valence: 1, Bored: False\n",
      "Action: 0, Prediction: 0, Outcome: 0, Prediction: True, Valence: 1, Bored: False\n",
      "Action: 0, Prediction: 0, Outcome: 1, Prediction: False, Valence: -1, Bored: False\n",
      "Action: 2, Prediction: 0, Outcome: 1, Prediction: False, Valence: 1, Bored: False\n",
      "Action: 2, Prediction: 1, Outcome: 1, Prediction: True, Valence: 1, Bored: False\n",
      "Action: 2, Prediction: 1, Outcome: 0, Prediction: False, Valence: -1, Bored: False\n",
      "Action: 0, Prediction: 1, Outcome: 0, Prediction: False, Valence: 1, Bored: False\n",
      "Action: 0, Prediction: 0, Outcome: 0, Prediction: True, Valence: 1, Bored: False\n",
      "Action: 0, Prediction: 0, Outcome: 0, Prediction: True, Valence: 1, Bored: False\n",
      "Action: 0, Prediction: 0, Outcome: 0, Prediction: True, Valence: 1, Bored: False\n",
      "Action: 0, Prediction: 0, Outcome: 0, Prediction: True, Valence: 1, Bored: True\n",
      "Action: 1, Prediction: 0, Outcome: 0, Prediction: True, Valence: -1, Bored: False\n",
      "Action: 0, Prediction: 0, Outcome: 1, Prediction: False, Valence: -1, Bored: False\n",
      "Action: 2, Prediction: 0, Outcome: 1, Prediction: False, Valence: 1, Bored: False\n",
      "Action: 2, Prediction: 1, Outcome: 1, Prediction: True, Valence: 1, Bored: False\n",
      "Action: 2, Prediction: 1, Outcome: 0, Prediction: False, Valence: -1, Bored: False\n",
      "Action: 0, Prediction: 1, Outcome: 0, Prediction: False, Valence: 1, Bored: False\n",
      "Action: 0, Prediction: 0, Outcome: 0, Prediction: True, Valence: 1, Bored: False\n",
      "Action: 0, Prediction: 0, Outcome: 0, Prediction: True, Valence: 1, Bored: False\n",
      "Action: 0, Prediction: 0, Outcome: 0, Prediction: True, Valence: 1, Bored: False\n",
      "Action: 0, Prediction: 0, Outcome: 1, Prediction: False, Valence: -1, Bored: False\n",
      "Action: 0, Prediction: 1, Outcome: 1, Prediction: True, Valence: -1, Bored: False\n",
      "Action: 0, Prediction: 1, Outcome: 1, Prediction: True, Valence: -1, Bored: False\n",
      "Action: 2, Prediction: 0, Outcome: 1, Prediction: False, Valence: 1, Bored: False\n",
      "Action: 2, Prediction: 1, Outcome: 1, Prediction: True, Valence: 1, Bored: False\n",
      "Action: 2, Prediction: 1, Outcome: 1, Prediction: True, Valence: 1, Bored: False\n",
      "Action: 2, Prediction: 1, Outcome: 0, Prediction: False, Valence: -1, Bored: False\n",
      "Action: 0, Prediction: 1, Outcome: 0, Prediction: False, Valence: 1, Bored: False\n",
      "Action: 0, Prediction: 0, Outcome: 0, Prediction: True, Valence: 1, Bored: False\n",
      "Action: 0, Prediction: 0, Outcome: 0, Prediction: True, Valence: 1, Bored: False\n",
      "Action: 0, Prediction: 0, Outcome: 0, Prediction: True, Valence: 1, Bored: False\n"
     ]
    }
   ],
   "execution_count": 82
  },
  {
   "cell_type": "markdown",
   "id": "ce02f401-3a78-4ced-9b8c-3b602c7be482",
   "metadata": {},
   "source": [
    "## Improve your agent's code"
   ]
  },
  {
   "cell_type": "markdown",
   "id": "3079e9cc-411c-483b-9858-20d53b3dbd7b",
   "metadata": {},
   "source": [
    "If your agent gets stuck against a border or in a corner, modify the valences or the code. \n",
    "Try different ways to handle boredome or to select random actions. \n",
    "In the next lab, you will see how to design an agent that can adapt to the context."
   ]
  },
  {
   "metadata": {
    "ExecuteTime": {
     "end_time": "2025-10-22T23:53:27.363311Z",
     "start_time": "2025-10-22T23:53:01.270471Z"
    }
   },
   "cell_type": "code",
   "source": [
    "\n",
    "valences = [\n",
    "    [ -1, -1],\n",
    "    [ -1,  1],\n",
    "    [ -1, 1]\n",
    "]\n",
    "\n",
    "initializeTurtle()\n",
    "# Parameterize the rendering\n",
    "bgcolor(\"lightGray\")\n",
    "penup()\n",
    "goto(window_width() / 2, window_height()/2)\n",
    "face(0)\n",
    "pendown()\n",
    "color(\"green\")\n",
    "speed(10)\n",
    "\n",
    "a = Agent3(valences)\n",
    "e = ColabTurtleEnvironment()\n",
    "\n",
    "outcome = 0\n",
    "for i in range(50):\n",
    "    action = a.action(outcome)\n",
    "    outcome = e.outcome(action)"
   ],
   "id": "a284b493ef9dd2d1",
   "outputs": [
    {
     "data": {
      "text/plain": [
       "<IPython.core.display.HTML object>"
      ],
      "text/html": [
       "\n",
       "      <svg width=\"800\" height=\"500\">\n",
       "        <rect width=\"100%\" height=\"100%\" fill=\"lightgray\"/>\n",
       "        <line x1=\"400.0\" y1=\"250.0\" x2=\"410.0\" y2=\"250.0\" stroke-linecap=\"round\" style=\"stroke:green;stroke-width:4\"/><line x1=\"410.0\" y1=\"250.0\" x2=\"420.0\" y2=\"250.0\" stroke-linecap=\"round\" style=\"stroke:green;stroke-width:4\"/><line x1=\"420.0\" y1=\"250.0\" x2=\"430.0\" y2=\"250.0\" stroke-linecap=\"round\" style=\"stroke:green;stroke-width:4\"/><line x1=\"430.0\" y1=\"250.0\" x2=\"440.0\" y2=\"250.0\" stroke-linecap=\"round\" style=\"stroke:green;stroke-width:4\"/><line x1=\"440.0\" y1=\"250.0\" x2=\"450.0\" y2=\"250.0\" stroke-linecap=\"round\" style=\"stroke:green;stroke-width:4\"/><line x1=\"450.0\" y1=\"250.0\" x2=\"460.0\" y2=\"250.0\" stroke-linecap=\"round\" style=\"stroke:green;stroke-width:4\"/><line x1=\"460.0\" y1=\"250.0\" x2=\"470.0\" y2=\"250.0\" stroke-linecap=\"round\" style=\"stroke:green;stroke-width:4\"/><line x1=\"470.0\" y1=\"250.0\" x2=\"480.0\" y2=\"250.0\" stroke-linecap=\"round\" style=\"stroke:green;stroke-width:4\"/><line x1=\"480.0\" y1=\"250.0\" x2=\"490.0\" y2=\"250.0\" stroke-linecap=\"round\" style=\"stroke:green;stroke-width:4\"/><line x1=\"490.0\" y1=\"250.0\" x2=\"500.0\" y2=\"250.0\" stroke-linecap=\"round\" style=\"stroke:green;stroke-width:4\"/><line x1=\"500.0\" y1=\"250.0\" x2=\"510.0\" y2=\"250.0\" stroke-linecap=\"round\" style=\"stroke:green;stroke-width:4\"/><line x1=\"510.0\" y1=\"250.0\" x2=\"520.0\" y2=\"250.0\" stroke-linecap=\"round\" style=\"stroke:green;stroke-width:4\"/><line x1=\"520.0\" y1=\"250.0\" x2=\"530.0\" y2=\"250.0\" stroke-linecap=\"round\" style=\"stroke:green;stroke-width:4\"/><line x1=\"530.0\" y1=\"250.0\" x2=\"540.0\" y2=\"250.0\" stroke-linecap=\"round\" style=\"stroke:green;stroke-width:4\"/><line x1=\"540.0\" y1=\"250.0\" x2=\"550.0\" y2=\"250.0\" stroke-linecap=\"round\" style=\"stroke:green;stroke-width:4\"/><line x1=\"550.0\" y1=\"250.0\" x2=\"560.0\" y2=\"250.0\" stroke-linecap=\"round\" style=\"stroke:green;stroke-width:4\"/><line x1=\"560.0\" y1=\"250.0\" x2=\"570.0\" y2=\"250.0\" stroke-linecap=\"round\" style=\"stroke:green;stroke-width:4\"/><line x1=\"570.0\" y1=\"250.0\" x2=\"580.0\" y2=\"250.0\" stroke-linecap=\"round\" style=\"stroke:green;stroke-width:4\"/><line x1=\"580.0\" y1=\"250.0\" x2=\"590.0\" y2=\"250.0\" stroke-linecap=\"round\" style=\"stroke:green;stroke-width:4\"/><line x1=\"590.0\" y1=\"250.0\" x2=\"600.0\" y2=\"250.0\" stroke-linecap=\"round\" style=\"stroke:green;stroke-width:4\"/><line x1=\"600.0\" y1=\"250.0\" x2=\"610.0\" y2=\"250.0\" stroke-linecap=\"round\" style=\"stroke:green;stroke-width:4\"/><line x1=\"610.0\" y1=\"250.0\" x2=\"620.0\" y2=\"250.0\" stroke-linecap=\"round\" style=\"stroke:green;stroke-width:4\"/><line x1=\"620.0\" y1=\"250.0\" x2=\"630.0\" y2=\"250.0\" stroke-linecap=\"round\" style=\"stroke:green;stroke-width:4\"/><line x1=\"630.0\" y1=\"250.0\" x2=\"640.0\" y2=\"250.0\" stroke-linecap=\"round\" style=\"stroke:green;stroke-width:4\"/><line x1=\"640.0\" y1=\"250.0\" x2=\"650.0\" y2=\"250.0\" stroke-linecap=\"round\" style=\"stroke:green;stroke-width:4\"/><line x1=\"650.0\" y1=\"250.0\" x2=\"660.0\" y2=\"250.0\" stroke-linecap=\"round\" style=\"stroke:green;stroke-width:4\"/><line x1=\"660.0\" y1=\"250.0\" x2=\"670.0\" y2=\"250.0\" stroke-linecap=\"round\" style=\"stroke:green;stroke-width:4\"/><line x1=\"670.0\" y1=\"250.0\" x2=\"680.0\" y2=\"250.0\" stroke-linecap=\"round\" style=\"stroke:green;stroke-width:4\"/><line x1=\"680.0\" y1=\"250.0\" x2=\"690.0\" y2=\"250.0\" stroke-linecap=\"round\" style=\"stroke:green;stroke-width:4\"/><line x1=\"690.0\" y1=\"250.0\" x2=\"700.0\" y2=\"250.0\" stroke-linecap=\"round\" style=\"stroke:green;stroke-width:4\"/><line x1=\"700.0\" y1=\"250.0\" x2=\"710.0\" y2=\"250.0\" stroke-linecap=\"round\" style=\"stroke:green;stroke-width:4\"/><line x1=\"710.0\" y1=\"250.0\" x2=\"720.0\" y2=\"250.0\" stroke-linecap=\"round\" style=\"stroke:green;stroke-width:4\"/><line x1=\"720.0\" y1=\"250.0\" x2=\"730.0\" y2=\"250.0\" stroke-linecap=\"round\" style=\"stroke:green;stroke-width:4\"/><line x1=\"730.0\" y1=\"250.0\" x2=\"740.0\" y2=\"250.0\" stroke-linecap=\"round\" style=\"stroke:green;stroke-width:4\"/><line x1=\"740.0\" y1=\"250.0\" x2=\"750.0\" y2=\"250.0\" stroke-linecap=\"round\" style=\"stroke:green;stroke-width:4\"/><line x1=\"750.0\" y1=\"250.0\" x2=\"760.0\" y2=\"250.0\" stroke-linecap=\"round\" style=\"stroke:green;stroke-width:4\"/><line x1=\"760.0\" y1=\"250.0\" x2=\"770.0\" y2=\"250.0\" stroke-linecap=\"round\" style=\"stroke:green;stroke-width:4\"/><line x1=\"770.0\" y1=\"250.0\" x2=\"780.0\" y2=\"250.0\" stroke-linecap=\"round\" style=\"stroke:green;stroke-width:4\"/><line x1=\"780.0\" y1=\"250.0\" x2=\"790.0\" y2=\"250.0\" stroke-linecap=\"round\" style=\"stroke:green;stroke-width:4\"/><line x1=\"790.0\" y1=\"250.0\" x2=\"780\" y2=\"250.0\" stroke-linecap=\"round\" style=\"stroke:green;stroke-width:4\"/><line x1=\"780\" y1=\"250.0\" x2=\"790.0\" y2=\"250.0\" stroke-linecap=\"round\" style=\"stroke:red;stroke-width:4\"/><line x1=\"790.0\" y1=\"250.0\" x2=\"780\" y2=\"250.0\" stroke-linecap=\"round\" style=\"stroke:red;stroke-width:4\"/><line x1=\"780\" y1=\"250.0\" x2=\"790.0\" y2=\"250.0\" stroke-linecap=\"round\" style=\"stroke:red;stroke-width:4\"/><line x1=\"790.0\" y1=\"250.0\" x2=\"780\" y2=\"250.0\" stroke-linecap=\"round\" style=\"stroke:red;stroke-width:4\"/><line x1=\"780\" y1=\"250.0\" x2=\"790.0\" y2=\"250.0\" stroke-linecap=\"round\" style=\"stroke:red;stroke-width:4\"/><line x1=\"790.0\" y1=\"250.0\" x2=\"780\" y2=\"250.0\" stroke-linecap=\"round\" style=\"stroke:red;stroke-width:4\"/><line x1=\"780\" y1=\"250.0\" x2=\"790.0\" y2=\"250.0\" stroke-linecap=\"round\" style=\"stroke:red;stroke-width:4\"/><line x1=\"790.0\" y1=\"250.0\" x2=\"780\" y2=\"250.0\" stroke-linecap=\"round\" style=\"stroke:red;stroke-width:4\"/><line x1=\"780\" y1=\"250.0\" x2=\"781.995\" y2=\"250.14\" stroke-linecap=\"round\" style=\"stroke:red;stroke-width:4\"/><line x1=\"781.995\" y1=\"250.14\" x2=\"780\" y2=\"250.14\" stroke-linecap=\"round\" style=\"stroke:red;stroke-width:4\"/><line x1=\"780\" y1=\"250.14\" x2=\"781.338\" y2=\"251.626\" stroke-linecap=\"round\" style=\"stroke:red;stroke-width:4\"/><line x1=\"781.338\" y1=\"251.626\" x2=\"780\" y2=\"251.626\" stroke-linecap=\"round\" style=\"stroke:red;stroke-width:4\"/><line x1=\"780\" y1=\"251.626\" x2=\"779.93\" y2=\"253.625\" stroke-linecap=\"round\" style=\"stroke:red;stroke-width:4\"/><line x1=\"779.93\" y1=\"253.625\" x2=\"779.721\" y2=\"255.614\" stroke-linecap=\"round\" style=\"stroke:green;stroke-width:4\"/><line x1=\"779.721\" y1=\"255.614\" x2=\"779.374\" y2=\"257.584\" stroke-linecap=\"round\" style=\"stroke:green;stroke-width:4\"/><line x1=\"779.374\" y1=\"257.584\" x2=\"778.89\" y2=\"259.525\" stroke-linecap=\"round\" style=\"stroke:green;stroke-width:4\"/><line x1=\"778.89\" y1=\"259.525\" x2=\"778.272\" y2=\"261.427\" stroke-linecap=\"round\" style=\"stroke:green;stroke-width:4\"/><line x1=\"778.272\" y1=\"261.427\" x2=\"777.523\" y2=\"263.281\" stroke-linecap=\"round\" style=\"stroke:green;stroke-width:4\"/><line x1=\"777.523\" y1=\"263.281\" x2=\"776.646\" y2=\"265.079\" stroke-linecap=\"round\" style=\"stroke:green;stroke-width:4\"/><line x1=\"776.646\" y1=\"265.079\" x2=\"775.646\" y2=\"266.811\" stroke-linecap=\"round\" style=\"stroke:green;stroke-width:4\"/><line x1=\"775.646\" y1=\"266.811\" x2=\"774.528\" y2=\"268.469\" stroke-linecap=\"round\" style=\"stroke:green;stroke-width:4\"/><line x1=\"774.528\" y1=\"268.469\" x2=\"773.297\" y2=\"270.045\" stroke-linecap=\"round\" style=\"stroke:green;stroke-width:4\"/><line x1=\"773.297\" y1=\"270.045\" x2=\"767.14\" y2=\"277.925\" stroke-linecap=\"round\" style=\"stroke:green;stroke-width:4\"/><line x1=\"767.14\" y1=\"277.925\" x2=\"760.983\" y2=\"285.805\" stroke-linecap=\"round\" style=\"stroke:green;stroke-width:4\"/><line x1=\"760.983\" y1=\"285.805\" x2=\"754.826\" y2=\"293.685\" stroke-linecap=\"round\" style=\"stroke:green;stroke-width:4\"/><line x1=\"754.826\" y1=\"293.685\" x2=\"748.669\" y2=\"301.565\" stroke-linecap=\"round\" style=\"stroke:green;stroke-width:4\"/><line x1=\"748.669\" y1=\"301.565\" x2=\"742.512\" y2=\"309.445\" stroke-linecap=\"round\" style=\"stroke:green;stroke-width:4\"/><line x1=\"742.512\" y1=\"309.445\" x2=\"736.355\" y2=\"317.325\" stroke-linecap=\"round\" style=\"stroke:green;stroke-width:4\"/><line x1=\"736.355\" y1=\"317.325\" x2=\"730.198\" y2=\"325.205\" stroke-linecap=\"round\" style=\"stroke:green;stroke-width:4\"/><line x1=\"730.198\" y1=\"325.205\" x2=\"724.041\" y2=\"333.085\" stroke-linecap=\"round\" style=\"stroke:green;stroke-width:4\"/><line x1=\"724.041\" y1=\"333.085\" x2=\"717.884\" y2=\"340.965\" stroke-linecap=\"round\" style=\"stroke:green;stroke-width:4\"/><line x1=\"717.884\" y1=\"340.965\" x2=\"711.727\" y2=\"348.845\" stroke-linecap=\"round\" style=\"stroke:green;stroke-width:4\"/><line x1=\"711.727\" y1=\"348.845\" x2=\"710.389\" y2=\"350.331\" stroke-linecap=\"round\" style=\"stroke:green;stroke-width:4\"/><line x1=\"710.389\" y1=\"350.331\" x2=\"708.95\" y2=\"351.72\" stroke-linecap=\"round\" style=\"stroke:green;stroke-width:4\"/><line x1=\"708.95\" y1=\"351.72\" x2=\"707.418\" y2=\"353.006\" stroke-linecap=\"round\" style=\"stroke:green;stroke-width:4\"/><line x1=\"707.418\" y1=\"353.006\" x2=\"705.8\" y2=\"354.182\" stroke-linecap=\"round\" style=\"stroke:green;stroke-width:4\"/><line x1=\"705.8\" y1=\"354.182\" x2=\"704.104\" y2=\"355.242\" stroke-linecap=\"round\" style=\"stroke:green;stroke-width:4\"/><line x1=\"704.104\" y1=\"355.242\" x2=\"702.338\" y2=\"356.181\" stroke-linecap=\"round\" style=\"stroke:green;stroke-width:4\"/><line x1=\"702.338\" y1=\"356.181\" x2=\"700.511\" y2=\"356.994\" stroke-linecap=\"round\" style=\"stroke:green;stroke-width:4\"/><line x1=\"700.511\" y1=\"356.994\" x2=\"698.632\" y2=\"357.678\" stroke-linecap=\"round\" style=\"stroke:green;stroke-width:4\"/><line x1=\"698.632\" y1=\"357.678\" x2=\"696.709\" y2=\"358.229\" stroke-linecap=\"round\" style=\"stroke:green;stroke-width:4\"/><line x1=\"696.709\" y1=\"358.229\" x2=\"694.753\" y2=\"358.645\" stroke-linecap=\"round\" style=\"stroke:green;stroke-width:4\"/><line x1=\"694.753\" y1=\"358.645\" x2=\"692.772\" y2=\"358.923\" stroke-linecap=\"round\" style=\"stroke:green;stroke-width:4\"/><line x1=\"692.772\" y1=\"358.923\" x2=\"690.777\" y2=\"359.063\" stroke-linecap=\"round\" style=\"stroke:green;stroke-width:4\"/><line x1=\"690.777\" y1=\"359.063\" x2=\"688.777\" y2=\"359.063\" stroke-linecap=\"round\" style=\"stroke:green;stroke-width:4\"/><line x1=\"688.777\" y1=\"359.063\" x2=\"686.782\" y2=\"358.923\" stroke-linecap=\"round\" style=\"stroke:green;stroke-width:4\"/><line x1=\"686.782\" y1=\"358.923\" x2=\"684.801\" y2=\"358.645\" stroke-linecap=\"round\" style=\"stroke:green;stroke-width:4\"/><line x1=\"684.801\" y1=\"358.645\" x2=\"682.845\" y2=\"358.229\" stroke-linecap=\"round\" style=\"stroke:green;stroke-width:4\"/><line x1=\"682.845\" y1=\"358.229\" x2=\"680.922\" y2=\"357.678\" stroke-linecap=\"round\" style=\"stroke:green;stroke-width:4\"/><line x1=\"680.922\" y1=\"357.678\" x2=\"679.043\" y2=\"356.994\" stroke-linecap=\"round\" style=\"stroke:green;stroke-width:4\"/><line x1=\"679.043\" y1=\"356.994\" x2=\"677.216\" y2=\"356.181\" stroke-linecap=\"round\" style=\"stroke:green;stroke-width:4\"/><line x1=\"677.216\" y1=\"356.181\" x2=\"675.45\" y2=\"355.242\" stroke-linecap=\"round\" style=\"stroke:green;stroke-width:4\"/><line x1=\"675.45\" y1=\"355.242\" x2=\"666.621\" y2=\"350.547\" stroke-linecap=\"round\" style=\"stroke:green;stroke-width:4\"/><line x1=\"666.621\" y1=\"350.547\" x2=\"657.792\" y2=\"345.852\" stroke-linecap=\"round\" style=\"stroke:green;stroke-width:4\"/><line x1=\"657.792\" y1=\"345.852\" x2=\"648.963\" y2=\"341.157\" stroke-linecap=\"round\" style=\"stroke:green;stroke-width:4\"/><line x1=\"648.963\" y1=\"341.157\" x2=\"640.134\" y2=\"336.462\" stroke-linecap=\"round\" style=\"stroke:green;stroke-width:4\"/><line x1=\"640.134\" y1=\"336.462\" x2=\"631.305\" y2=\"331.767\" stroke-linecap=\"round\" style=\"stroke:green;stroke-width:4\"/><line x1=\"631.305\" y1=\"331.767\" x2=\"622.476\" y2=\"327.072\" stroke-linecap=\"round\" style=\"stroke:green;stroke-width:4\"/><line x1=\"622.476\" y1=\"327.072\" x2=\"613.647\" y2=\"322.377\" stroke-linecap=\"round\" style=\"stroke:green;stroke-width:4\"/><line x1=\"613.647\" y1=\"322.377\" x2=\"604.818\" y2=\"317.682\" stroke-linecap=\"round\" style=\"stroke:green;stroke-width:4\"/><line x1=\"604.818\" y1=\"317.682\" x2=\"595.989\" y2=\"312.987\" stroke-linecap=\"round\" style=\"stroke:green;stroke-width:4\"/><line x1=\"595.989\" y1=\"312.987\" x2=\"587.16\" y2=\"308.292\" stroke-linecap=\"round\" style=\"stroke:green;stroke-width:4\"/><line x1=\"587.16\" y1=\"308.292\" x2=\"578.331\" y2=\"303.597\" stroke-linecap=\"round\" style=\"stroke:green;stroke-width:4\"/><line x1=\"578.331\" y1=\"303.597\" x2=\"569.502\" y2=\"298.902\" stroke-linecap=\"round\" style=\"stroke:green;stroke-width:4\"/><line x1=\"569.502\" y1=\"298.902\" x2=\"560.673\" y2=\"294.207\" stroke-linecap=\"round\" style=\"stroke:green;stroke-width:4\"/><line x1=\"560.673\" y1=\"294.207\" x2=\"551.844\" y2=\"289.512\" stroke-linecap=\"round\" style=\"stroke:green;stroke-width:4\"/><line x1=\"551.844\" y1=\"289.512\" x2=\"543.015\" y2=\"284.817\" stroke-linecap=\"round\" style=\"stroke:green;stroke-width:4\"/><line x1=\"543.015\" y1=\"284.817\" x2=\"534.186\" y2=\"280.122\" stroke-linecap=\"round\" style=\"stroke:green;stroke-width:4\"/><line x1=\"534.186\" y1=\"280.122\" x2=\"525.357\" y2=\"275.427\" stroke-linecap=\"round\" style=\"stroke:green;stroke-width:4\"/><line x1=\"525.357\" y1=\"275.427\" x2=\"516.528\" y2=\"270.732\" stroke-linecap=\"round\" style=\"stroke:green;stroke-width:4\"/><line x1=\"516.528\" y1=\"270.732\" x2=\"507.699\" y2=\"266.037\" stroke-linecap=\"round\" style=\"stroke:green;stroke-width:4\"/><line x1=\"507.699\" y1=\"266.037\" x2=\"498.87\" y2=\"261.342\" stroke-linecap=\"round\" style=\"stroke:green;stroke-width:4\"/><line x1=\"498.87\" y1=\"261.342\" x2=\"497.043\" y2=\"260.529\" stroke-linecap=\"round\" style=\"stroke:green;stroke-width:4\"/><line x1=\"497.043\" y1=\"260.529\" x2=\"495.164\" y2=\"259.845\" stroke-linecap=\"round\" style=\"stroke:green;stroke-width:4\"/><line x1=\"495.164\" y1=\"259.845\" x2=\"493.241\" y2=\"259.294\" stroke-linecap=\"round\" style=\"stroke:green;stroke-width:4\"/><line x1=\"493.241\" y1=\"259.294\" x2=\"491.285\" y2=\"258.878\" stroke-linecap=\"round\" style=\"stroke:green;stroke-width:4\"/><line x1=\"491.285\" y1=\"258.878\" x2=\"489.304\" y2=\"258.6\" stroke-linecap=\"round\" style=\"stroke:green;stroke-width:4\"/><line x1=\"489.304\" y1=\"258.6\" x2=\"487.309\" y2=\"258.46\" stroke-linecap=\"round\" style=\"stroke:green;stroke-width:4\"/><line x1=\"487.309\" y1=\"258.46\" x2=\"485.309\" y2=\"258.46\" stroke-linecap=\"round\" style=\"stroke:green;stroke-width:4\"/><line x1=\"485.309\" y1=\"258.46\" x2=\"483.314\" y2=\"258.6\" stroke-linecap=\"round\" style=\"stroke:green;stroke-width:4\"/><line x1=\"483.314\" y1=\"258.6\" x2=\"481.333\" y2=\"258.878\" stroke-linecap=\"round\" style=\"stroke:green;stroke-width:4\"/><line x1=\"481.333\" y1=\"258.878\" x2=\"479.377\" y2=\"259.294\" stroke-linecap=\"round\" style=\"stroke:green;stroke-width:4\"/><line x1=\"479.377\" y1=\"259.294\" x2=\"469.596\" y2=\"261.373\" stroke-linecap=\"round\" style=\"stroke:green;stroke-width:4\"/><line x1=\"469.596\" y1=\"261.373\" x2=\"459.815\" y2=\"263.452\" stroke-linecap=\"round\" style=\"stroke:green;stroke-width:4\"/><line x1=\"459.815\" y1=\"263.452\" x2=\"450.034\" y2=\"265.531\" stroke-linecap=\"round\" style=\"stroke:green;stroke-width:4\"/><line x1=\"450.034\" y1=\"265.531\" x2=\"440.253\" y2=\"267.61\" stroke-linecap=\"round\" style=\"stroke:green;stroke-width:4\"/><line x1=\"440.253\" y1=\"267.61\" x2=\"430.472\" y2=\"269.689\" stroke-linecap=\"round\" style=\"stroke:green;stroke-width:4\"/><line x1=\"430.472\" y1=\"269.689\" x2=\"420.691\" y2=\"271.768\" stroke-linecap=\"round\" style=\"stroke:green;stroke-width:4\"/><line x1=\"420.691\" y1=\"271.768\" x2=\"410.91\" y2=\"273.847\" stroke-linecap=\"round\" style=\"stroke:green;stroke-width:4\"/><line x1=\"410.91\" y1=\"273.847\" x2=\"401.129\" y2=\"275.926\" stroke-linecap=\"round\" style=\"stroke:green;stroke-width:4\"/><line x1=\"401.129\" y1=\"275.926\" x2=\"391.348\" y2=\"278.005\" stroke-linecap=\"round\" style=\"stroke:green;stroke-width:4\"/><line x1=\"391.348\" y1=\"278.005\" x2=\"381.567\" y2=\"280.084\" stroke-linecap=\"round\" style=\"stroke:green;stroke-width:4\"/><line x1=\"381.567\" y1=\"280.084\" x2=\"379.586\" y2=\"280.362\" stroke-linecap=\"round\" style=\"stroke:green;stroke-width:4\"/><line x1=\"379.586\" y1=\"280.362\" x2=\"377.591\" y2=\"280.502\" stroke-linecap=\"round\" style=\"stroke:green;stroke-width:4\"/><line x1=\"377.591\" y1=\"280.502\" x2=\"375.591\" y2=\"280.502\" stroke-linecap=\"round\" style=\"stroke:green;stroke-width:4\"/><line x1=\"375.591\" y1=\"280.502\" x2=\"373.596\" y2=\"280.362\" stroke-linecap=\"round\" style=\"stroke:green;stroke-width:4\"/><line x1=\"373.596\" y1=\"280.362\" x2=\"371.615\" y2=\"280.084\" stroke-linecap=\"round\" style=\"stroke:green;stroke-width:4\"/><line x1=\"371.615\" y1=\"280.084\" x2=\"369.659\" y2=\"279.668\" stroke-linecap=\"round\" style=\"stroke:green;stroke-width:4\"/><line x1=\"369.659\" y1=\"279.668\" x2=\"367.736\" y2=\"279.117\" stroke-linecap=\"round\" style=\"stroke:green;stroke-width:4\"/><line x1=\"367.736\" y1=\"279.117\" x2=\"365.857\" y2=\"278.433\" stroke-linecap=\"round\" style=\"stroke:green;stroke-width:4\"/><line x1=\"365.857\" y1=\"278.433\" x2=\"364.03\" y2=\"277.62\" stroke-linecap=\"round\" style=\"stroke:green;stroke-width:4\"/><line x1=\"364.03\" y1=\"277.62\" x2=\"362.264\" y2=\"276.681\" stroke-linecap=\"round\" style=\"stroke:green;stroke-width:4\"/><line x1=\"362.264\" y1=\"276.681\" x2=\"360.437\" y2=\"275.868\" stroke-linecap=\"round\" style=\"stroke:green;stroke-width:4\"/><line x1=\"360.437\" y1=\"275.868\" x2=\"358.558\" y2=\"275.184\" stroke-linecap=\"round\" style=\"stroke:green;stroke-width:4\"/><line x1=\"358.558\" y1=\"275.184\" x2=\"356.635\" y2=\"274.633\" stroke-linecap=\"round\" style=\"stroke:green;stroke-width:4\"/><line x1=\"356.635\" y1=\"274.633\" x2=\"354.679\" y2=\"274.217\" stroke-linecap=\"round\" style=\"stroke:green;stroke-width:4\"/><line x1=\"354.679\" y1=\"274.217\" x2=\"352.698\" y2=\"273.939\" stroke-linecap=\"round\" style=\"stroke:green;stroke-width:4\"/><line x1=\"352.698\" y1=\"273.939\" x2=\"350.703\" y2=\"273.799\" stroke-linecap=\"round\" style=\"stroke:green;stroke-width:4\"/><line x1=\"350.703\" y1=\"273.799\" x2=\"348.703\" y2=\"273.799\" stroke-linecap=\"round\" style=\"stroke:green;stroke-width:4\"/><line x1=\"348.703\" y1=\"273.799\" x2=\"346.708\" y2=\"273.939\" stroke-linecap=\"round\" style=\"stroke:green;stroke-width:4\"/><line x1=\"346.708\" y1=\"273.939\" x2=\"344.727\" y2=\"274.217\" stroke-linecap=\"round\" style=\"stroke:green;stroke-width:4\"/><line x1=\"344.727\" y1=\"274.217\" x2=\"342.771\" y2=\"274.633\" stroke-linecap=\"round\" style=\"stroke:green;stroke-width:4\"/><line x1=\"342.771\" y1=\"274.633\" x2=\"340.79\" y2=\"274.911\" stroke-linecap=\"round\" style=\"stroke:green;stroke-width:4\"/><line x1=\"340.79\" y1=\"274.911\" x2=\"338.795\" y2=\"275.051\" stroke-linecap=\"round\" style=\"stroke:green;stroke-width:4\"/><line x1=\"338.795\" y1=\"275.051\" x2=\"336.795\" y2=\"275.051\" stroke-linecap=\"round\" style=\"stroke:green;stroke-width:4\"/><line x1=\"336.795\" y1=\"275.051\" x2=\"334.8\" y2=\"274.911\" stroke-linecap=\"round\" style=\"stroke:green;stroke-width:4\"/><line x1=\"334.8\" y1=\"274.911\" x2=\"332.819\" y2=\"274.633\" stroke-linecap=\"round\" style=\"stroke:green;stroke-width:4\"/><line x1=\"332.819\" y1=\"274.633\" x2=\"330.863\" y2=\"274.217\" stroke-linecap=\"round\" style=\"stroke:green;stroke-width:4\"/><line x1=\"330.863\" y1=\"274.217\" x2=\"328.94\" y2=\"273.666\" stroke-linecap=\"round\" style=\"stroke:green;stroke-width:4\"/><line x1=\"328.94\" y1=\"273.666\" x2=\"327.061\" y2=\"272.982\" stroke-linecap=\"round\" style=\"stroke:green;stroke-width:4\"/><line x1=\"327.061\" y1=\"272.982\" x2=\"325.234\" y2=\"272.169\" stroke-linecap=\"round\" style=\"stroke:green;stroke-width:4\"/><line x1=\"325.234\" y1=\"272.169\" x2=\"323.468\" y2=\"271.23\" stroke-linecap=\"round\" style=\"stroke:green;stroke-width:4\"/><line x1=\"323.468\" y1=\"271.23\" x2=\"321.641\" y2=\"270.417\" stroke-linecap=\"round\" style=\"stroke:green;stroke-width:4\"/><line x1=\"321.641\" y1=\"270.417\" x2=\"319.762\" y2=\"269.733\" stroke-linecap=\"round\" style=\"stroke:green;stroke-width:4\"/><line x1=\"319.762\" y1=\"269.733\" x2=\"317.839\" y2=\"269.182\" stroke-linecap=\"round\" style=\"stroke:green;stroke-width:4\"/><line x1=\"317.839\" y1=\"269.182\" x2=\"315.883\" y2=\"268.766\" stroke-linecap=\"round\" style=\"stroke:green;stroke-width:4\"/><line x1=\"315.883\" y1=\"268.766\" x2=\"313.902\" y2=\"268.488\" stroke-linecap=\"round\" style=\"stroke:green;stroke-width:4\"/><line x1=\"313.902\" y1=\"268.488\" x2=\"311.907\" y2=\"268.348\" stroke-linecap=\"round\" style=\"stroke:green;stroke-width:4\"/><line x1=\"311.907\" y1=\"268.348\" x2=\"309.907\" y2=\"268.348\" stroke-linecap=\"round\" style=\"stroke:green;stroke-width:4\"/><line x1=\"309.907\" y1=\"268.348\" x2=\"307.912\" y2=\"268.488\" stroke-linecap=\"round\" style=\"stroke:green;stroke-width:4\"/><line x1=\"307.912\" y1=\"268.488\" x2=\"305.931\" y2=\"268.766\" stroke-linecap=\"round\" style=\"stroke:green;stroke-width:4\"/><line x1=\"305.931\" y1=\"268.766\" x2=\"303.975\" y2=\"269.182\" stroke-linecap=\"round\" style=\"stroke:green;stroke-width:4\"/><line x1=\"303.975\" y1=\"269.182\" x2=\"301.994\" y2=\"269.46\" stroke-linecap=\"round\" style=\"stroke:green;stroke-width:4\"/><line x1=\"301.994\" y1=\"269.46\" x2=\"299.999\" y2=\"269.6\" stroke-linecap=\"round\" style=\"stroke:green;stroke-width:4\"/><line x1=\"299.999\" y1=\"269.6\" x2=\"297.999\" y2=\"269.6\" stroke-linecap=\"round\" style=\"stroke:green;stroke-width:4\"/><line x1=\"297.999\" y1=\"269.6\" x2=\"296.004\" y2=\"269.46\" stroke-linecap=\"round\" style=\"stroke:green;stroke-width:4\"/><line x1=\"296.004\" y1=\"269.46\" x2=\"294.023\" y2=\"269.182\" stroke-linecap=\"round\" style=\"stroke:green;stroke-width:4\"/><line x1=\"294.023\" y1=\"269.182\" x2=\"292.067\" y2=\"268.766\" stroke-linecap=\"round\" style=\"stroke:green;stroke-width:4\"/><line x1=\"292.067\" y1=\"268.766\" x2=\"290.144\" y2=\"268.215\" stroke-linecap=\"round\" style=\"stroke:green;stroke-width:4\"/><line x1=\"290.144\" y1=\"268.215\" x2=\"288.265\" y2=\"267.531\" stroke-linecap=\"round\" style=\"stroke:green;stroke-width:4\"/><line x1=\"288.265\" y1=\"267.531\" x2=\"286.438\" y2=\"266.718\" stroke-linecap=\"round\" style=\"stroke:green;stroke-width:4\"/><line x1=\"286.438\" y1=\"266.718\" x2=\"284.672\" y2=\"265.779\" stroke-linecap=\"round\" style=\"stroke:green;stroke-width:4\"/><line x1=\"284.672\" y1=\"265.779\" x2=\"275.843\" y2=\"261.084\" stroke-linecap=\"round\" style=\"stroke:green;stroke-width:4\"/><line x1=\"275.843\" y1=\"261.084\" x2=\"267.014\" y2=\"256.389\" stroke-linecap=\"round\" style=\"stroke:green;stroke-width:4\"/><line x1=\"267.014\" y1=\"256.389\" x2=\"258.185\" y2=\"251.694\" stroke-linecap=\"round\" style=\"stroke:green;stroke-width:4\"/><line x1=\"258.185\" y1=\"251.694\" x2=\"249.356\" y2=\"246.999\" stroke-linecap=\"round\" style=\"stroke:green;stroke-width:4\"/><line x1=\"249.356\" y1=\"246.999\" x2=\"240.527\" y2=\"242.304\" stroke-linecap=\"round\" style=\"stroke:green;stroke-width:4\"/><line x1=\"240.527\" y1=\"242.304\" x2=\"231.698\" y2=\"237.609\" stroke-linecap=\"round\" style=\"stroke:green;stroke-width:4\"/><line x1=\"231.698\" y1=\"237.609\" x2=\"222.869\" y2=\"232.914\" stroke-linecap=\"round\" style=\"stroke:green;stroke-width:4\"/><line x1=\"222.869\" y1=\"232.914\" x2=\"214.04\" y2=\"228.219\" stroke-linecap=\"round\" style=\"stroke:green;stroke-width:4\"/><line x1=\"214.04\" y1=\"228.219\" x2=\"205.211\" y2=\"223.524\" stroke-linecap=\"round\" style=\"stroke:green;stroke-width:4\"/><line x1=\"205.211\" y1=\"223.524\" x2=\"196.382\" y2=\"218.829\" stroke-linecap=\"round\" style=\"stroke:green;stroke-width:4\"/><line x1=\"196.382\" y1=\"218.829\" x2=\"194.555\" y2=\"218.016\" stroke-linecap=\"round\" style=\"stroke:green;stroke-width:4\"/><line x1=\"194.555\" y1=\"218.016\" x2=\"192.676\" y2=\"217.332\" stroke-linecap=\"round\" style=\"stroke:green;stroke-width:4\"/><line x1=\"192.676\" y1=\"217.332\" x2=\"190.753\" y2=\"216.781\" stroke-linecap=\"round\" style=\"stroke:green;stroke-width:4\"/><line x1=\"190.753\" y1=\"216.781\" x2=\"188.797\" y2=\"216.365\" stroke-linecap=\"round\" style=\"stroke:green;stroke-width:4\"/><line x1=\"188.797\" y1=\"216.365\" x2=\"186.816\" y2=\"216.087\" stroke-linecap=\"round\" style=\"stroke:green;stroke-width:4\"/><line x1=\"186.816\" y1=\"216.087\" x2=\"184.821\" y2=\"215.947\" stroke-linecap=\"round\" style=\"stroke:green;stroke-width:4\"/><line x1=\"184.821\" y1=\"215.947\" x2=\"182.821\" y2=\"215.947\" stroke-linecap=\"round\" style=\"stroke:green;stroke-width:4\"/><line x1=\"182.821\" y1=\"215.947\" x2=\"180.826\" y2=\"216.087\" stroke-linecap=\"round\" style=\"stroke:green;stroke-width:4\"/><line x1=\"180.826\" y1=\"216.087\" x2=\"178.845\" y2=\"216.365\" stroke-linecap=\"round\" style=\"stroke:green;stroke-width:4\"/><line x1=\"178.845\" y1=\"216.365\" x2=\"176.889\" y2=\"216.781\" stroke-linecap=\"round\" style=\"stroke:green;stroke-width:4\"/><line x1=\"176.889\" y1=\"216.781\" x2=\"167.108\" y2=\"218.86\" stroke-linecap=\"round\" style=\"stroke:green;stroke-width:4\"/><line x1=\"167.108\" y1=\"218.86\" x2=\"157.327\" y2=\"220.939\" stroke-linecap=\"round\" style=\"stroke:green;stroke-width:4\"/><line x1=\"157.327\" y1=\"220.939\" x2=\"147.546\" y2=\"223.018\" stroke-linecap=\"round\" style=\"stroke:green;stroke-width:4\"/><line x1=\"147.546\" y1=\"223.018\" x2=\"137.765\" y2=\"225.097\" stroke-linecap=\"round\" style=\"stroke:green;stroke-width:4\"/><line x1=\"137.765\" y1=\"225.097\" x2=\"127.984\" y2=\"227.176\" stroke-linecap=\"round\" style=\"stroke:green;stroke-width:4\"/><line x1=\"127.984\" y1=\"227.176\" x2=\"118.203\" y2=\"229.255\" stroke-linecap=\"round\" style=\"stroke:green;stroke-width:4\"/><line x1=\"118.203\" y1=\"229.255\" x2=\"108.422\" y2=\"231.334\" stroke-linecap=\"round\" style=\"stroke:green;stroke-width:4\"/><line x1=\"108.422\" y1=\"231.334\" x2=\"98.641\" y2=\"233.413\" stroke-linecap=\"round\" style=\"stroke:green;stroke-width:4\"/><line x1=\"98.641\" y1=\"233.413\" x2=\"88.86\" y2=\"235.492\" stroke-linecap=\"round\" style=\"stroke:green;stroke-width:4\"/><line x1=\"88.86\" y1=\"235.492\" x2=\"79.079\" y2=\"237.571\" stroke-linecap=\"round\" style=\"stroke:green;stroke-width:4\"/><line x1=\"79.079\" y1=\"237.571\" x2=\"69.298\" y2=\"239.65\" stroke-linecap=\"round\" style=\"stroke:green;stroke-width:4\"/><line x1=\"69.298\" y1=\"239.65\" x2=\"59.517\" y2=\"241.729\" stroke-linecap=\"round\" style=\"stroke:green;stroke-width:4\"/><line x1=\"59.517\" y1=\"241.729\" x2=\"49.736\" y2=\"243.808\" stroke-linecap=\"round\" style=\"stroke:green;stroke-width:4\"/><line x1=\"49.736\" y1=\"243.808\" x2=\"39.955\" y2=\"245.887\" stroke-linecap=\"round\" style=\"stroke:green;stroke-width:4\"/><line x1=\"39.955\" y1=\"245.887\" x2=\"30.174\" y2=\"247.966\" stroke-linecap=\"round\" style=\"stroke:green;stroke-width:4\"/><line x1=\"30.174\" y1=\"247.966\" x2=\"20.393\" y2=\"250.045\" stroke-linecap=\"round\" style=\"stroke:green;stroke-width:4\"/><line x1=\"20.393\" y1=\"250.045\" x2=\"10.612\" y2=\"252.124\" stroke-linecap=\"round\" style=\"stroke:green;stroke-width:4\"/><line x1=\"10.612\" y1=\"252.124\" x2=\"20\" y2=\"252.124\" stroke-linecap=\"round\" style=\"stroke:green;stroke-width:4\"/><line x1=\"20\" y1=\"252.124\" x2=\"18.077\" y2=\"252.675\" stroke-linecap=\"round\" style=\"stroke:red;stroke-width:4\"/><line x1=\"18.077\" y1=\"252.675\" x2=\"20\" y2=\"252.675\" stroke-linecap=\"round\" style=\"stroke:red;stroke-width:4\"/><line x1=\"20\" y1=\"252.675\" x2=\"19.0\" y2=\"254.407\" stroke-linecap=\"round\" style=\"stroke:red;stroke-width:4\"/><line x1=\"19.0\" y1=\"254.407\" x2=\"20\" y2=\"254.407\" stroke-linecap=\"round\" style=\"stroke:red;stroke-width:4\"/><line x1=\"20\" y1=\"254.407\" x2=\"20.484\" y2=\"256.348\" stroke-linecap=\"round\" style=\"stroke:red;stroke-width:4\"/><line x1=\"20.484\" y1=\"256.348\" x2=\"21.102\" y2=\"258.25\" stroke-linecap=\"round\" style=\"stroke:green;stroke-width:4\"/><line x1=\"21.102\" y1=\"258.25\" x2=\"21.851\" y2=\"260.104\" stroke-linecap=\"round\" style=\"stroke:green;stroke-width:4\"/><line x1=\"21.851\" y1=\"260.104\" x2=\"22.728\" y2=\"261.902\" stroke-linecap=\"round\" style=\"stroke:green;stroke-width:4\"/><line x1=\"22.728\" y1=\"261.902\" x2=\"23.728\" y2=\"263.634\" stroke-linecap=\"round\" style=\"stroke:green;stroke-width:4\"/><line x1=\"23.728\" y1=\"263.634\" x2=\"24.846\" y2=\"265.292\" stroke-linecap=\"round\" style=\"stroke:green;stroke-width:4\"/><line x1=\"24.846\" y1=\"265.292\" x2=\"26.077\" y2=\"266.868\" stroke-linecap=\"round\" style=\"stroke:green;stroke-width:4\"/><line x1=\"26.077\" y1=\"266.868\" x2=\"27.415\" y2=\"268.354\" stroke-linecap=\"round\" style=\"stroke:green;stroke-width:4\"/><line x1=\"27.415\" y1=\"268.354\" x2=\"28.854\" y2=\"269.743\" stroke-linecap=\"round\" style=\"stroke:green;stroke-width:4\"/><line x1=\"28.854\" y1=\"269.743\" x2=\"30.386\" y2=\"271.029\" stroke-linecap=\"round\" style=\"stroke:green;stroke-width:4\"/><line x1=\"30.386\" y1=\"271.029\" x2=\"32.004\" y2=\"272.205\" stroke-linecap=\"round\" style=\"stroke:green;stroke-width:4\"/><line x1=\"32.004\" y1=\"272.205\" x2=\"33.7\" y2=\"273.265\" stroke-linecap=\"round\" style=\"stroke:green;stroke-width:4\"/><line x1=\"33.7\" y1=\"273.265\" x2=\"35.466\" y2=\"274.204\" stroke-linecap=\"round\" style=\"stroke:green;stroke-width:4\"/><line x1=\"35.466\" y1=\"274.204\" x2=\"37.293\" y2=\"275.017\" stroke-linecap=\"round\" style=\"stroke:green;stroke-width:4\"/><line x1=\"37.293\" y1=\"275.017\" x2=\"39.172\" y2=\"275.701\" stroke-linecap=\"round\" style=\"stroke:green;stroke-width:4\"/><line x1=\"39.172\" y1=\"275.701\" x2=\"41.095\" y2=\"276.252\" stroke-linecap=\"round\" style=\"stroke:green;stroke-width:4\"/><line x1=\"41.095\" y1=\"276.252\" x2=\"43.051\" y2=\"276.668\" stroke-linecap=\"round\" style=\"stroke:green;stroke-width:4\"/><line x1=\"43.051\" y1=\"276.668\" x2=\"45.032\" y2=\"276.946\" stroke-linecap=\"round\" style=\"stroke:green;stroke-width:4\"/><line x1=\"45.032\" y1=\"276.946\" x2=\"47.027\" y2=\"277.086\" stroke-linecap=\"round\" style=\"stroke:green;stroke-width:4\"/><line x1=\"47.027\" y1=\"277.086\" x2=\"49.027\" y2=\"277.086\" stroke-linecap=\"round\" style=\"stroke:green;stroke-width:4\"/><line x1=\"49.027\" y1=\"277.086\" x2=\"51.022\" y2=\"276.946\" stroke-linecap=\"round\" style=\"stroke:green;stroke-width:4\"/><line x1=\"51.022\" y1=\"276.946\" x2=\"53.003\" y2=\"276.668\" stroke-linecap=\"round\" style=\"stroke:green;stroke-width:4\"/><line x1=\"53.003\" y1=\"276.668\" x2=\"54.959\" y2=\"276.252\" stroke-linecap=\"round\" style=\"stroke:green;stroke-width:4\"/><line x1=\"54.959\" y1=\"276.252\" x2=\"56.882\" y2=\"275.701\" stroke-linecap=\"round\" style=\"stroke:green;stroke-width:4\"/><line x1=\"56.882\" y1=\"275.701\" x2=\"58.761\" y2=\"275.017\" stroke-linecap=\"round\" style=\"stroke:green;stroke-width:4\"/><line x1=\"58.761\" y1=\"275.017\" x2=\"60.588\" y2=\"274.204\" stroke-linecap=\"round\" style=\"stroke:green;stroke-width:4\"/><line x1=\"60.588\" y1=\"274.204\" x2=\"62.354\" y2=\"273.265\" stroke-linecap=\"round\" style=\"stroke:green;stroke-width:4\"/><line x1=\"62.354\" y1=\"273.265\" x2=\"64.05\" y2=\"272.205\" stroke-linecap=\"round\" style=\"stroke:green;stroke-width:4\"/><line x1=\"64.05\" y1=\"272.205\" x2=\"65.668\" y2=\"271.029\" stroke-linecap=\"round\" style=\"stroke:green;stroke-width:4\"/><line x1=\"65.668\" y1=\"271.029\" x2=\"67.2\" y2=\"269.743\" stroke-linecap=\"round\" style=\"stroke:green;stroke-width:4\"/><line x1=\"67.2\" y1=\"269.743\" x2=\"74.86\" y2=\"263.315\" stroke-linecap=\"round\" style=\"stroke:green;stroke-width:4\"/><line x1=\"74.86\" y1=\"263.315\" x2=\"82.52\" y2=\"256.887\" stroke-linecap=\"round\" style=\"stroke:green;stroke-width:4\"/><line x1=\"82.52\" y1=\"256.887\" x2=\"90.18\" y2=\"250.459\" stroke-linecap=\"round\" style=\"stroke:green;stroke-width:4\"/><line x1=\"90.18\" y1=\"250.459\" x2=\"97.84\" y2=\"244.031\" stroke-linecap=\"round\" style=\"stroke:green;stroke-width:4\"/><line x1=\"97.84\" y1=\"244.031\" x2=\"105.5\" y2=\"237.603\" stroke-linecap=\"round\" style=\"stroke:green;stroke-width:4\"/><line x1=\"105.5\" y1=\"237.603\" x2=\"113.16\" y2=\"231.175\" stroke-linecap=\"round\" style=\"stroke:green;stroke-width:4\"/><line x1=\"113.16\" y1=\"231.175\" x2=\"120.82\" y2=\"224.747\" stroke-linecap=\"round\" style=\"stroke:green;stroke-width:4\"/><line x1=\"120.82\" y1=\"224.747\" x2=\"128.48\" y2=\"218.319\" stroke-linecap=\"round\" style=\"stroke:green;stroke-width:4\"/><line x1=\"128.48\" y1=\"218.319\" x2=\"136.14\" y2=\"211.891\" stroke-linecap=\"round\" style=\"stroke:green;stroke-width:4\"/><line x1=\"136.14\" y1=\"211.891\" x2=\"143.8\" y2=\"205.463\" stroke-linecap=\"round\" style=\"stroke:green;stroke-width:4\"/><line x1=\"143.8\" y1=\"205.463\" x2=\"151.46\" y2=\"199.035\" stroke-linecap=\"round\" style=\"stroke:green;stroke-width:4\"/><line x1=\"151.46\" y1=\"199.035\" x2=\"159.12\" y2=\"192.607\" stroke-linecap=\"round\" style=\"stroke:green;stroke-width:4\"/><line x1=\"159.12\" y1=\"192.607\" x2=\"166.78\" y2=\"186.179\" stroke-linecap=\"round\" style=\"stroke:green;stroke-width:4\"/><line x1=\"166.78\" y1=\"186.179\" x2=\"174.44\" y2=\"179.751\" stroke-linecap=\"round\" style=\"stroke:green;stroke-width:4\"/><line x1=\"174.44\" y1=\"179.751\" x2=\"182.1\" y2=\"173.323\" stroke-linecap=\"round\" style=\"stroke:green;stroke-width:4\"/><line x1=\"182.1\" y1=\"173.323\" x2=\"189.76\" y2=\"166.895\" stroke-linecap=\"round\" style=\"stroke:green;stroke-width:4\"/><line x1=\"189.76\" y1=\"166.895\" x2=\"197.42\" y2=\"160.467\" stroke-linecap=\"round\" style=\"stroke:green;stroke-width:4\"/><line x1=\"197.42\" y1=\"160.467\" x2=\"205.08\" y2=\"154.039\" stroke-linecap=\"round\" style=\"stroke:green;stroke-width:4\"/><line x1=\"205.08\" y1=\"154.039\" x2=\"212.74\" y2=\"147.611\" stroke-linecap=\"round\" style=\"stroke:green;stroke-width:4\"/><line x1=\"212.74\" y1=\"147.611\" x2=\"220.4\" y2=\"141.183\" stroke-linecap=\"round\" style=\"stroke:green;stroke-width:4\"/><line x1=\"220.4\" y1=\"141.183\" x2=\"228.06\" y2=\"134.755\" stroke-linecap=\"round\" style=\"stroke:green;stroke-width:4\"/><line x1=\"228.06\" y1=\"134.755\" x2=\"235.72\" y2=\"128.327\" stroke-linecap=\"round\" style=\"stroke:green;stroke-width:4\"/><line x1=\"235.72\" y1=\"128.327\" x2=\"243.38\" y2=\"121.899\" stroke-linecap=\"round\" style=\"stroke:green;stroke-width:4\"/><line x1=\"243.38\" y1=\"121.899\" x2=\"251.04\" y2=\"115.471\" stroke-linecap=\"round\" style=\"stroke:green;stroke-width:4\"/><line x1=\"251.04\" y1=\"115.471\" x2=\"258.7\" y2=\"109.043\" stroke-linecap=\"round\" style=\"stroke:green;stroke-width:4\"/><line x1=\"258.7\" y1=\"109.043\" x2=\"266.36\" y2=\"102.615\" stroke-linecap=\"round\" style=\"stroke:green;stroke-width:4\"/><line x1=\"266.36\" y1=\"102.615\" x2=\"274.02\" y2=\"96.187\" stroke-linecap=\"round\" style=\"stroke:green;stroke-width:4\"/><line x1=\"274.02\" y1=\"96.187\" x2=\"281.68\" y2=\"89.759\" stroke-linecap=\"round\" style=\"stroke:green;stroke-width:4\"/><line x1=\"281.68\" y1=\"89.759\" x2=\"289.34\" y2=\"83.331\" stroke-linecap=\"round\" style=\"stroke:green;stroke-width:4\"/><line x1=\"289.34\" y1=\"83.331\" x2=\"297.0\" y2=\"76.903\" stroke-linecap=\"round\" style=\"stroke:green;stroke-width:4\"/><line x1=\"297.0\" y1=\"76.903\" x2=\"304.66\" y2=\"70.475\" stroke-linecap=\"round\" style=\"stroke:green;stroke-width:4\"/><line x1=\"304.66\" y1=\"70.475\" x2=\"312.32\" y2=\"64.047\" stroke-linecap=\"round\" style=\"stroke:green;stroke-width:4\"/><line x1=\"312.32\" y1=\"64.047\" x2=\"319.98\" y2=\"57.619\" stroke-linecap=\"round\" style=\"stroke:green;stroke-width:4\"/><line x1=\"319.98\" y1=\"57.619\" x2=\"327.64\" y2=\"51.191\" stroke-linecap=\"round\" style=\"stroke:green;stroke-width:4\"/><line x1=\"327.64\" y1=\"51.191\" x2=\"335.3\" y2=\"44.763\" stroke-linecap=\"round\" style=\"stroke:green;stroke-width:4\"/><line x1=\"335.3\" y1=\"44.763\" x2=\"342.96\" y2=\"38.335\" stroke-linecap=\"round\" style=\"stroke:green;stroke-width:4\"/><line x1=\"342.96\" y1=\"38.335\" x2=\"350.62\" y2=\"31.907\" stroke-linecap=\"round\" style=\"stroke:green;stroke-width:4\"/><line x1=\"350.62\" y1=\"31.907\" x2=\"358.28\" y2=\"25.479\" stroke-linecap=\"round\" style=\"stroke:green;stroke-width:4\"/><line x1=\"358.28\" y1=\"25.479\" x2=\"365.94\" y2=\"19.051\" stroke-linecap=\"round\" style=\"stroke:green;stroke-width:4\"/><line x1=\"365.94\" y1=\"19.051\" x2=\"365.94\" y2=\"20\" stroke-linecap=\"round\" style=\"stroke:green;stroke-width:4\"/><line x1=\"365.94\" y1=\"20\" x2=\"367.558\" y2=\"18.824\" stroke-linecap=\"round\" style=\"stroke:red;stroke-width:4\"/><line x1=\"367.558\" y1=\"18.824\" x2=\"367.558\" y2=\"20\" stroke-linecap=\"round\" style=\"stroke:red;stroke-width:4\"/><line x1=\"367.558\" y1=\"20\" x2=\"369.539\" y2=\"20.278\" stroke-linecap=\"round\" style=\"stroke:red;stroke-width:4\"/><line x1=\"369.539\" y1=\"20.278\" x2=\"371.495\" y2=\"20.694\" stroke-linecap=\"round\" style=\"stroke:green;stroke-width:4\"/><line x1=\"371.495\" y1=\"20.694\" x2=\"373.418\" y2=\"21.245\" stroke-linecap=\"round\" style=\"stroke:green;stroke-width:4\"/><line x1=\"373.418\" y1=\"21.245\" x2=\"375.297\" y2=\"21.929\" stroke-linecap=\"round\" style=\"stroke:green;stroke-width:4\"/><line x1=\"375.297\" y1=\"21.929\" x2=\"377.124\" y2=\"22.742\" stroke-linecap=\"round\" style=\"stroke:green;stroke-width:4\"/><line x1=\"377.124\" y1=\"22.742\" x2=\"378.89\" y2=\"23.681\" stroke-linecap=\"round\" style=\"stroke:green;stroke-width:4\"/><line x1=\"378.89\" y1=\"23.681\" x2=\"380.586\" y2=\"24.741\" stroke-linecap=\"round\" style=\"stroke:green;stroke-width:4\"/><line x1=\"380.586\" y1=\"24.741\" x2=\"382.204\" y2=\"25.917\" stroke-linecap=\"round\" style=\"stroke:green;stroke-width:4\"/><line x1=\"382.204\" y1=\"25.917\" x2=\"383.736\" y2=\"27.203\" stroke-linecap=\"round\" style=\"stroke:green;stroke-width:4\"/><line x1=\"383.736\" y1=\"27.203\" x2=\"385.175\" y2=\"28.592\" stroke-linecap=\"round\" style=\"stroke:green;stroke-width:4\"/><line x1=\"385.175\" y1=\"28.592\" x2=\"386.513\" y2=\"30.078\" stroke-linecap=\"round\" style=\"stroke:green;stroke-width:4\"/><line x1=\"386.513\" y1=\"30.078\" x2=\"387.744\" y2=\"31.654\" stroke-linecap=\"round\" style=\"stroke:green;stroke-width:4\"/><line x1=\"387.744\" y1=\"31.654\" x2=\"388.862\" y2=\"33.312\" stroke-linecap=\"round\" style=\"stroke:green;stroke-width:4\"/><line x1=\"388.862\" y1=\"33.312\" x2=\"389.862\" y2=\"35.044\" stroke-linecap=\"round\" style=\"stroke:green;stroke-width:4\"/><line x1=\"389.862\" y1=\"35.044\" x2=\"390.739\" y2=\"36.842\" stroke-linecap=\"round\" style=\"stroke:green;stroke-width:4\"/><line x1=\"390.739\" y1=\"36.842\" x2=\"391.488\" y2=\"38.696\" stroke-linecap=\"round\" style=\"stroke:green;stroke-width:4\"/><line x1=\"391.488\" y1=\"38.696\" x2=\"392.106\" y2=\"40.598\" stroke-linecap=\"round\" style=\"stroke:green;stroke-width:4\"/><line x1=\"392.106\" y1=\"40.598\" x2=\"392.59\" y2=\"42.539\" stroke-linecap=\"round\" style=\"stroke:green;stroke-width:4\"/><line x1=\"392.59\" y1=\"42.539\" x2=\"392.937\" y2=\"44.509\" stroke-linecap=\"round\" style=\"stroke:green;stroke-width:4\"/><line x1=\"392.937\" y1=\"44.509\" x2=\"393.146\" y2=\"46.498\" stroke-linecap=\"round\" style=\"stroke:green;stroke-width:4\"/><line x1=\"393.146\" y1=\"46.498\" x2=\"393.216\" y2=\"48.497\" stroke-linecap=\"round\" style=\"stroke:green;stroke-width:4\"/><line x1=\"393.216\" y1=\"48.497\" x2=\"393.146\" y2=\"50.496\" stroke-linecap=\"round\" style=\"stroke:green;stroke-width:4\"/><line x1=\"393.146\" y1=\"50.496\" x2=\"392.937\" y2=\"52.485\" stroke-linecap=\"round\" style=\"stroke:green;stroke-width:4\"/><line x1=\"392.937\" y1=\"52.485\" x2=\"392.59\" y2=\"54.455\" stroke-linecap=\"round\" style=\"stroke:green;stroke-width:4\"/><line x1=\"392.59\" y1=\"54.455\" x2=\"392.106\" y2=\"56.396\" stroke-linecap=\"round\" style=\"stroke:green;stroke-width:4\"/><line x1=\"392.106\" y1=\"56.396\" x2=\"391.488\" y2=\"58.298\" stroke-linecap=\"round\" style=\"stroke:green;stroke-width:4\"/><line x1=\"391.488\" y1=\"58.298\" x2=\"390.739\" y2=\"60.152\" stroke-linecap=\"round\" style=\"stroke:green;stroke-width:4\"/><line x1=\"390.739\" y1=\"60.152\" x2=\"389.862\" y2=\"61.95\" stroke-linecap=\"round\" style=\"stroke:green;stroke-width:4\"/><line x1=\"389.862\" y1=\"61.95\" x2=\"388.862\" y2=\"63.682\" stroke-linecap=\"round\" style=\"stroke:green;stroke-width:4\"/><line x1=\"388.862\" y1=\"63.682\" x2=\"387.744\" y2=\"65.34\" stroke-linecap=\"round\" style=\"stroke:green;stroke-width:4\"/><line x1=\"387.744\" y1=\"65.34\" x2=\"386.744\" y2=\"67.072\" stroke-linecap=\"round\" style=\"stroke:green;stroke-width:4\"/><line x1=\"386.744\" y1=\"67.072\" x2=\"385.867\" y2=\"68.87\" stroke-linecap=\"round\" style=\"stroke:green;stroke-width:4\"/><line x1=\"385.867\" y1=\"68.87\" x2=\"385.118\" y2=\"70.724\" stroke-linecap=\"round\" style=\"stroke:green;stroke-width:4\"/><line x1=\"385.118\" y1=\"70.724\" x2=\"384.5\" y2=\"72.626\" stroke-linecap=\"round\" style=\"stroke:green;stroke-width:4\"/><line x1=\"384.5\" y1=\"72.626\" x2=\"384.016\" y2=\"74.567\" stroke-linecap=\"round\" style=\"stroke:green;stroke-width:4\"/><line x1=\"384.016\" y1=\"74.567\" x2=\"383.669\" y2=\"76.537\" stroke-linecap=\"round\" style=\"stroke:green;stroke-width:4\"/><line x1=\"383.669\" y1=\"76.537\" x2=\"383.46\" y2=\"78.526\" stroke-linecap=\"round\" style=\"stroke:green;stroke-width:4\"/><line x1=\"383.46\" y1=\"78.526\" x2=\"383.39\" y2=\"80.525\" stroke-linecap=\"round\" style=\"stroke:green;stroke-width:4\"/><line x1=\"383.39\" y1=\"80.525\" x2=\"383.46\" y2=\"82.524\" stroke-linecap=\"round\" style=\"stroke:green;stroke-width:4\"/><line x1=\"383.46\" y1=\"82.524\" x2=\"383.669\" y2=\"84.513\" stroke-linecap=\"round\" style=\"stroke:green;stroke-width:4\"/><line x1=\"383.669\" y1=\"84.513\" x2=\"384.714\" y2=\"94.458\" stroke-linecap=\"round\" style=\"stroke:green;stroke-width:4\"/><line x1=\"384.714\" y1=\"94.458\" x2=\"385.759\" y2=\"104.403\" stroke-linecap=\"round\" style=\"stroke:green;stroke-width:4\"/><line x1=\"385.759\" y1=\"104.403\" x2=\"386.804\" y2=\"114.348\" stroke-linecap=\"round\" style=\"stroke:green;stroke-width:4\"/><line x1=\"386.804\" y1=\"114.348\" x2=\"387.849\" y2=\"124.293\" stroke-linecap=\"round\" style=\"stroke:green;stroke-width:4\"/><line x1=\"387.849\" y1=\"124.293\" x2=\"388.894\" y2=\"134.238\" stroke-linecap=\"round\" style=\"stroke:green;stroke-width:4\"/><line x1=\"388.894\" y1=\"134.238\" x2=\"389.939\" y2=\"144.183\" stroke-linecap=\"round\" style=\"stroke:green;stroke-width:4\"/><line x1=\"389.939\" y1=\"144.183\" x2=\"390.984\" y2=\"154.128\" stroke-linecap=\"round\" style=\"stroke:green;stroke-width:4\"/><line x1=\"390.984\" y1=\"154.128\" x2=\"392.029\" y2=\"164.073\" stroke-linecap=\"round\" style=\"stroke:green;stroke-width:4\"/><line x1=\"392.029\" y1=\"164.073\" x2=\"393.074\" y2=\"174.018\" stroke-linecap=\"round\" style=\"stroke:green;stroke-width:4\"/><line x1=\"393.074\" y1=\"174.018\" x2=\"394.119\" y2=\"183.963\" stroke-linecap=\"round\" style=\"stroke:green;stroke-width:4\"/><line x1=\"394.119\" y1=\"183.963\" x2=\"395.164\" y2=\"193.908\" stroke-linecap=\"round\" style=\"stroke:green;stroke-width:4\"/><line x1=\"395.164\" y1=\"193.908\" x2=\"396.209\" y2=\"203.853\" stroke-linecap=\"round\" style=\"stroke:green;stroke-width:4\"/><line x1=\"396.209\" y1=\"203.853\" x2=\"397.254\" y2=\"213.798\" stroke-linecap=\"round\" style=\"stroke:green;stroke-width:4\"/><line x1=\"397.254\" y1=\"213.798\" x2=\"398.299\" y2=\"223.743\" stroke-linecap=\"round\" style=\"stroke:green;stroke-width:4\"/><line x1=\"398.299\" y1=\"223.743\" x2=\"399.344\" y2=\"233.688\" stroke-linecap=\"round\" style=\"stroke:green;stroke-width:4\"/><line x1=\"399.344\" y1=\"233.688\" x2=\"400.389\" y2=\"243.633\" stroke-linecap=\"round\" style=\"stroke:green;stroke-width:4\"/><line x1=\"400.389\" y1=\"243.633\" x2=\"401.434\" y2=\"253.578\" stroke-linecap=\"round\" style=\"stroke:green;stroke-width:4\"/><line x1=\"401.434\" y1=\"253.578\" x2=\"402.479\" y2=\"263.523\" stroke-linecap=\"round\" style=\"stroke:green;stroke-width:4\"/><line x1=\"402.479\" y1=\"263.523\" x2=\"403.524\" y2=\"273.468\" stroke-linecap=\"round\" style=\"stroke:green;stroke-width:4\"/><line x1=\"403.524\" y1=\"273.468\" x2=\"404.569\" y2=\"283.413\" stroke-linecap=\"round\" style=\"stroke:green;stroke-width:4\"/><line x1=\"404.569\" y1=\"283.413\" x2=\"404.916\" y2=\"285.383\" stroke-linecap=\"round\" style=\"stroke:green;stroke-width:4\"/><line x1=\"404.916\" y1=\"285.383\" x2=\"405.4\" y2=\"287.324\" stroke-linecap=\"round\" style=\"stroke:green;stroke-width:4\"/><line x1=\"405.4\" y1=\"287.324\" x2=\"406.018\" y2=\"289.226\" stroke-linecap=\"round\" style=\"stroke:green;stroke-width:4\"/><line x1=\"406.018\" y1=\"289.226\" x2=\"406.767\" y2=\"291.08\" stroke-linecap=\"round\" style=\"stroke:green;stroke-width:4\"/><line x1=\"406.767\" y1=\"291.08\" x2=\"407.644\" y2=\"292.878\" stroke-linecap=\"round\" style=\"stroke:green;stroke-width:4\"/><line x1=\"407.644\" y1=\"292.878\" x2=\"408.644\" y2=\"294.61\" stroke-linecap=\"round\" style=\"stroke:green;stroke-width:4\"/><line x1=\"408.644\" y1=\"294.61\" x2=\"409.762\" y2=\"296.268\" stroke-linecap=\"round\" style=\"stroke:green;stroke-width:4\"/><line x1=\"409.762\" y1=\"296.268\" x2=\"410.993\" y2=\"297.844\" stroke-linecap=\"round\" style=\"stroke:green;stroke-width:4\"/><line x1=\"410.993\" y1=\"297.844\" x2=\"412.331\" y2=\"299.33\" stroke-linecap=\"round\" style=\"stroke:green;stroke-width:4\"/><line x1=\"412.331\" y1=\"299.33\" x2=\"413.77\" y2=\"300.719\" stroke-linecap=\"round\" style=\"stroke:green;stroke-width:4\"/><line x1=\"413.77\" y1=\"300.719\" x2=\"420.963\" y2=\"307.666\" stroke-linecap=\"round\" style=\"stroke:green;stroke-width:4\"/><line x1=\"420.963\" y1=\"307.666\" x2=\"428.156\" y2=\"314.613\" stroke-linecap=\"round\" style=\"stroke:green;stroke-width:4\"/><line x1=\"428.156\" y1=\"314.613\" x2=\"435.349\" y2=\"321.56\" stroke-linecap=\"round\" style=\"stroke:green;stroke-width:4\"/><line x1=\"435.349\" y1=\"321.56\" x2=\"442.542\" y2=\"328.507\" stroke-linecap=\"round\" style=\"stroke:green;stroke-width:4\"/><line x1=\"442.542\" y1=\"328.507\" x2=\"449.735\" y2=\"335.454\" stroke-linecap=\"round\" style=\"stroke:green;stroke-width:4\"/><line x1=\"449.735\" y1=\"335.454\" x2=\"456.928\" y2=\"342.401\" stroke-linecap=\"round\" style=\"stroke:green;stroke-width:4\"/><line x1=\"456.928\" y1=\"342.401\" x2=\"464.121\" y2=\"349.348\" stroke-linecap=\"round\" style=\"stroke:green;stroke-width:4\"/><line x1=\"464.121\" y1=\"349.348\" x2=\"471.314\" y2=\"356.295\" stroke-linecap=\"round\" style=\"stroke:green;stroke-width:4\"/><line x1=\"471.314\" y1=\"356.295\" x2=\"478.507\" y2=\"363.242\" stroke-linecap=\"round\" style=\"stroke:green;stroke-width:4\"/><line x1=\"478.507\" y1=\"363.242\" x2=\"485.7\" y2=\"370.189\" stroke-linecap=\"round\" style=\"stroke:green;stroke-width:4\"/><line x1=\"485.7\" y1=\"370.189\" x2=\"487.038\" y2=\"371.675\" stroke-linecap=\"round\" style=\"stroke:green;stroke-width:4\"/><line x1=\"487.038\" y1=\"371.675\" x2=\"488.269\" y2=\"373.251\" stroke-linecap=\"round\" style=\"stroke:green;stroke-width:4\"/><line x1=\"488.269\" y1=\"373.251\" x2=\"489.387\" y2=\"374.909\" stroke-linecap=\"round\" style=\"stroke:green;stroke-width:4\"/><line x1=\"489.387\" y1=\"374.909\" x2=\"490.387\" y2=\"376.641\" stroke-linecap=\"round\" style=\"stroke:green;stroke-width:4\"/><line x1=\"490.387\" y1=\"376.641\" x2=\"491.264\" y2=\"378.439\" stroke-linecap=\"round\" style=\"stroke:green;stroke-width:4\"/><line x1=\"491.264\" y1=\"378.439\" x2=\"492.013\" y2=\"380.293\" stroke-linecap=\"round\" style=\"stroke:green;stroke-width:4\"/><line x1=\"492.013\" y1=\"380.293\" x2=\"492.631\" y2=\"382.195\" stroke-linecap=\"round\" style=\"stroke:green;stroke-width:4\"/><line x1=\"492.631\" y1=\"382.195\" x2=\"493.115\" y2=\"384.136\" stroke-linecap=\"round\" style=\"stroke:green;stroke-width:4\"/><line x1=\"493.115\" y1=\"384.136\" x2=\"493.462\" y2=\"386.106\" stroke-linecap=\"round\" style=\"stroke:green;stroke-width:4\"/><line x1=\"493.462\" y1=\"386.106\" x2=\"493.671\" y2=\"388.095\" stroke-linecap=\"round\" style=\"stroke:green;stroke-width:4\"/><line x1=\"493.671\" y1=\"388.095\" x2=\"494.018\" y2=\"390.065\" stroke-linecap=\"round\" style=\"stroke:green;stroke-width:4\"/><line x1=\"494.018\" y1=\"390.065\" x2=\"494.502\" y2=\"392.006\" stroke-linecap=\"round\" style=\"stroke:green;stroke-width:4\"/><line x1=\"494.502\" y1=\"392.006\" x2=\"495.12\" y2=\"393.908\" stroke-linecap=\"round\" style=\"stroke:green;stroke-width:4\"/><line x1=\"495.12\" y1=\"393.908\" x2=\"495.869\" y2=\"395.762\" stroke-linecap=\"round\" style=\"stroke:green;stroke-width:4\"/><line x1=\"495.869\" y1=\"395.762\" x2=\"496.746\" y2=\"397.56\" stroke-linecap=\"round\" style=\"stroke:green;stroke-width:4\"/><line x1=\"496.746\" y1=\"397.56\" x2=\"497.746\" y2=\"399.292\" stroke-linecap=\"round\" style=\"stroke:green;stroke-width:4\"/><line x1=\"497.746\" y1=\"399.292\" x2=\"498.864\" y2=\"400.95\" stroke-linecap=\"round\" style=\"stroke:green;stroke-width:4\"/><line x1=\"498.864\" y1=\"400.95\" x2=\"500.095\" y2=\"402.526\" stroke-linecap=\"round\" style=\"stroke:green;stroke-width:4\"/><line x1=\"500.095\" y1=\"402.526\" x2=\"501.433\" y2=\"404.012\" stroke-linecap=\"round\" style=\"stroke:green;stroke-width:4\"/><line x1=\"501.433\" y1=\"404.012\" x2=\"502.872\" y2=\"405.401\" stroke-linecap=\"round\" style=\"stroke:green;stroke-width:4\"/><line x1=\"502.872\" y1=\"405.401\" x2=\"504.404\" y2=\"406.687\" stroke-linecap=\"round\" style=\"stroke:green;stroke-width:4\"/><line x1=\"504.404\" y1=\"406.687\" x2=\"506.022\" y2=\"407.863\" stroke-linecap=\"round\" style=\"stroke:green;stroke-width:4\"/><line x1=\"506.022\" y1=\"407.863\" x2=\"507.718\" y2=\"408.923\" stroke-linecap=\"round\" style=\"stroke:green;stroke-width:4\"/><line x1=\"507.718\" y1=\"408.923\" x2=\"509.484\" y2=\"409.862\" stroke-linecap=\"round\" style=\"stroke:green;stroke-width:4\"/><line x1=\"509.484\" y1=\"409.862\" x2=\"511.311\" y2=\"410.675\" stroke-linecap=\"round\" style=\"stroke:green;stroke-width:4\"/><line x1=\"511.311\" y1=\"410.675\" x2=\"513.19\" y2=\"411.359\" stroke-linecap=\"round\" style=\"stroke:green;stroke-width:4\"/><line x1=\"513.19\" y1=\"411.359\" x2=\"515.113\" y2=\"411.91\" stroke-linecap=\"round\" style=\"stroke:green;stroke-width:4\"/><line x1=\"515.113\" y1=\"411.91\" x2=\"517.069\" y2=\"412.326\" stroke-linecap=\"round\" style=\"stroke:green;stroke-width:4\"/><line x1=\"517.069\" y1=\"412.326\" x2=\"519.05\" y2=\"412.604\" stroke-linecap=\"round\" style=\"stroke:green;stroke-width:4\"/><line x1=\"519.05\" y1=\"412.604\" x2=\"521.045\" y2=\"412.744\" stroke-linecap=\"round\" style=\"stroke:green;stroke-width:4\"/><line x1=\"521.045\" y1=\"412.744\" x2=\"523.026\" y2=\"413.022\" stroke-linecap=\"round\" style=\"stroke:green;stroke-width:4\"/><line x1=\"523.026\" y1=\"413.022\" x2=\"524.982\" y2=\"413.438\" stroke-linecap=\"round\" style=\"stroke:green;stroke-width:4\"/><line x1=\"524.982\" y1=\"413.438\" x2=\"526.905\" y2=\"413.989\" stroke-linecap=\"round\" style=\"stroke:green;stroke-width:4\"/><line x1=\"526.905\" y1=\"413.989\" x2=\"528.784\" y2=\"414.673\" stroke-linecap=\"round\" style=\"stroke:green;stroke-width:4\"/><line x1=\"528.784\" y1=\"414.673\" x2=\"530.611\" y2=\"415.486\" stroke-linecap=\"round\" style=\"stroke:green;stroke-width:4\"/><line x1=\"530.611\" y1=\"415.486\" x2=\"532.377\" y2=\"416.425\" stroke-linecap=\"round\" style=\"stroke:green;stroke-width:4\"/><line x1=\"532.377\" y1=\"416.425\" x2=\"534.073\" y2=\"417.485\" stroke-linecap=\"round\" style=\"stroke:green;stroke-width:4\"/><line x1=\"534.073\" y1=\"417.485\" x2=\"535.691\" y2=\"418.661\" stroke-linecap=\"round\" style=\"stroke:green;stroke-width:4\"/><line x1=\"535.691\" y1=\"418.661\" x2=\"537.223\" y2=\"419.947\" stroke-linecap=\"round\" style=\"stroke:green;stroke-width:4\"/><line x1=\"537.223\" y1=\"419.947\" x2=\"538.662\" y2=\"421.336\" stroke-linecap=\"round\" style=\"stroke:green;stroke-width:4\"/><line x1=\"538.662\" y1=\"421.336\" x2=\"540.194\" y2=\"422.622\" stroke-linecap=\"round\" style=\"stroke:green;stroke-width:4\"/><line x1=\"540.194\" y1=\"422.622\" x2=\"541.812\" y2=\"423.798\" stroke-linecap=\"round\" style=\"stroke:green;stroke-width:4\"/><line x1=\"541.812\" y1=\"423.798\" x2=\"543.508\" y2=\"424.858\" stroke-linecap=\"round\" style=\"stroke:green;stroke-width:4\"/><line x1=\"543.508\" y1=\"424.858\" x2=\"545.274\" y2=\"425.797\" stroke-linecap=\"round\" style=\"stroke:green;stroke-width:4\"/><line x1=\"545.274\" y1=\"425.797\" x2=\"547.101\" y2=\"426.61\" stroke-linecap=\"round\" style=\"stroke:green;stroke-width:4\"/><line x1=\"547.101\" y1=\"426.61\" x2=\"548.98\" y2=\"427.294\" stroke-linecap=\"round\" style=\"stroke:green;stroke-width:4\"/><line x1=\"548.98\" y1=\"427.294\" x2=\"550.903\" y2=\"427.845\" stroke-linecap=\"round\" style=\"stroke:green;stroke-width:4\"/><line x1=\"550.903\" y1=\"427.845\" x2=\"552.859\" y2=\"428.261\" stroke-linecap=\"round\" style=\"stroke:green;stroke-width:4\"/><line x1=\"552.859\" y1=\"428.261\" x2=\"554.84\" y2=\"428.539\" stroke-linecap=\"round\" style=\"stroke:green;stroke-width:4\"/><line x1=\"554.84\" y1=\"428.539\" x2=\"556.835\" y2=\"428.679\" stroke-linecap=\"round\" style=\"stroke:green;stroke-width:4\"/>\n",
       "        <g visibility=visible transform=\"rotate(94,556.835,428.679) translate(538.835, 410.679)\">\n",
       "<path style=\" stroke:none;fill-rule:evenodd;fill:green;fill-opacity:1;\" d=\"M 18.214844 0.632812 C 16.109375 1.800781 15.011719 4.074219 15.074219 7.132812 L 15.085938 7.652344 L 14.785156 7.496094 C 13.476562 6.824219 11.957031 6.671875 10.40625 7.066406 C 8.46875 7.550781 6.515625 9.15625 4.394531 11.992188 C 3.0625 13.777344 2.679688 14.636719 3.042969 15.027344 L 3.15625 15.152344 L 3.519531 15.152344 C 4.238281 15.152344 4.828125 14.886719 8.1875 13.039062 C 9.386719 12.378906 10.371094 11.839844 10.378906 11.839844 C 10.386719 11.839844 10.355469 11.929688 10.304688 12.035156 C 9.832031 13.09375 9.257812 14.820312 8.96875 16.078125 C 7.914062 20.652344 8.617188 24.53125 11.070312 27.660156 C 11.351562 28.015625 11.363281 27.914062 10.972656 28.382812 C 8.925781 30.84375 7.945312 33.28125 8.238281 35.1875 C 8.289062 35.527344 8.28125 35.523438 8.917969 35.523438 C 10.941406 35.523438 13.074219 34.207031 15.136719 31.6875 C 15.359375 31.417969 15.328125 31.425781 15.5625 31.574219 C 16.292969 32.042969 18.023438 32.964844 18.175781 32.964844 C 18.335938 32.964844 19.941406 32.210938 20.828125 31.71875 C 20.996094 31.625 21.136719 31.554688 21.136719 31.558594 C 21.203125 31.664062 21.898438 32.414062 22.222656 32.730469 C 23.835938 34.300781 25.5625 35.132812 27.582031 35.300781 C 27.90625 35.328125 27.9375 35.308594 28.007812 34.984375 C 28.382812 33.242188 27.625 30.925781 25.863281 28.425781 L 25.542969 27.96875 L 25.699219 27.785156 C 28.945312 23.960938 29.132812 18.699219 26.257812 11.96875 L 26.207031 11.84375 L 27.945312 12.703125 C 31.53125 14.476562 32.316406 14.800781 33.03125 14.800781 C 33.976562 14.800781 33.78125 13.9375 32.472656 12.292969 C 28.519531 7.355469 25.394531 5.925781 21.921875 7.472656 L 21.558594 7.636719 L 21.578125 7.542969 C 21.699219 6.992188 21.761719 5.742188 21.699219 5.164062 C 21.496094 3.296875 20.664062 1.964844 19.003906 0.855469 C 18.480469 0.503906 18.457031 0.5 18.214844 0.632812\"/>\n",
       "</g>\n",
       "      </svg>\n",
       "    "
      ]
     },
     "metadata": {},
     "output_type": "display_data"
    },
    {
     "name": "stdout",
     "output_type": "stream",
     "text": [
      "Action: 0, Prediction: 0, Outcome: 0, Prediction: True, Valence: -1, Bored: False\n",
      "Action: 0, Prediction: 0, Outcome: 0, Prediction: True, Valence: -1, Bored: False\n",
      "Action: 0, Prediction: 0, Outcome: 0, Prediction: True, Valence: -1, Bored: False\n",
      "Action: 0, Prediction: 0, Outcome: 1, Prediction: False, Valence: -1, Bored: False\n",
      "Action: 0, Prediction: 1, Outcome: 1, Prediction: True, Valence: -1, Bored: False\n",
      "Action: 0, Prediction: 1, Outcome: 1, Prediction: True, Valence: -1, Bored: False\n",
      "Action: 0, Prediction: 1, Outcome: 1, Prediction: True, Valence: -1, Bored: False\n",
      "Action: 0, Prediction: 1, Outcome: 1, Prediction: True, Valence: -1, Bored: True\n",
      "Action: 2, Prediction: 0, Outcome: 1, Prediction: False, Valence: 1, Bored: False\n",
      "Action: 2, Prediction: 1, Outcome: 1, Prediction: True, Valence: 1, Bored: False\n",
      "Action: 2, Prediction: 1, Outcome: 0, Prediction: False, Valence: -1, Bored: False\n",
      "Action: 0, Prediction: 1, Outcome: 0, Prediction: False, Valence: -1, Bored: False\n",
      "Action: 2, Prediction: 0, Outcome: 0, Prediction: True, Valence: -1, Bored: False\n",
      "Action: 2, Prediction: 0, Outcome: 0, Prediction: True, Valence: -1, Bored: False\n",
      "Action: 0, Prediction: 0, Outcome: 0, Prediction: True, Valence: -1, Bored: False\n",
      "Action: 0, Prediction: 0, Outcome: 0, Prediction: True, Valence: -1, Bored: True\n",
      "Action: 1, Prediction: 0, Outcome: 0, Prediction: True, Valence: -1, Bored: False\n",
      "Action: 0, Prediction: 0, Outcome: 0, Prediction: True, Valence: -1, Bored: False\n",
      "Action: 2, Prediction: 0, Outcome: 0, Prediction: True, Valence: -1, Bored: False\n",
      "Action: 1, Prediction: 0, Outcome: 0, Prediction: True, Valence: -1, Bored: True\n",
      "Action: 2, Prediction: 0, Outcome: 0, Prediction: True, Valence: -1, Bored: False\n",
      "Action: 1, Prediction: 0, Outcome: 0, Prediction: True, Valence: -1, Bored: False\n",
      "Action: 2, Prediction: 0, Outcome: 0, Prediction: True, Valence: -1, Bored: False\n",
      "Action: 0, Prediction: 0, Outcome: 0, Prediction: True, Valence: -1, Bored: True\n",
      "Action: 1, Prediction: 0, Outcome: 0, Prediction: True, Valence: -1, Bored: False\n",
      "Action: 0, Prediction: 0, Outcome: 0, Prediction: True, Valence: -1, Bored: False\n",
      "Action: 0, Prediction: 0, Outcome: 1, Prediction: False, Valence: -1, Bored: False\n",
      "Action: 1, Prediction: 0, Outcome: 1, Prediction: False, Valence: 1, Bored: False\n",
      "Action: 1, Prediction: 1, Outcome: 1, Prediction: True, Valence: 1, Bored: False\n",
      "Action: 1, Prediction: 1, Outcome: 0, Prediction: False, Valence: -1, Bored: False\n",
      "Action: 1, Prediction: 0, Outcome: 0, Prediction: True, Valence: -1, Bored: False\n",
      "Action: 1, Prediction: 0, Outcome: 0, Prediction: True, Valence: -1, Bored: False\n",
      "Action: 0, Prediction: 1, Outcome: 0, Prediction: False, Valence: -1, Bored: False\n",
      "Action: 0, Prediction: 0, Outcome: 0, Prediction: True, Valence: -1, Bored: False\n",
      "Action: 0, Prediction: 0, Outcome: 0, Prediction: True, Valence: -1, Bored: False\n",
      "Action: 0, Prediction: 0, Outcome: 1, Prediction: False, Valence: -1, Bored: False\n",
      "Action: 2, Prediction: 0, Outcome: 1, Prediction: False, Valence: 1, Bored: False\n",
      "Action: 2, Prediction: 1, Outcome: 0, Prediction: False, Valence: -1, Bored: False\n",
      "Action: 2, Prediction: 0, Outcome: 0, Prediction: True, Valence: -1, Bored: False\n",
      "Action: 2, Prediction: 0, Outcome: 0, Prediction: True, Valence: -1, Bored: False\n",
      "Action: 1, Prediction: 0, Outcome: 0, Prediction: True, Valence: -1, Bored: False\n",
      "Action: 0, Prediction: 1, Outcome: 0, Prediction: False, Valence: -1, Bored: False\n",
      "Action: 0, Prediction: 0, Outcome: 0, Prediction: True, Valence: -1, Bored: False\n",
      "Action: 1, Prediction: 0, Outcome: 0, Prediction: True, Valence: -1, Bored: False\n",
      "Action: 0, Prediction: 0, Outcome: 0, Prediction: True, Valence: -1, Bored: False\n",
      "Action: 2, Prediction: 0, Outcome: 0, Prediction: True, Valence: -1, Bored: True\n",
      "Action: 1, Prediction: 0, Outcome: 0, Prediction: True, Valence: -1, Bored: False\n",
      "Action: 1, Prediction: 0, Outcome: 0, Prediction: True, Valence: -1, Bored: False\n",
      "Action: 2, Prediction: 0, Outcome: 0, Prediction: True, Valence: -1, Bored: False\n"
     ]
    }
   ],
   "execution_count": 87
  },
  {
   "cell_type": "markdown",
   "id": "ac15a134-34a6-4039-9b43-f8fd76d93b5e",
   "metadata": {},
   "source": [
    "## Report "
   ]
  },
  {
   "cell_type": "markdown",
   "id": "2e661c15-c1ed-4512-a1d9-0fbdb8f91879",
   "metadata": {},
   "source": [
    "Explain what you programmed and what results you observed. Export this document as PDF including your code, the traces you obtained, and your explanations below (no more than a few paragraphs):"
   ]
  },
  {
   "metadata": {},
   "cell_type": "markdown",
   "source": [
    "# Rapport — Agent 3\n",
    "\n",
    "## Exercice préliminaire : Agent2 dans TurtlePy\n",
    "\n",
    "Avec l'agent2, la tortue ne peut qu'avancer ou tourner à gauche.\n",
    "Elle ne peut jamais tourner à droite, donc elle a moins de possibilités de mouvement.\n",
    "Quand elle touche un mur, elle tourne toujours dans le même sens et à plus de chance de rester bloquée dans un coin.\n",
    "\n",
    "## Objectif\n",
    "\n",
    "\n",
    "L’objectif principal de cette partie était d’améliorer Agent2 pour l’adapter à l’environnement TurtlePy afin qu’il évite au maximum de rester bloqué contre les murs.\n",
    "\n",
    "Pour cela, nous avons implémenté Agent3 en étendant Agent2 afin de gérer trois actions au lieu de deux :\n",
    "\n",
    "- Action 0 : Avancer\n",
    "- Action 1 : Tourner à gauche\n",
    "- Action 2 : Tourner à droite\n",
    "\n",
    "L’agent utilise les mêmes mécanismes qu’Agent2 :\n",
    "- Mémoire des outcomes,\n",
    "- Anticipation à partir de cette mémoire,\n",
    "- Décision basée sur la valence (choisit l’action à valence anticipée maximale),\n",
    "- Gestion de l’ennui (changement d’action après 4 prédictions correctes consécutives).\n",
    "\n",
    "##  Améliorations et tentatives d’optimisation dans le code\n",
    "\n",
    "### Tirage aléatoire en cas d’égalité de valence\n",
    "\n",
    "Si plusieurs actions ont la même valence maximale, l’agent effectue désormais un tirage aléatoire équitable parmi elles.\n",
    "Cette amélioration empêche l’agent de sélectionner systématiquement la première action rencontrée et de rester bloqué dessus lorsqu’elle a la même valence que d’autres. Cela rend son comportement plus flexible et lui permet d’explorer davantage l’environnement.\n",
    "\n",
    "### Test de variation de l’ennui avec epsilon\n",
    "\n",
    "Nous avons également testé une variation de l’ennui avec une variable epsilon, afin de rendre le comportement de l’agent plus aléatoire et dynamique.\n",
    "Cependant, les résultats n’étaient pas concluants et cette approche a été abandonnée dans la version finale de l’Agent3.\n",
    "\n",
    "## Analyse des comportements observés\n",
    "\n",
    "### Cas 1 — (`valences = [[ 1, -1],[ -1, 1],[ -1, 1]]`)\n",
    "\n",
    "Dans cette configuration, les actions `1` et `2` (tourner à gauche ou à droite) offrent la même valence positive +1 lorsqu’elles sont utilisées après une collision. Cela donne à l’agent la possibilité de tourner dès qu’il tape un mur.\n",
    "\n",
    "Au début, l’agent n’a aucune information sur les actions disponibles. Il commence naturellement par l’action `0` (avancer), qui lui donne une valence positive tant qu’il ne rencontre pas d’obstacle. Lorsque la tortue se cogne contre le bord, la valence de l’action `0` devient négative, mais comme les actions `1` et `2` n’ont pas encore été essayées, l’agent continue à avancer. Il reste donc bloqué contre le mur jusqu’à atteindre le seuil d’ennui.\n",
    "\n",
    "Une fois ce seuil atteint, l’agent choisit aléatoirement entre les actions `1` et `2` dans notre cas `1`. Cela lui permet de découvrir une nouvelle action de rotation et de se dégager de l’obstacle. Par la suite, il alterne entre avancer (`0`) et tourner (`1`) selon la situation rencontrée. Grâce au même mécanisme d’ennui, il finit aussi par tester la deuxième action de rotation.\n",
    "\n",
    "Le fait que les actions `1` et `2` aient la même valence maximale permet au tirage aléatoire d’éviter que l’agent reste fixé sur une seule direction lorsque qu'il rentre en collision avec un mur. Ce comportement rend la navigation moins rigide et améliore sa capacité à éviter de rester bloqué contre les murs.\n",
    "\n",
    "\n",
    "### Cas 2 — (`valences = [[ -1, -1],[ -1, 1],[ -1, 1]]`)\n",
    "\n",
    "Dans ce scénario, l’action `0` (avancer) a une valence négative dans toutes les situations, que ce soit en avançant librement ou en heurtant un mur. En revanche, les actions `1` et `2` (tourner à gauche et à droite) ont une valence positive lorsqu’elles sont utilisées après une collision.\n",
    "\n",
    "Au début, l’agent ne connaît aucune action et commence donc naturellement par l’action `0`. Comme cette action est toujours associée à une valence négative, il accumule rapidement des interactions négatives. Malgré cela, il persiste sur cette action puisqu’il n’a encore rien appris sur les autres.\n",
    "\n",
    "Lorsque le seuil d’ennui est atteint, il explore aléatoirement une autre action, soit `1` soit `2` dans notre cas `2`. C’est à ce moment qu’il découvre une valence positive lorsqu’il tourne après une collision, ce qui en fait une meilleure option que l’action `0` dans ces situations. Par la suite, grâce à de nouveaux épisodes d’ennui, il finit par découvrir la deuxième action de rotation restante `1`.\n",
    "\n",
    "Une fois qu’il a mémorisé les trois actions, son comportement devient plus varié. En dehors des collisions, toutes les actions ont une valence égale à `-1`, ce qui entraîne un tirage aléatoire entre elles. Cela permet d’éviter un comportement déterministe et rend sa trajectoire plus vivante et moins linéaire.\n",
    "\n",
    "De plus, grâce aux valences positives des actions gauche et droite lors des collisions, l’agent est capable de se débloquer efficacement lorsqu’il rencontre un mur. Il peut ainsi continuer à explorer l’environnement tout en conservant des trajectoires dynamiques et variées.\n",
    "\n",
    "\n",
    "\n",
    "## Conclusion\n",
    "\n",
    "En résumé, l’agent commence avec une stratégie simple consistant à avancer. Grâce au mécanisme d’ennui et au tirage aléatoire, il découvre progressivement les actions de rotation, ce qui lui permet d’adopter un comportement plus flexible et mieux adapté à l’environnement TurtlePy.\n",
    "\n",
    "La première configuration de valences (`[[ 1, -1],[ -1, 1],[ -1, 1]]`) est efficace. Elle encourage l’agent à avancer lorsqu’il n’y a pas d’obstacle et à changer de direction lorsqu’il rencontre un mur. Cela donne des trajectoires simples et efficaces.\n",
    "\n",
    "La deuxième configuration (`[[ -1, -1],[ -1, 1],[ -1, 1]]`) est encore plus intéressante. Elle permet à l’agent d’avoir des trajectoires plus naturelles et moins robotiques, en alternant plus souvent entre les différentes actions. Elle permet aussi la capacité de l’agent à se débloquer contre les murs tout en explorant l’environnement de manière plus variée.\n",
    "\n",
    "\n",
    "\n",
    "\n",
    "\n"
   ],
   "id": "d762755ecb187b7f"
  }
 ],
 "metadata": {
  "kernelspec": {
   "display_name": "env",
   "language": "python",
   "name": "python3"
  },
  "language_info": {
   "codemirror_mode": {
    "name": "ipython",
    "version": 3
   },
   "file_extension": ".py",
   "mimetype": "text/x-python",
   "name": "python",
   "nbconvert_exporter": "python",
   "pygments_lexer": "ipython3",
   "version": "3.13.5"
  }
 },
 "nbformat": 4,
 "nbformat_minor": 5
}
