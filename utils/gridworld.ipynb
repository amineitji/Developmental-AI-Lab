{
 "cells": [
  {
   "cell_type": "markdown",
   "id": "326dd0ab-20f3-4bae-a302-eeda28e4f889",
   "metadata": {},
   "source": [
    "[![Open In Colab](https://colab.research.google.com/assets/colab-badge.svg)](https://colab.research.google.com/github/OlivierGeorgeon/Developmental-AI-Lab/blob/master/utils/gridworld.ipynb)"
   ]
  },
  {
   "cell_type": "markdown",
   "id": "af3d2652-450b-46de-b3e1-1c4b83afbb41",
   "metadata": {},
   "source": [
    "# A simple gridworld"
   ]
  },
  {
   "cell_type": "markdown",
   "id": "5aec1ad9-953f-4506-b518-13af854f01a5",
   "metadata": {},
   "source": [
    "This notebook provides an example gridword based on matplotlib and iPyWidgets that works in a jypyter notebook."
   ]
  },
  {
   "cell_type": "code",
   "execution_count": 2,
   "id": "918af0de",
   "metadata": {},
   "outputs": [
    {
     "data": {
      "application/vnd.jupyter.widget-view+json": {
       "model_id": "8794d3e64c864463bae38c2cea110880",
       "version_major": 2,
       "version_minor": 0
      },
      "text/plain": [
       "Output()"
      ]
     },
     "metadata": {},
     "output_type": "display_data"
    },
    {
     "name": "stdout",
     "output_type": "stream",
     "text": [
      "The end\n"
     ]
    }
   ],
   "source": [
    "# Import necessary libraries\n",
    "import numpy as np\n",
    "import matplotlib.pyplot as plt\n",
    "from ipywidgets import Output\n",
    "from IPython.display import display\n",
    "import time\n",
    "\n",
    "# Set up grid size and initial position of the agent\n",
    "grid_size = 5\n",
    "agent_position = [2, 2]  # Starting position of the agent at the center\n",
    "\n",
    "# Output widget for displaying the plot\n",
    "out = Output()\n",
    "\n",
    "# Function to initialize the grid and agent\n",
    "def create_grid(agent_position):\n",
    "    grid = np.zeros((grid_size, grid_size))\n",
    "    grid[agent_position[0], agent_position[1]] = 1  # Mark agent's position\n",
    "    return grid\n",
    "\n",
    "# Function to display the grid world using matplotlib\n",
    "def plot_grid(agent_position):\n",
    "    grid = create_grid(agent_position)\n",
    "    \n",
    "    # Clear the previous output and plot the new grid\n",
    "    out.clear_output(wait=True)\n",
    "    with out:\n",
    "        fig, ax = plt.subplots()\n",
    "        ax.imshow(grid, cmap='Greys', vmin=0, vmax=1)\n",
    "        ax.set_xticks(np.arange(-0.5, grid_size, 1), minor=True)\n",
    "        ax.set_yticks(np.arange(-0.5, grid_size, 1), minor=True)\n",
    "        ax.grid(which=\"minor\", color=\"black\", linestyle='-', linewidth=2)\n",
    "        plt.show()\n",
    "\n",
    "# Function to update agent's position with random movement\n",
    "def random_move(agent_position):\n",
    "    direction = np.random.choice(['up', 'down', 'left', 'right'])\n",
    "    \n",
    "    if direction == 'up' and agent_position[0] > 0:\n",
    "        agent_position[0] -= 1\n",
    "    elif direction == 'down' and agent_position[0] < grid_size - 1:\n",
    "        agent_position[0] += 1\n",
    "    elif direction == 'left' and agent_position[1] > 0:\n",
    "        agent_position[1] -= 1\n",
    "    elif direction == 'right' and agent_position[1] < grid_size - 1:\n",
    "        agent_position[1] += 1\n",
    "\n",
    "    return agent_position\n",
    "\n",
    "# Function to run the simulation for 10 cycles\n",
    "def run_simulation(cycles=10, delay=0.5):\n",
    "    for _ in range(cycles):\n",
    "        agent_position[:] = random_move(agent_position)\n",
    "        plot_grid(agent_position)\n",
    "        time.sleep(delay)  # Adjust the delay to control the speed\n",
    "\n",
    "# Display the output widget for the grid\n",
    "display(out)\n",
    "\n",
    "# Plot the initial grid world\n",
    "plot_grid(agent_position)\n",
    "\n",
    "# Run the simulation for 10 cycles\n",
    "run_simulation(cycles=10, delay=0.5)  # 10 cycles with a 0.5-second delay between each movement\n",
    "print(\"The end\")"
   ]
  },
  {
   "cell_type": "code",
   "execution_count": null,
   "id": "68570717-ff61-41ea-9c65-b7c48e61821e",
   "metadata": {},
   "outputs": [],
   "source": []
  },
  {
   "cell_type": "code",
   "execution_count": null,
   "id": "ddc5a5d5-b0e0-4e59-a082-ef94aeb82611",
   "metadata": {},
   "outputs": [],
   "source": []
  },
  {
   "cell_type": "code",
   "execution_count": null,
   "id": "59d0c24c-563f-482f-b488-327a6a37dcd0",
   "metadata": {},
   "outputs": [],
   "source": []
  },
  {
   "cell_type": "code",
   "execution_count": null,
   "id": "fbd3a6e4-da51-404c-acf7-f50319a20785",
   "metadata": {},
   "outputs": [],
   "source": []
  }
 ],
 "metadata": {
  "kernelspec": {
   "display_name": "env",
   "language": "python",
   "name": "python3"
  },
  "language_info": {
   "codemirror_mode": {
    "name": "ipython",
    "version": 3
   },
   "file_extension": ".py",
   "mimetype": "text/x-python",
   "name": "python",
   "nbconvert_exporter": "python",
   "pygments_lexer": "ipython3",
   "version": "3.13.5"
  }
 },
 "nbformat": 4,
 "nbformat_minor": 5
}
